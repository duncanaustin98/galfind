{
 "cells": [
  {
   "cell_type": "code",
   "execution_count": null,
   "metadata": {},
   "outputs": [],
   "source": [
    "# load in galfind catalogue object\n",
    "\n",
    "import astropy.units as u\n",
    "\n",
    "from galfind import Catalogue, GALFIND_Catalogue_Creator, EAZY\n",
    "\n",
    "def make_EAZY_SED_fit_params_arr(SED_code_arr, templates_arr, lowz_zmax_arr):\n",
    "    return [{\"code\": code, \"templates\": templates, \"lowz_zmax\": lowz_zmax} \\\n",
    "        for code, templates, lowz_zmaxs in zip(SED_code_arr, templates_arr, lowz_zmax_arr) for lowz_zmax in lowz_zmaxs]\n",
    "\n",
    "survey = \"NGDEEP2\"\n",
    "version = \"v11\"\n",
    "instruments = [\"NIRCam\"]\n",
    "aper_diams = [0.32] * u.arcsec\n",
    "cat_type = \"loc_depth\"\n",
    "SED_code_arr = [EAZY()]\n",
    "templates_arr = [\"fsps_larson\"] #[\"fsps\", \"fsps_larson\", \"fsps_jades\"]\n",
    "lowz_zmax_arr = [[4., 6., None]] #, [4., 6.], [4., 6.]]\n",
    "min_flux_pc_errs = 10\n",
    "forced_phot_band = [\"F277W\", \"F356W\", \"F444W\"]\n",
    "excl_bands = []\n",
    "select_by = None\n",
    "\n",
    "SED_fit_params_arr = make_EAZY_SED_fit_params_arr(SED_code_arr, templates_arr, lowz_zmax_arr)\n",
    "\n",
    "# make appropriate galfind catalogue creator for each aperture diameter\n",
    "cat_creator = GALFIND_Catalogue_Creator(cat_type, aper_diams[0], min_flux_pc_errs)\n",
    "cat = Catalogue.from_pipeline(survey = survey, version = version, instruments = instruments, aper_diams = aper_diams, \\\n",
    "    cat_creator = cat_creator, SED_fit_params_arr = SED_fit_params_arr, forced_phot_band = forced_phot_band, \\\n",
    "    excl_bands = excl_bands, loc_depth_min_flux_pc_errs = [min_flux_pc_errs], select_by = select_by)\n"
   ]
  },
  {
   "cell_type": "code",
   "execution_count": null,
   "metadata": {},
   "outputs": [],
   "source": [
    "cat_copy = cat.phot_redwards_Lya_detect(SNR_lims = [5., 3.])\n",
    "\n",
    "print(cat_copy)"
   ]
  }
 ],
 "metadata": {
  "kernelspec": {
   "display_name": "Python 3",
   "language": "python",
   "name": "python3"
  },
  "language_info": {
   "codemirror_mode": {
    "name": "ipython",
    "version": 3
   },
   "file_extension": ".py",
   "mimetype": "text/x-python",
   "name": "python",
   "nbconvert_exporter": "python",
   "pygments_lexer": "ipython3",
   "version": "3.9.12"
  }
 },
 "nbformat": 4,
 "nbformat_minor": 2
}
