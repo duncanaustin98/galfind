{
 "cells": [
  {
   "cell_type": "code",
   "execution_count": 15,
   "metadata": {},
   "outputs": [
    {
     "name": "stderr",
     "output_type": "stream",
     "text": [
      "INFO:galfind:NGDEEP2 is a BLANK field!\n",
      "WARNING:galfind:self.common_dirs has errors when the len(rms_err_paths) = 6 != len(wht_paths) = 6\n",
      "INFO:galfind:Common directory found for SCI: /raid/scratch/data/jwst/NGDEEP2/mosaic_1084_wispnathan\n",
      "INFO:galfind:Common directory found for SEG: /raid/scratch/work/austind/GALFIND_WORK/SExtractor/NIRCam/v11/NGDEEP2\n",
      "INFO:galfind:Common directory found for MASK: /raid/scratch/work/austind/GALFIND_WORK/Masks/NGDEEP2/fits_masks\n",
      "INFO:galfind:Common directory found for ERR: /raid/scratch/data/jwst/NGDEEP2/mosaic_1084_wispnathan\n",
      "INFO:galfind:Common directory found for WHT: /raid/scratch/data/jwst/NGDEEP2/mosaic_1084_wispnathan\n",
      "INFO:galfind:Common ZERO POINT found\n",
      "INFO:galfind:Common PIXEL SCALE found\n",
      "INFO:galfind:Common SCI SHAPE found\n",
      "INFO:galfind:Making SExtractor catalogues with: config file = /nvme/scratch/work/austind/GALFIND/galfind/configs/SExtractor/nircam.sex; parameters file = /nvme/scratch/work/austind/GALFIND/galfind/configs/SExtractor/nircam.param\n"
     ]
    },
    {
     "name": "stdout",
     "output_type": "stream",
     "text": [
      "Changed directory to /nvme/scratch/work/austind/GALFIND/galfind\n"
     ]
    },
    {
     "name": "stderr",
     "output_type": "stream",
     "text": [
      "WARNING: FITSFixedWarning: 'datfix' made the change 'Set DATE-BEG to '2023-01-31T20:21:17.371' from MJD-BEG.\n",
      "Set DATE-AVG to '2023-07-31T05:27:25.339' from MJD-AVG.\n",
      "Set DATE-END to '2024-02-01T09:47:16.439' from MJD-END'. [astropy.wcs.wcs]\n",
      "WARNING:astroquery:FITSFixedWarning: 'datfix' made the change 'Set DATE-BEG to '2023-01-31T20:21:17.371' from MJD-BEG.\n",
      "Set DATE-AVG to '2023-07-31T05:27:25.339' from MJD-AVG.\n",
      "Set DATE-END to '2024-02-01T09:47:16.439' from MJD-END'.\n",
      "WARNING: FITSFixedWarning: 'obsfix' made the change 'Set OBSGEO-L to   108.776112 from OBSGEO-[XYZ].\n",
      "Set OBSGEO-B to    11.353208 from OBSGEO-[XYZ].\n",
      "Set OBSGEO-H to 1639992464.187 from OBSGEO-[XYZ]'. [astropy.wcs.wcs]\n",
      "WARNING:astroquery:FITSFixedWarning: 'obsfix' made the change 'Set OBSGEO-L to   108.776112 from OBSGEO-[XYZ].\n",
      "Set OBSGEO-B to    11.353208 from OBSGEO-[XYZ].\n",
      "Set OBSGEO-H to 1639992464.187 from OBSGEO-[XYZ]'.\n",
      "INFO:galfind:Created combined mask for ['F277W', 'F356W', 'F444W']\n",
      "INFO:galfind:Finished making SExtractor catalogue for NGDEEP2 v11 F115W!\n",
      "INFO:galfind:Finished making SExtractor catalogue for NGDEEP2 v11 F150W!\n",
      "INFO:galfind:Finished making SExtractor catalogue for NGDEEP2 v11 F200W!\n",
      "INFO:galfind:Finished making SExtractor catalogue for NGDEEP2 v11 F277W!\n",
      "INFO:galfind:Finished making SExtractor catalogue for NGDEEP2 v11 F356W!\n",
      "INFO:galfind:Finished making SExtractor catalogue for NGDEEP2 v11 F444W!\n",
      "INFO:galfind:Finished making SExtractor catalogue for NGDEEP2 v11 F277W+F356W+F444W!\n"
     ]
    },
    {
     "name": "stdout",
     "output_type": "stream",
     "text": [
      "Changed directory back to /nvme/scratch/work/austind/GALFIND/unit_testing\n"
     ]
    },
    {
     "name": "stderr",
     "output_type": "stream",
     "text": [
      "Calculating depths: 100%|██████████| 7/7 [00:00<00:00, 4365.17it/s]\n",
      "WARNING: VerifyWarning: Keyword name 'MASK_BANDS' is greater than 8 characters or contains characters not allowed by the FITS standard; a HIERARCH card will be created. [astropy.io.fits.card]\n",
      "WARNING:astroquery:VerifyWarning: Keyword name 'MASK_BANDS' is greater than 8 characters or contains characters not allowed by the FITS standard; a HIERARCH card will be created.\n",
      "WARNING: VerifyWarning: Keyword name 'MASK_CLUSTER_MODULE' is greater than 8 characters or contains characters not allowed by the FITS standard; a HIERARCH card will be created. [astropy.io.fits.card]\n",
      "WARNING:astroquery:VerifyWarning: Keyword name 'MASK_CLUSTER_MODULE' is greater than 8 characters or contains characters not allowed by the FITS standard; a HIERARCH card will be created.\n",
      "WARNING: VerifyWarning: Keyword name 'MASK_CLUSTER_CORE' is greater than 8 characters or contains characters not allowed by the FITS standard; a HIERARCH card will be created. [astropy.io.fits.card]\n",
      "WARNING:astroquery:VerifyWarning: Keyword name 'MASK_CLUSTER_CORE' is greater than 8 characters or contains characters not allowed by the FITS standard; a HIERARCH card will be created.\n"
     ]
    },
    {
     "name": "stdout",
     "output_type": "stream",
     "text": [
      "instrument band names = ['F115W' 'F150W' 'F200W' 'F277W' 'F356W' 'F444W']\n"
     ]
    },
    {
     "name": "stderr",
     "output_type": "stream",
     "text": [
      "/nvme/scratch/work/austind/GALFIND/galfind/Catalogue_Creator.py:88: RuntimeWarning: divide by zero encountered in double_scalars\n",
      "  errs = np.array([[self.min_flux_pc_err * flux / 100 if err / flux < self.min_flux_pc_err / 100 and flux > 0. else err \\\n",
      "INFO:galfind:Running masking code for /raid/scratch/work/austind/GALFIND_WORK/Catalogues/v11/NIRCam/NGDEEP2/NGDEEP2_MASTER_Sel-F277W+F356W+F444W_v11.fits.\n"
     ]
    },
    {
     "name": "stdout",
     "output_type": "stream",
     "text": [
      "Finished loading in 19216 galaxies. This took 32.826866 seconds\n"
     ]
    },
    {
     "name": "stderr",
     "output_type": "stream",
     "text": [
      "INFO:galfind:Catalogue for NGDEEP2 v11 already masked. Skipping!\n",
      "Constructing redshift PDFs: 100%|██████████| 19216/19216 [00:06<00:00, 3078.58it/s]\n",
      "Constructing SEDs: 100%|██████████| 19216/19216 [00:26<00:00, 714.23it/s]\n",
      "INFO:galfind:Updating SED results in galfind catalogue object\n",
      "Constructing redshift PDFs: 100%|██████████| 19216/19216 [00:06<00:00, 3154.29it/s]\n",
      "Constructing SEDs: 100%|██████████| 19216/19216 [00:26<00:00, 716.83it/s]\n",
      "INFO:galfind:Updating SED results in galfind catalogue object\n",
      "Constructing redshift PDFs: 100%|██████████| 19216/19216 [00:06<00:00, 3086.14it/s]\n",
      "Constructing SEDs: 100%|██████████| 19216/19216 [00:26<00:00, 722.02it/s]\n",
      "INFO:galfind:Updating SED results in galfind catalogue object\n",
      "INFO:galfind:Catalogue for NGDEEP2 v11 could not be cropped by None!\n"
     ]
    }
   ],
   "source": [
    "# load in galfind catalogue object\n",
    "\n",
    "import astropy.units as u\n",
    "\n",
    "from galfind import Catalogue, GALFIND_Catalogue_Creator, EAZY\n",
    "\n",
    "def make_EAZY_SED_fit_params_arr(SED_code_arr, templates_arr, lowz_zmax_arr):\n",
    "    return [{\"code\": code, \"templates\": templates, \"lowz_zmax\": lowz_zmax} \\\n",
    "        for code, templates, lowz_zmaxs in zip(SED_code_arr, templates_arr, lowz_zmax_arr) for lowz_zmax in lowz_zmaxs]\n",
    "\n",
    "survey = \"NGDEEP2\"\n",
    "version = \"v11\"\n",
    "instruments = [\"NIRCam\"]\n",
    "aper_diams = [0.32] * u.arcsec\n",
    "cat_type = \"loc_depth\"\n",
    "SED_code_arr = [EAZY()]\n",
    "templates_arr = [\"fsps_larson\"] #[\"fsps\", \"fsps_larson\", \"fsps_jades\"]\n",
    "lowz_zmax_arr = [[4., 6., None]] #, [4., 6.], [4., 6.]]\n",
    "min_flux_pc_errs = 10\n",
    "forced_phot_band = [\"F277W\", \"F356W\", \"F444W\"]\n",
    "excl_bands = []\n",
    "select_by = None\n",
    "\n",
    "SED_fit_params_arr = make_EAZY_SED_fit_params_arr(SED_code_arr, templates_arr, lowz_zmax_arr)\n",
    "\n",
    "# make appropriate galfind catalogue creator for each aperture diameter\n",
    "cat_creator = GALFIND_Catalogue_Creator(cat_type, aper_diams[0], min_flux_pc_errs)\n",
    "cat = Catalogue.from_pipeline(survey = survey, version = version, instruments = instruments, aper_diams = aper_diams, \\\n",
    "    cat_creator = cat_creator, SED_fit_params_arr = SED_fit_params_arr, forced_phot_band = forced_phot_band, \\\n",
    "    excl_bands = excl_bands, loc_depth_min_flux_pc_errs = [min_flux_pc_errs], select_by = select_by)\n"
   ]
  },
  {
   "cell_type": "code",
   "execution_count": 17,
   "metadata": {},
   "outputs": [
    {
     "ename": "KeyError",
     "evalue": "'EAZY'",
     "output_type": "error",
     "traceback": [
      "\u001b[0;31m---------------------------------------------------------------------------\u001b[0m",
      "\u001b[0;31mKeyError\u001b[0m                                  Traceback (most recent call last)",
      "\u001b[1;32m/nvme/scratch/work/austind/GALFIND/unit_testing/testing_notebook.ipynb Cell 2\u001b[0m line \u001b[0;36m1\n\u001b[0;32m----> <a href='vscode-notebook-cell://ssh-remote%2Blocalhost/nvme/scratch/work/austind/GALFIND/unit_testing/testing_notebook.ipynb#W1sdnNjb2RlLXJlbW90ZQ%3D%3D?line=0'>1</a>\u001b[0m cat_copy \u001b[39m=\u001b[39m cat\u001b[39m.\u001b[39;49mphot_redwards_Lya_detect(SNR_lims \u001b[39m=\u001b[39;49m [\u001b[39m5.\u001b[39;49m, \u001b[39m3.\u001b[39;49m])\n\u001b[1;32m      <a href='vscode-notebook-cell://ssh-remote%2Blocalhost/nvme/scratch/work/austind/GALFIND/unit_testing/testing_notebook.ipynb#W1sdnNjb2RlLXJlbW90ZQ%3D%3D?line=2'>3</a>\u001b[0m \u001b[39mprint\u001b[39m(cat_copy)\n",
      "File \u001b[0;32m/nvme/scratch/work/austind/GALFIND/galfind/Catalogue.py:426\u001b[0m, in \u001b[0;36mCatalogue.phot_redwards_Lya_detect\u001b[0;34m(self, SNR_lims, code_name, templates, lowz_zmax, widebands_only)\u001b[0m\n\u001b[1;32m    425\u001b[0m \u001b[39mdef\u001b[39;00m \u001b[39mphot_redwards_Lya_detect\u001b[39m(\u001b[39mself\u001b[39m, SNR_lims, code_name \u001b[39m=\u001b[39m \u001b[39m\"\u001b[39m\u001b[39mEAZY\u001b[39m\u001b[39m\"\u001b[39m, templates \u001b[39m=\u001b[39m \u001b[39m\"\u001b[39m\u001b[39mfsps_larson\u001b[39m\u001b[39m\"\u001b[39m, lowz_zmax \u001b[39m=\u001b[39m \u001b[39mNone\u001b[39;00m, widebands_only \u001b[39m=\u001b[39m \u001b[39mTrue\u001b[39;00m):\n\u001b[0;32m--> 426\u001b[0m     \u001b[39mreturn\u001b[39;00m \u001b[39mself\u001b[39;49m\u001b[39m.\u001b[39;49mperform_selection(Galaxy\u001b[39m.\u001b[39;49mphot_redwards_Lya_detect, SNR_lims, code_name, templates, lowz_zmax, widebands_only)\n",
      "File \u001b[0;32m/nvme/scratch/work/austind/GALFIND/galfind/Catalogue.py:470\u001b[0m, in \u001b[0;36mCatalogue.perform_selection\u001b[0;34m(self, selection_function, *args)\u001b[0m\n\u001b[1;32m    468\u001b[0m \u001b[39mdef\u001b[39;00m \u001b[39mperform_selection\u001b[39m(\u001b[39mself\u001b[39m, selection_function, \u001b[39m*\u001b[39margs):\n\u001b[1;32m    469\u001b[0m     \u001b[39m# extract selection name from galaxy method output\u001b[39;00m\n\u001b[0;32m--> 470\u001b[0m     selection_name \u001b[39m=\u001b[39m selection_function(\u001b[39mself\u001b[39;49m[\u001b[39m0\u001b[39;49m], \u001b[39m*\u001b[39;49margs, update \u001b[39m=\u001b[39;49m \u001b[39mFalse\u001b[39;49;00m)[\u001b[39m1\u001b[39m]\n\u001b[1;32m    471\u001b[0m     \u001b[39m# perform selection if not previously performed\u001b[39;00m\n\u001b[1;32m    472\u001b[0m     \u001b[39mif\u001b[39;00m selection_name \u001b[39mnot\u001b[39;00m \u001b[39min\u001b[39;00m \u001b[39mself\u001b[39m\u001b[39m.\u001b[39mcrops:\n\u001b[1;32m    473\u001b[0m         \u001b[39m# perform calculation for each galaxy and update galaxies in self\u001b[39;00m\n",
      "File \u001b[0;32m/nvme/scratch/work/austind/GALFIND/galfind/Galaxy.py:245\u001b[0m, in \u001b[0;36mGalaxy.phot_redwards_Lya_detect\u001b[0;34m(self, SNR_lims, code_name, templates, lowz_zmax, widebands_only, update)\u001b[0m\n\u001b[1;32m    243\u001b[0m \u001b[39m# extract bands, SNRs, mask and first Lya non-detect band\u001b[39;00m\n\u001b[1;32m    244\u001b[0m bands \u001b[39m=\u001b[39m \u001b[39mself\u001b[39m\u001b[39m.\u001b[39mphot\u001b[39m.\u001b[39minstrument\u001b[39m.\u001b[39mband_names\n\u001b[0;32m--> 245\u001b[0m first_Lya_detect_band \u001b[39m=\u001b[39m \u001b[39mself\u001b[39;49m\u001b[39m.\u001b[39;49mphot\u001b[39m.\u001b[39;49mSED_results[code_name][templates][funcs\u001b[39m.\u001b[39mlowz_label(lowz_zmax)]\u001b[39m.\u001b[39mphot_rest\u001b[39m.\u001b[39mfirst_Lya_detect_band\n\u001b[1;32m    246\u001b[0m \u001b[39mif\u001b[39;00m first_Lya_detect_band \u001b[39m==\u001b[39m \u001b[39mNone\u001b[39;00m:\n\u001b[1;32m    247\u001b[0m     \u001b[39mif\u001b[39;00m update:\n",
      "\u001b[0;31mKeyError\u001b[0m: 'EAZY'"
     ]
    }
   ],
   "source": [
    "cat_copy = cat.phot_redwards_Lya_detect(SNR_lims = [5., 3.])\n",
    "\n",
    "print(cat_copy)"
   ]
  }
 ],
 "metadata": {
  "kernelspec": {
   "display_name": "Python 3",
   "language": "python",
   "name": "python3"
  },
  "language_info": {
   "codemirror_mode": {
    "name": "ipython",
    "version": 3
   },
   "file_extension": ".py",
   "mimetype": "text/x-python",
   "name": "python",
   "nbconvert_exporter": "python",
   "pygments_lexer": "ipython3",
   "version": "3.9.12"
  }
 },
 "nbformat": 4,
 "nbformat_minor": 2
}
