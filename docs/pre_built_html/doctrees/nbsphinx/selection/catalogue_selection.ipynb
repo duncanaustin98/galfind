{
 "cells": [
  {
   "cell_type": "markdown",
   "metadata": {},
   "source": [
    "# Catalogue selection methods\n",
    "\n",
    "In this notebook, we will utilize the `Galaxy` class selection methods of galaxies stored in the `Catalogue` object to create boolean selection columns in the outputted fits table. These boolean columns can be loaded back in to new `Catalogue` objects directly from the fits catalogue upon load-in, handy for any subsequent plotting of cutouts, scaling relations, and UV LF / mass function generation. While the details on the available galaxy selection techniques are outlined in the [Galaxy selection notebook](galaxy_selection.ipynb), we will show the catalogue level implementation of the EPOCHS selection here. It is worth noting that all other galaxy selection options are also available on a catalogue scale."
   ]
  },
  {
   "cell_type": "code",
   "execution_count": 1,
   "metadata": {},
   "outputs": [
    {
     "name": "stdout",
     "output_type": "stream",
     "text": [
      "Reading GALFIND config file from: /nvme/scratch/work/austind/GALFIND/galfind/../configs/galfind_config.ini\n"
     ]
    },
    {
     "name": "stderr",
     "output_type": "stream",
     "text": [
      "WARNING:galfind:Aperture corrections for VISTA not found in /nvme/scratch/work/austind/GALFIND/galfind/Aperture_corrections/VISTA_aper_corr.txt\n",
      "WARNING:galfind:Aperture corrections for VISTA not found in /nvme/scratch/work/austind/GALFIND/galfind/Aperture_corrections/VISTA_aper_corr.txt\n"
     ]
    },
    {
     "name": "stdout",
     "output_type": "stream",
     "text": [
      "Failed to `import dust_attenuation`\n",
      "Install from the repo with $ pip install git+https://github.com/karllark/dust_attenuation.git\n"
     ]
    },
    {
     "name": "stderr",
     "output_type": "stream",
     "text": [
      "INFO:galfind:Loaded aper_diams=<Quantity [0.32] arcsec> for F277W+F356W+F444W\n",
      "INFO:galfind:Combined mask for NIRCam/F277W+F356W+F444W already exists at /raid/scratch/work/austind/GALFIND_WORK/Masks/JOF/combined/JOF_F277W+F356W+F444W_auto.fits\n",
      "WARNING: hdu= was not specified but multiple tables are present, reading in first available table (hdu=1) [astropy.io.fits.connect]\n",
      "WARNING:astroquery:hdu= was not specified but multiple tables are present, reading in first available table (hdu=1)\n",
      "WARNING:galfind:Aperture correction columns already in /raid/scratch/work/austind/GALFIND_WORK/Catalogues/v11/NIRCam/JOF/(0.32)as/JOF_MASTER_Sel-F277W+F356W+F444W_v11.fits\n",
      "Calculating depths:   0%|          | 0/15 [00:00<?, ?it/s]\n",
      "INFO:galfind:Calculated/loaded depths for JOF v11 NIRCam\n",
      "INFO:galfind:Local depth columns already exist in /raid/scratch/work/austind/GALFIND_WORK/Catalogues/v11/NIRCam/JOF/(0.32)as/JOF_MASTER_Sel-F277W+F356W+F444W_v11.fits\n",
      "INFO:galfind:Loaded 'has_data_mask' from /raid/scratch/work/austind/GALFIND_WORK/Masks/JOF/has_data_mask/JOF_MASTER_Sel-F277W+F356W+F444W_v11.h5\n",
      "INFO:galfind:Making JOF v11 JOF_MASTER_Sel-F277W+F356W+F444W_v11 catalogue!\n",
      "WARNING:galfind:cat_aper_diams not in kwargs.keys()=dict_keys(['ZP', 'min_flux_pc_err'])! Setting to aper_diams=<Quantity [0.32] arcsec>\n",
      "WARNING:galfind:cat_aper_diams not in kwargs.keys()=dict_keys(['ZP', 'min_flux_pc_err'])! Setting to aper_diams=<Quantity [0.32] arcsec>\n",
      "WARNING:galfind:cat_aper_diams not in kwargs.keys()=dict_keys([])! Setting to aper_diams=<Quantity [0.32] arcsec>\n",
      "WARNING:galfind:cat_type = cat_type='selection' not in ['ID', 'sky_coord', 'phot', 'mask', 'depths'] and not a valid HDU extension in /raid/scratch/work/austind/GALFIND_WORK/Catalogues/v11/NIRCam/JOF/(0.32)as/JOF_MASTER_Sel-F277W+F356W+F444W_v11.fits!\n",
      "WARNING:galfind:selection tab is None!\n",
      "INFO:galfind:Made /raid/scratch/work/austind/GALFIND_WORK/Catalogues/v11/NIRCam/JOF/(0.32)as/JOF_MASTER_Sel-F277W+F356W+F444W_v11.fits catalogue!\n",
      "INFO:galfind:Loaded FLUX_RADIUS from /raid/scratch/work/austind/GALFIND_WORK/Catalogues/v11/NIRCam/JOF/(0.32)as/JOF_MASTER_Sel-F277W+F356W+F444W_v11.fits saved as sex_Re for cat_band_properties[0].keys()=dict_keys(['F090W', 'F115W', 'F150W', 'F162M', 'F182M', 'F200W', 'F210M', 'F250M', 'F277W', 'F300M', 'F335M', 'F356W', 'F410M', 'F444W'])\n",
      "INFO:galfind:Making .in file for EAZY_fsps_larson_zmax=4.0 SED fitting for JOF v11 NIRCam\n",
      "INFO:galfind:Made .in file for EAZY_fsps_larson_zmax=4.0 SED fitting for JOF v11 NIRCam. \n"
     ]
    },
    {
     "name": "stdout",
     "output_type": "stream",
     "text": [
      "Running SED fitting took 0.1s\n"
     ]
    },
    {
     "name": "stderr",
     "output_type": "stream",
     "text": [
      "INFO:galfind:Loading EAZY_fsps_larson property PDFs into JOF v11 NIRCam\n"
     ]
    },
    {
     "name": "stdout",
     "output_type": "stream",
     "text": [
      "Loading properties and associated errors took 1.3s\n"
     ]
    },
    {
     "name": "stderr",
     "output_type": "stream",
     "text": [
      "Constructing redshift PDFs: 100%|██████████| 16335/16335 [00:00<00:00, 64379.56it/s]\n",
      "INFO:galfind:Finished loading EAZY_fsps_larson property PDFs into JOF v11 NIRCam\n",
      "INFO:galfind:Loading EAZY_fsps_larson SEDs into JOF v11 NIRCam\n",
      "Constructing SEDs: 100%|██████████| 16335/16335 [00:01<00:00, 10705.98it/s]\n",
      "INFO:galfind:Finished loading EAZY_fsps_larson SEDs into JOF v11 NIRCam\n",
      "INFO:galfind:Updating SED results in galfind catalogue object\n",
      "Updating galaxy SED results: 100%|██████████| 16335/16335 [00:00<00:00, 153220.57it/s]\n",
      "INFO:galfind:Making .in file for EAZY_fsps_larson_zmax=6.0 SED fitting for JOF v11 NIRCam\n",
      "INFO:galfind:Made .in file for EAZY_fsps_larson_zmax=6.0 SED fitting for JOF v11 NIRCam. \n"
     ]
    },
    {
     "name": "stdout",
     "output_type": "stream",
     "text": [
      "Running SED fitting took 0.1s\n"
     ]
    },
    {
     "name": "stderr",
     "output_type": "stream",
     "text": [
      "INFO:galfind:Loading EAZY_fsps_larson property PDFs into JOF v11 NIRCam\n"
     ]
    },
    {
     "name": "stdout",
     "output_type": "stream",
     "text": [
      "Loading properties and associated errors took 1.4s\n"
     ]
    },
    {
     "name": "stderr",
     "output_type": "stream",
     "text": [
      "Constructing redshift PDFs: 100%|██████████| 16335/16335 [00:00<00:00, 57103.15it/s]\n",
      "INFO:galfind:Finished loading EAZY_fsps_larson property PDFs into JOF v11 NIRCam\n",
      "INFO:galfind:Loading EAZY_fsps_larson SEDs into JOF v11 NIRCam\n",
      "Constructing SEDs: 100%|██████████| 16335/16335 [00:01<00:00, 9820.70it/s]\n",
      "INFO:galfind:Finished loading EAZY_fsps_larson SEDs into JOF v11 NIRCam\n",
      "INFO:galfind:Updating SED results in galfind catalogue object\n",
      "Updating galaxy SED results: 100%|██████████| 16335/16335 [00:00<00:00, 165499.44it/s]\n",
      "INFO:galfind:Making .in file for EAZY_fsps_larson_zfree SED fitting for JOF v11 NIRCam\n",
      "INFO:galfind:Made .in file for EAZY_fsps_larson_zfree SED fitting for JOF v11 NIRCam. \n"
     ]
    },
    {
     "name": "stdout",
     "output_type": "stream",
     "text": [
      "Running SED fitting took 0.1s\n"
     ]
    },
    {
     "name": "stderr",
     "output_type": "stream",
     "text": [
      "INFO:galfind:Loading EAZY_fsps_larson property PDFs into JOF v11 NIRCam\n"
     ]
    },
    {
     "name": "stdout",
     "output_type": "stream",
     "text": [
      "Loading properties and associated errors took 1.6s\n"
     ]
    },
    {
     "name": "stderr",
     "output_type": "stream",
     "text": [
      "Constructing redshift PDFs: 100%|██████████| 16335/16335 [00:00<00:00, 57600.55it/s]\n",
      "INFO:galfind:Finished loading EAZY_fsps_larson property PDFs into JOF v11 NIRCam\n",
      "INFO:galfind:Loading EAZY_fsps_larson SEDs into JOF v11 NIRCam\n",
      "Constructing SEDs: 100%|██████████| 16335/16335 [00:01<00:00, 10839.12it/s]\n",
      "INFO:galfind:Finished loading EAZY_fsps_larson SEDs into JOF v11 NIRCam\n",
      "INFO:galfind:Updating SED results in galfind catalogue object\n",
      "Updating galaxy SED results: 100%|██████████| 16335/16335 [00:00<00:00, 190991.38it/s]\n",
      "WARNING: hdu= was not specified but multiple tables are present, reading in first available table (hdu=1) [astropy.io.fits.connect]\n",
      "WARNING:astroquery:hdu= was not specified but multiple tables are present, reading in first available table (hdu=1)\n"
     ]
    },
    {
     "name": "stdout",
     "output_type": "stream",
     "text": [
      "****************************************\n",
      "CATALOGUE(JOF,v11,NIRCam):\n",
      "----------\n",
      "CAT PATH = /raid/scratch/work/austind/GALFIND_WORK/Catalogues/v11/NIRCam/JOF/(0.32)as/JOF_MASTER_Sel-F277W+F356W+F444W_v11.fits\n",
      "TOTAL GALAXIES = 16335\n",
      "RA RANGE = [53.01070689 53.11059594] deg\n",
      "DEC RANGE = [-27.91226173 -27.83206063] deg\n",
      "----------\n",
      "****************************************\n",
      "MULTIPLE_FILTER\n",
      "----------\n",
      "FACILITY: JWST\n",
      "INSTRUMENT: NIRCam\n",
      "FILTERS: ['F090W', 'F115W', 'F150W', 'F162M', 'F182M', 'F200W', 'F210M', 'F250M', 'F277W', 'F300M', 'F335M', 'F356W', 'F410M', 'F444W']\n",
      "****************************************\n",
      "\n"
     ]
    }
   ],
   "source": [
    "# imports\n",
    "import astropy.units as u\n",
    "from galfind import EAZY, Catalogue, EPOCHS_Selector\n",
    "from galfind.Data import morgan_version_to_dir\n",
    "\n",
    "survey = \"JOF\"\n",
    "version = \"v11\"\n",
    "instrument_names = [\"NIRCam\"]\n",
    "aper_diams = [0.32] * u.arcsec\n",
    "forced_phot_band = [\"F277W\", \"F356W\", \"F444W\"]\n",
    "min_flux_pc_err = 10.\n",
    "SED_fit_params_arr = [\n",
    "    {\"templates\": \"fsps_larson\", \"lowz_zmax\": 4.0},\n",
    "    {\"templates\": \"fsps_larson\", \"lowz_zmax\": 6.0},\n",
    "    {\"templates\": \"fsps_larson\", \"lowz_zmax\": None}\n",
    "]\n",
    "\n",
    "JOF_cat = Catalogue.pipeline(\n",
    "    survey,\n",
    "    version,\n",
    "    instrument_names = instrument_names, \n",
    "    version_to_dir_dict = morgan_version_to_dir,\n",
    "    aper_diams = aper_diams,\n",
    "    forced_phot_band = forced_phot_band,\n",
    "    min_flux_pc_err = min_flux_pc_err\n",
    ")\n",
    "# load sextractor half-light radii\n",
    "JOF_cat.load_sextractor_Re()\n",
    "\n",
    "# load EAZY SED fitting results\n",
    "for SED_fit_params in SED_fit_params_arr:\n",
    "    EAZY_fitter = EAZY(SED_fit_params)\n",
    "    EAZY_fitter(JOF_cat, aper_diams[0], load_PDFs = True, load_SEDs = True, update = True)\n",
    "\n",
    "print(JOF_cat)"
   ]
  },
  {
   "cell_type": "markdown",
   "metadata": {},
   "source": [
    "Now that we have loaded the blank catalogue, we will perform the selection. Since we are running on a `Catalogue` this time around instead of a `Galaxy` (as in [Galaxy Selection, Example 4](../selection/galaxy_selection.ipynb)), we do not need to insert the catalogue filterset when instantiating `EPOCHS_Selector` as this information is already stored in the catalogue we are running."
   ]
  },
  {
   "cell_type": "code",
   "execution_count": 2,
   "metadata": {},
   "outputs": [
    {
     "name": "stderr",
     "output_type": "stream",
     "text": [
      "Selecting bluewards_Lya_SNR<2.0_EAZY_fsps_larson_zfree_0.32as:   0%|          | 0/16335 [00:00<?, ?it/s]"
     ]
    },
    {
     "name": "stderr",
     "output_type": "stream",
     "text": [
      "Selecting bluewards_Lya_SNR<2.0_EAZY_fsps_larson_zfree_0.32as: 100%|██████████| 16335/16335 [00:07<00:00, 2226.65it/s]\n",
      "WARNING:galfind:hdu='SELECTION' does not exist in self.cat_path='/raid/scratch/work/austind/GALFIND_WORK/Catalogues/v11/NIRCam/JOF/(0.32)as/JOF_MASTER_Sel-F277W+F356W+F444W_v11.fits'!\n",
      "INFO:galfind:Appending property_name='bluewards_Lya_SNR<2.0_EAZY_fsps_larson_zfree_0.32as' to hdu='SELECTION' .fits table!\n",
      "INFO:galfind:Writing table to /raid/scratch/work/austind/GALFIND_WORK/Catalogues/v11/NIRCam/JOF/(0.32)as/JOF_MASTER_Sel-F277W+F356W+F444W_v11.fits\n",
      "Selecting redwards_Lya_SNR>5.0,5.0_widebands_EAZY_fsps_larson_zfree_0.32as: 100%|██████████| 16335/16335 [00:10<00:00, 1632.60it/s]\n",
      "INFO:galfind:Appending property_name='redwards_Lya_SNR>5.0,5.0_widebands_EAZY_fsps_larson_zfree_0.32as' to hdu='SELECTION' .fits table!\n",
      "INFO:galfind:Writing table to /raid/scratch/work/austind/GALFIND_WORK/Catalogues/v11/NIRCam/JOF/(0.32)as/JOF_MASTER_Sel-F277W+F356W+F444W_v11.fits\n",
      "Selecting ALL_redwards_Lya_SNR>2.0_EAZY_fsps_larson_zfree_0.32as: 100%|██████████| 16335/16335 [00:07<00:00, 2047.44it/s]\n",
      "INFO:galfind:Appending property_name='ALL_redwards_Lya_SNR>2.0_EAZY_fsps_larson_zfree_0.32as' to hdu='SELECTION' .fits table!\n",
      "INFO:galfind:Writing table to /raid/scratch/work/austind/GALFIND_WORK/Catalogues/v11/NIRCam/JOF/(0.32)as/JOF_MASTER_Sel-F277W+F356W+F444W_v11.fits\n",
      "Selecting red_chi_sq<3.0_EAZY_fsps_larson_zfree_0.32as: 100%|██████████| 16335/16335 [00:00<00:00, 22113.73it/s]\n",
      "INFO:galfind:Appending property_name='red_chi_sq<3.0_EAZY_fsps_larson_zfree_0.32as' to hdu='SELECTION' .fits table!\n",
      "INFO:galfind:Writing table to /raid/scratch/work/austind/GALFIND_WORK/Catalogues/v11/NIRCam/JOF/(0.32)as/JOF_MASTER_Sel-F277W+F356W+F444W_v11.fits\n",
      "Selecting chi_sq_diff>4.0,dz>0.5_EAZY_fsps_larson_zfree_0.32as: 100%|██████████| 16335/16335 [00:01<00:00, 9690.94it/s] \n",
      "INFO:galfind:Appending property_name='chi_sq_diff>4.0,dz>0.5_EAZY_fsps_larson_zfree_0.32as' to hdu='SELECTION' .fits table!\n",
      "INFO:galfind:Writing table to /raid/scratch/work/austind/GALFIND_WORK/Catalogues/v11/NIRCam/JOF/(0.32)as/JOF_MASTER_Sel-F277W+F356W+F444W_v11.fits\n",
      "Selecting zPDF>60%,|dz|/z<0.1_EAZY_fsps_larson_zfree_0.32as: 100%|██████████| 16335/16335 [00:03<00:00, 4473.76it/s]\n",
      "INFO:galfind:Appending property_name='zPDF>60%,|dz|/z<0.1_EAZY_fsps_larson_zfree_0.32as' to hdu='SELECTION' .fits table!\n",
      "INFO:galfind:Writing table to /raid/scratch/work/austind/GALFIND_WORK/Catalogues/v11/NIRCam/JOF/(0.32)as/JOF_MASTER_Sel-F277W+F356W+F444W_v11.fits\n",
      "Selecting unmasked_F090W: 100%|██████████| 16335/16335 [00:00<00:00, 44225.58it/s]\n",
      "INFO:galfind:Appending property_name='unmasked_F090W' to hdu='SELECTION' .fits table!\n",
      "INFO:galfind:Writing table to /raid/scratch/work/austind/GALFIND_WORK/Catalogues/v11/NIRCam/JOF/(0.32)as/JOF_MASTER_Sel-F277W+F356W+F444W_v11.fits\n",
      "Selecting unmasked_F115W: 100%|██████████| 16335/16335 [00:00<00:00, 45585.44it/s]\n",
      "INFO:galfind:Appending property_name='unmasked_F115W' to hdu='SELECTION' .fits table!\n",
      "INFO:galfind:Writing table to /raid/scratch/work/austind/GALFIND_WORK/Catalogues/v11/NIRCam/JOF/(0.32)as/JOF_MASTER_Sel-F277W+F356W+F444W_v11.fits\n",
      "Selecting unmasked_F150W: 100%|██████████| 16335/16335 [00:00<00:00, 42910.80it/s]\n",
      "INFO:galfind:Appending property_name='unmasked_F150W' to hdu='SELECTION' .fits table!\n",
      "INFO:galfind:Writing table to /raid/scratch/work/austind/GALFIND_WORK/Catalogues/v11/NIRCam/JOF/(0.32)as/JOF_MASTER_Sel-F277W+F356W+F444W_v11.fits\n",
      "Selecting unmasked_F162M: 100%|██████████| 16335/16335 [00:00<00:00, 45532.00it/s]\n",
      "INFO:galfind:Appending property_name='unmasked_F162M' to hdu='SELECTION' .fits table!\n",
      "INFO:galfind:Writing table to /raid/scratch/work/austind/GALFIND_WORK/Catalogues/v11/NIRCam/JOF/(0.32)as/JOF_MASTER_Sel-F277W+F356W+F444W_v11.fits\n",
      "Selecting unmasked_F182M: 100%|██████████| 16335/16335 [00:00<00:00, 39436.12it/s]\n",
      "INFO:galfind:Appending property_name='unmasked_F182M' to hdu='SELECTION' .fits table!\n",
      "INFO:galfind:Writing table to /raid/scratch/work/austind/GALFIND_WORK/Catalogues/v11/NIRCam/JOF/(0.32)as/JOF_MASTER_Sel-F277W+F356W+F444W_v11.fits\n",
      "Selecting unmasked_F200W: 100%|██████████| 16335/16335 [00:00<00:00, 29474.78it/s]\n",
      "INFO:galfind:Appending property_name='unmasked_F200W' to hdu='SELECTION' .fits table!\n",
      "INFO:galfind:Writing table to /raid/scratch/work/austind/GALFIND_WORK/Catalogues/v11/NIRCam/JOF/(0.32)as/JOF_MASTER_Sel-F277W+F356W+F444W_v11.fits\n",
      "Selecting unmasked_F210M: 100%|██████████| 16335/16335 [00:00<00:00, 36769.14it/s]\n",
      "INFO:galfind:Appending property_name='unmasked_F210M' to hdu='SELECTION' .fits table!\n",
      "INFO:galfind:Writing table to /raid/scratch/work/austind/GALFIND_WORK/Catalogues/v11/NIRCam/JOF/(0.32)as/JOF_MASTER_Sel-F277W+F356W+F444W_v11.fits\n",
      "Selecting unmasked_F250M: 100%|██████████| 16335/16335 [00:00<00:00, 44106.66it/s]\n",
      "INFO:galfind:Appending property_name='unmasked_F250M' to hdu='SELECTION' .fits table!\n",
      "INFO:galfind:Writing table to /raid/scratch/work/austind/GALFIND_WORK/Catalogues/v11/NIRCam/JOF/(0.32)as/JOF_MASTER_Sel-F277W+F356W+F444W_v11.fits\n",
      "Selecting unmasked_F277W: 100%|██████████| 16335/16335 [00:00<00:00, 42518.25it/s]\n",
      "INFO:galfind:Appending property_name='unmasked_F277W' to hdu='SELECTION' .fits table!\n",
      "INFO:galfind:Writing table to /raid/scratch/work/austind/GALFIND_WORK/Catalogues/v11/NIRCam/JOF/(0.32)as/JOF_MASTER_Sel-F277W+F356W+F444W_v11.fits\n",
      "Selecting unmasked_F300M: 100%|██████████| 16335/16335 [00:00<00:00, 43876.90it/s]\n",
      "INFO:galfind:Appending property_name='unmasked_F300M' to hdu='SELECTION' .fits table!\n",
      "INFO:galfind:Writing table to /raid/scratch/work/austind/GALFIND_WORK/Catalogues/v11/NIRCam/JOF/(0.32)as/JOF_MASTER_Sel-F277W+F356W+F444W_v11.fits\n",
      "Selecting unmasked_F335M: 100%|██████████| 16335/16335 [00:00<00:00, 42378.97it/s]\n",
      "INFO:galfind:Appending property_name='unmasked_F335M' to hdu='SELECTION' .fits table!\n",
      "INFO:galfind:Writing table to /raid/scratch/work/austind/GALFIND_WORK/Catalogues/v11/NIRCam/JOF/(0.32)as/JOF_MASTER_Sel-F277W+F356W+F444W_v11.fits\n",
      "Selecting unmasked_F356W: 100%|██████████| 16335/16335 [00:00<00:00, 39992.74it/s]\n",
      "INFO:galfind:Appending property_name='unmasked_F356W' to hdu='SELECTION' .fits table!\n",
      "INFO:galfind:Writing table to /raid/scratch/work/austind/GALFIND_WORK/Catalogues/v11/NIRCam/JOF/(0.32)as/JOF_MASTER_Sel-F277W+F356W+F444W_v11.fits\n",
      "Selecting unmasked_F410M: 100%|██████████| 16335/16335 [00:00<00:00, 41598.59it/s]\n",
      "INFO:galfind:Appending property_name='unmasked_F410M' to hdu='SELECTION' .fits table!\n",
      "INFO:galfind:Writing table to /raid/scratch/work/austind/GALFIND_WORK/Catalogues/v11/NIRCam/JOF/(0.32)as/JOF_MASTER_Sel-F277W+F356W+F444W_v11.fits\n",
      "Selecting unmasked_F444W: 100%|██████████| 16335/16335 [00:00<00:00, 42591.26it/s]\n",
      "INFO:galfind:Appending property_name='unmasked_F444W' to hdu='SELECTION' .fits table!\n",
      "INFO:galfind:Writing table to /raid/scratch/work/austind/GALFIND_WORK/Catalogues/v11/NIRCam/JOF/(0.32)as/JOF_MASTER_Sel-F277W+F356W+F444W_v11.fits\n",
      "Selecting unmasked_NIRCam: 100%|██████████| 16335/16335 [00:05<00:00, 3249.06it/s]\n",
      "INFO:galfind:Appending property_name='unmasked_NIRCam' to hdu='SELECTION' .fits table!\n",
      "INFO:galfind:Writing table to /raid/scratch/work/austind/GALFIND_WORK/Catalogues/v11/NIRCam/JOF/(0.32)as/JOF_MASTER_Sel-F277W+F356W+F444W_v11.fits\n",
      "Selecting bluest_band_SNR<2.0_0.32as: 100%|██████████| 16335/16335 [00:06<00:00, 2337.70it/s]\n",
      "INFO:galfind:Appending property_name='bluest_band_SNR<2.0_0.32as' to hdu='SELECTION' .fits table!\n",
      "INFO:galfind:Writing table to /raid/scratch/work/austind/GALFIND_WORK/Catalogues/v11/NIRCam/JOF/(0.32)as/JOF_MASTER_Sel-F277W+F356W+F444W_v11.fits\n",
      "Selecting sex_Re_F277W>45.0mas: 100%|██████████| 16335/16335 [00:00<00:00, 37485.80it/s]\n",
      "INFO:galfind:Appending property_name='sex_Re_F277W>45.0mas' to hdu='SELECTION' .fits table!\n",
      "INFO:galfind:Writing table to /raid/scratch/work/austind/GALFIND_WORK/Catalogues/v11/NIRCam/JOF/(0.32)as/JOF_MASTER_Sel-F277W+F356W+F444W_v11.fits\n",
      "Selecting sex_Re_F356W>45.0mas: 100%|██████████| 16335/16335 [00:00<00:00, 38407.03it/s]\n",
      "INFO:galfind:Appending property_name='sex_Re_F356W>45.0mas' to hdu='SELECTION' .fits table!\n",
      "INFO:galfind:Writing table to /raid/scratch/work/austind/GALFIND_WORK/Catalogues/v11/NIRCam/JOF/(0.32)as/JOF_MASTER_Sel-F277W+F356W+F444W_v11.fits\n",
      "Selecting sex_Re_F444W>45.0mas: 100%|██████████| 16335/16335 [00:00<00:00, 40306.76it/s]\n",
      "INFO:galfind:Appending property_name='sex_Re_F444W>45.0mas' to hdu='SELECTION' .fits table!\n",
      "INFO:galfind:Writing table to /raid/scratch/work/austind/GALFIND_WORK/Catalogues/v11/NIRCam/JOF/(0.32)as/JOF_MASTER_Sel-F277W+F356W+F444W_v11.fits\n",
      "Selecting sex_Re_F277W+F356W+F444W>45.0mas: 100%|██████████| 16335/16335 [00:00<00:00, 25470.28it/s]\n",
      "INFO:galfind:Appending property_name='sex_Re_F277W+F356W+F444W>45.0mas' to hdu='SELECTION' .fits table!\n",
      "INFO:galfind:Writing table to /raid/scratch/work/austind/GALFIND_WORK/Catalogues/v11/NIRCam/JOF/(0.32)as/JOF_MASTER_Sel-F277W+F356W+F444W_v11.fits\n",
      "Selecting EPOCHS_NIRCam_EAZY_fsps_larson_zfree_0.32as: 100%|██████████| 16335/16335 [00:15<00:00, 1088.78it/s]\n",
      "INFO:galfind:Appending property_name='EPOCHS_NIRCam_EAZY_fsps_larson_zfree_0.32as' to hdu='SELECTION' .fits table!\n",
      "INFO:galfind:Writing table to /raid/scratch/work/austind/GALFIND_WORK/Catalogues/v11/NIRCam/JOF/(0.32)as/JOF_MASTER_Sel-F277W+F356W+F444W_v11.fits\n",
      "WARNING: hdu= was not specified but multiple tables are present, reading in first available table (hdu=1) [astropy.io.fits.connect]\n",
      "WARNING:astroquery:hdu= was not specified but multiple tables are present, reading in first available table (hdu=1)\n"
     ]
    }
   ],
   "source": [
    "# perform EPOCHS selection\n",
    "epochs_selector = EPOCHS_Selector(allow_lowz = False, unmasked_instruments = \"NIRCam\")\n",
    "EPOCHS_JOF_cat = epochs_selector(JOF_cat, aper_diams[0], EAZY_fitter, return_copy = True)"
   ]
  },
  {
   "cell_type": "markdown",
   "metadata": {},
   "source": [
    "Let's have a look at how this changes the `Catalogue` print statement."
   ]
  },
  {
   "cell_type": "code",
   "execution_count": 3,
   "metadata": {},
   "outputs": [
    {
     "name": "stdout",
     "output_type": "stream",
     "text": [
      "****************************************\n",
      "CATALOGUE(JOF,v11,NIRCam):\n",
      "----------\n",
      "CAT PATH = /raid/scratch/work/austind/GALFIND_WORK/Catalogues/v11/NIRCam/JOF/(0.32)as/JOF_MASTER_Sel-F277W+F356W+F444W_v11.fits\n",
      "TOTAL GALAXIES = 16335\n",
      "RA RANGE = [53.01070689 53.11059594] deg\n",
      "DEC RANGE = [-27.91226173 -27.83206063] deg\n",
      "----------\n",
      "****************************************\n",
      "MULTIPLE_FILTER\n",
      "----------\n",
      "FACILITY: JWST\n",
      "INSTRUMENT: NIRCam\n",
      "FILTERS: ['F090W', 'F115W', 'F150W', 'F162M', 'F182M', 'F200W', 'F210M', 'F250M', 'F277W', 'F300M', 'F335M', 'F356W', 'F410M', 'F444W']\n",
      "****************************************\n",
      "\n"
     ]
    }
   ],
   "source": [
    "print(EPOCHS_JOF_cat)"
   ]
  },
  {
   "cell_type": "markdown",
   "metadata": {},
   "source": [
    "Fantastic! We now have a catalogue that has been cropped to only the EPOCHS sample.\n",
    "\n",
    "Once the selection has been run on the `Catalogue` object, it is saved in the fits catalogue and is automatically loaded back in immediately when re-initializing the catalogue."
   ]
  },
  {
   "cell_type": "code",
   "execution_count": 4,
   "metadata": {},
   "outputs": [
    {
     "name": "stderr",
     "output_type": "stream",
     "text": [
      "INFO:galfind:Loaded aper_diams=<Quantity [0.32] arcsec> for F277W+F356W+F444W\n",
      "INFO:galfind:Combined mask for NIRCam/F277W+F356W+F444W already exists at /raid/scratch/work/austind/GALFIND_WORK/Masks/JOF/combined/JOF_F277W+F356W+F444W_auto.fits\n",
      "WARNING:galfind:Aperture correction columns already in /raid/scratch/work/austind/GALFIND_WORK/Catalogues/v11/NIRCam/JOF/(0.32)as/JOF_MASTER_Sel-F277W+F356W+F444W_v11.fits\n",
      "Calculating depths:   0%|          | 0/15 [00:00<?, ?it/s]\n",
      "INFO:galfind:Calculated/loaded depths for JOF v11 NIRCam\n",
      "INFO:galfind:Local depth columns already exist in /raid/scratch/work/austind/GALFIND_WORK/Catalogues/v11/NIRCam/JOF/(0.32)as/JOF_MASTER_Sel-F277W+F356W+F444W_v11.fits\n",
      "INFO:galfind:Loaded 'has_data_mask' from /raid/scratch/work/austind/GALFIND_WORK/Masks/JOF/has_data_mask/JOF_MASTER_Sel-F277W+F356W+F444W_v11.h5\n",
      "INFO:galfind:Making JOF v11 JOF_MASTER_Sel-F277W+F356W+F444W_v11 catalogue!\n",
      "WARNING:galfind:cat_aper_diams not in kwargs.keys()=dict_keys(['ZP', 'min_flux_pc_err'])! Setting to aper_diams=<Quantity [0.32] arcsec>\n",
      "WARNING:galfind:cat_aper_diams not in kwargs.keys()=dict_keys(['ZP', 'min_flux_pc_err'])! Setting to aper_diams=<Quantity [0.32] arcsec>\n",
      "WARNING:galfind:cat_aper_diams not in kwargs.keys()=dict_keys([])! Setting to aper_diams=<Quantity [0.32] arcsec>\n",
      "INFO:galfind:Made /raid/scratch/work/austind/GALFIND_WORK/Catalogues/v11/NIRCam/JOF/(0.32)as/JOF_MASTER_Sel-F277W+F356W+F444W_v11.fits catalogue!\n",
      "INFO:galfind:Loaded FLUX_RADIUS from /raid/scratch/work/austind/GALFIND_WORK/Catalogues/v11/NIRCam/JOF/(0.32)as/JOF_MASTER_Sel-F277W+F356W+F444W_v11.fits saved as sex_Re for cat_band_properties[0].keys()=dict_keys(['F090W', 'F115W', 'F150W', 'F162M', 'F182M', 'F200W', 'F210M', 'F250M', 'F277W', 'F300M', 'F335M', 'F356W', 'F410M', 'F444W'])\n",
      "INFO:galfind:Making .in file for EAZY_fsps_larson_zmax=4.0 SED fitting for JOF v11 NIRCam\n",
      "INFO:galfind:Made .in file for EAZY_fsps_larson_zmax=4.0 SED fitting for JOF v11 NIRCam. \n"
     ]
    },
    {
     "name": "stdout",
     "output_type": "stream",
     "text": [
      "Running SED fitting took 0.1s\n"
     ]
    },
    {
     "name": "stderr",
     "output_type": "stream",
     "text": [
      "INFO:galfind:Loading EAZY_fsps_larson property PDFs into JOF v11 NIRCam\n"
     ]
    },
    {
     "name": "stdout",
     "output_type": "stream",
     "text": [
      "Loading properties and associated errors took 0.9s\n"
     ]
    },
    {
     "name": "stderr",
     "output_type": "stream",
     "text": [
      "Constructing redshift PDFs: 100%|██████████| 16335/16335 [00:00<00:00, 61812.21it/s]\n",
      "INFO:galfind:Finished loading EAZY_fsps_larson property PDFs into JOF v11 NIRCam\n",
      "INFO:galfind:Loading EAZY_fsps_larson SEDs into JOF v11 NIRCam\n",
      "Constructing SEDs: 100%|██████████| 16335/16335 [00:01<00:00, 13997.23it/s]\n",
      "INFO:galfind:Finished loading EAZY_fsps_larson SEDs into JOF v11 NIRCam\n",
      "INFO:galfind:Updating SED results in galfind catalogue object\n",
      "Updating galaxy SED results: 100%|██████████| 16335/16335 [00:00<00:00, 155117.39it/s]\n",
      "INFO:galfind:Making .in file for EAZY_fsps_larson_zmax=6.0 SED fitting for JOF v11 NIRCam\n",
      "INFO:galfind:Made .in file for EAZY_fsps_larson_zmax=6.0 SED fitting for JOF v11 NIRCam. \n"
     ]
    },
    {
     "name": "stdout",
     "output_type": "stream",
     "text": [
      "Running SED fitting took 0.1s\n"
     ]
    },
    {
     "name": "stderr",
     "output_type": "stream",
     "text": [
      "INFO:galfind:Loading EAZY_fsps_larson property PDFs into JOF v11 NIRCam\n"
     ]
    },
    {
     "name": "stdout",
     "output_type": "stream",
     "text": [
      "Loading properties and associated errors took 2.1s\n"
     ]
    },
    {
     "name": "stderr",
     "output_type": "stream",
     "text": [
      "Constructing redshift PDFs: 100%|██████████| 16335/16335 [00:00<00:00, 73632.12it/s]\n",
      "INFO:galfind:Finished loading EAZY_fsps_larson property PDFs into JOF v11 NIRCam\n",
      "INFO:galfind:Loading EAZY_fsps_larson SEDs into JOF v11 NIRCam\n",
      "Constructing SEDs: 100%|██████████| 16335/16335 [00:01<00:00, 13353.57it/s]\n",
      "INFO:galfind:Finished loading EAZY_fsps_larson SEDs into JOF v11 NIRCam\n",
      "INFO:galfind:Updating SED results in galfind catalogue object\n",
      "Updating galaxy SED results: 100%|██████████| 16335/16335 [00:00<00:00, 164242.58it/s]\n",
      "INFO:galfind:Making .in file for EAZY_fsps_larson_zfree SED fitting for JOF v11 NIRCam\n",
      "INFO:galfind:Made .in file for EAZY_fsps_larson_zfree SED fitting for JOF v11 NIRCam. \n"
     ]
    },
    {
     "name": "stdout",
     "output_type": "stream",
     "text": [
      "Running SED fitting took 0.1s\n"
     ]
    },
    {
     "name": "stderr",
     "output_type": "stream",
     "text": [
      "INFO:galfind:Loading EAZY_fsps_larson property PDFs into JOF v11 NIRCam\n"
     ]
    },
    {
     "name": "stdout",
     "output_type": "stream",
     "text": [
      "Loading properties and associated errors took 0.9s\n"
     ]
    },
    {
     "name": "stderr",
     "output_type": "stream",
     "text": [
      "Constructing redshift PDFs: 100%|██████████| 16335/16335 [00:00<00:00, 57692.22it/s]\n",
      "INFO:galfind:Finished loading EAZY_fsps_larson property PDFs into JOF v11 NIRCam\n",
      "INFO:galfind:Loading EAZY_fsps_larson SEDs into JOF v11 NIRCam\n",
      "Constructing SEDs: 100%|██████████| 16335/16335 [00:01<00:00, 13687.70it/s]\n",
      "INFO:galfind:Finished loading EAZY_fsps_larson SEDs into JOF v11 NIRCam\n",
      "INFO:galfind:Updating SED results in galfind catalogue object\n",
      "Updating galaxy SED results: 100%|██████████| 16335/16335 [00:00<00:00, 192622.12it/s]\n"
     ]
    }
   ],
   "source": [
    "JOF_cat_new = Catalogue.pipeline(\n",
    "    survey,\n",
    "    version,\n",
    "    instrument_names = instrument_names, \n",
    "    version_to_dir_dict = morgan_version_to_dir,\n",
    "    aper_diams = aper_diams,\n",
    "    forced_phot_band = forced_phot_band,\n",
    "    min_flux_pc_err = min_flux_pc_err\n",
    ")\n",
    "# load sextractor half-light radii\n",
    "JOF_cat_new.load_sextractor_Re()\n",
    "\n",
    "# load EAZY SED fitting results\n",
    "for SED_fit_params in SED_fit_params_arr:\n",
    "    EAZY_fitter = EAZY(SED_fit_params)\n",
    "    EAZY_fitter(JOF_cat_new, aper_diams[0], load_PDFs = True, load_SEDs = True, update = True)"
   ]
  },
  {
   "cell_type": "code",
   "execution_count": 5,
   "metadata": {},
   "outputs": [
    {
     "name": "stdout",
     "output_type": "stream",
     "text": [
      "Catalogues are different\n"
     ]
    }
   ],
   "source": [
    "if JOF_cat == JOF_cat_new:\n",
    "    print(\"Catalogues are the same\")\n",
    "else:\n",
    "    print(\"Catalogues are different\")"
   ]
  },
  {
   "cell_type": "markdown",
   "metadata": {},
   "source": [
    "Should you notice an error in, for instance, a custom selector, you can always delete the selection fits extension so that you don't keep re-loading the dodgy results."
   ]
  },
  {
   "cell_type": "code",
   "execution_count": 6,
   "metadata": {},
   "outputs": [
    {
     "name": "stderr",
     "output_type": "stream",
     "text": [
      "INFO:galfind:Writing table to /raid/scratch/work/austind/GALFIND_WORK/Catalogues/v11/NIRCam/JOF/(0.32)as/JOF_MASTER_Sel-F277W+F356W+F444W_v11.fits\n",
      "INFO:galfind:Deleted hdu.upper()='SELECTION' from self.cat_path='/raid/scratch/work/austind/GALFIND_WORK/Catalogues/v11/NIRCam/JOF/(0.32)as/JOF_MASTER_Sel-F277W+F356W+F444W_v11.fits'!\n",
      "WARNING: hdu= was not specified but multiple tables are present, reading in first available table (hdu=1) [astropy.io.fits.connect]\n",
      "WARNING:astroquery:hdu= was not specified but multiple tables are present, reading in first available table (hdu=1)\n"
     ]
    },
    {
     "name": "stdout",
     "output_type": "stream",
     "text": [
      "****************************************\n",
      "CATALOGUE(JOF,v11,NIRCam):\n",
      "----------\n",
      "CAT PATH = /raid/scratch/work/austind/GALFIND_WORK/Catalogues/v11/NIRCam/JOF/(0.32)as/JOF_MASTER_Sel-F277W+F356W+F444W_v11.fits\n",
      "TOTAL GALAXIES = 16335\n",
      "RA RANGE = [53.01070689 53.11059594] deg\n",
      "DEC RANGE = [-27.91226173 -27.83206063] deg\n",
      "----------\n",
      "****************************************\n",
      "MULTIPLE_FILTER\n",
      "----------\n",
      "FACILITY: JWST\n",
      "INSTRUMENT: NIRCam\n",
      "FILTERS: ['F090W', 'F115W', 'F150W', 'F162M', 'F182M', 'F200W', 'F210M', 'F250M', 'F277W', 'F300M', 'F335M', 'F356W', 'F410M', 'F444W']\n",
      "****************************************\n",
      "\n"
     ]
    }
   ],
   "source": [
    "JOF_cat_new.del_hdu(hdu = \"SELECTION\")\n",
    "\n",
    "print(JOF_cat_new)"
   ]
  }
 ],
 "metadata": {
  "kernelspec": {
   "display_name": "more_and_more_galfind",
   "language": "python",
   "name": "python3"
  },
  "language_info": {
   "codemirror_mode": {
    "name": "ipython",
    "version": 3
   },
   "file_extension": ".py",
   "mimetype": "text/x-python",
   "name": "python",
   "nbconvert_exporter": "python",
   "pygments_lexer": "ipython3",
   "version": "3.9.20"
  }
 },
 "nbformat": 4,
 "nbformat_minor": 2
}
