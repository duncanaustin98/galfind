{
 "cells": [
  {
   "cell_type": "markdown",
   "metadata": {},
   "source": [
    "# Cutouts\n",
    "\n",
    "Once we have loaded a `Catalogue` object, we may want to have a look at the morphologies of some of the objects in question. This is mainly done via `Galaxy` methods (see the [Galaxy cutouts notebook](../galaxy/cutouts_and_RGBs.ipynb)), which are iteratively called by the corresponding `Catalogue` methods. In this notebook, we will iteratively call these methods to...\n",
    "1. Generate cutouts for every band for every selected galaxy\n",
    "2. Plot a row of band cutouts for each selected galaxy\n",
    "3. Make an RGB of each selected galaxy\n",
    "\n",
    "This is done in example 1.\n",
    "\n",
    "In addition to iteratively calling the `Galaxy` cutout methods, there are additional cutout plotting methods available on the `Catalogue` level. We shall cover this functionality in examples 2, 3, and 4, which focus on stacking galaxies in a single band, making a single stacked RGB, and plotting the single band and RGB cutouts for every selected galaxy in a grid.\n",
    "\n",
    "The first thing we will do is load in the post-selection catalogue!"
   ]
  },
  {
   "cell_type": "markdown",
   "metadata": {},
   "source": [
    "## Example 1: Galaxy level cutout generation and plotting"
   ]
  },
  {
   "cell_type": "markdown",
   "metadata": {},
   "source": [
    "## Example 2: Stacking galaxies in a single band\n"
   ]
  },
  {
   "cell_type": "markdown",
   "metadata": {},
   "source": [
    "## Example 3: Stacking galaxy RGBs"
   ]
  },
  {
   "cell_type": "markdown",
   "metadata": {},
   "source": [
    "## Example 4: Plotting cutouts on a grid"
   ]
  }
 ],
 "metadata": {
  "language_info": {
   "name": "python"
  }
 },
 "nbformat": 4,
 "nbformat_minor": 2
}
