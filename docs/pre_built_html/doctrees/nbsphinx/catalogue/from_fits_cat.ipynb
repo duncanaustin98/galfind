{
 "cells": [
  {
   "cell_type": "markdown",
   "metadata": {},
   "source": [
    "# Making a catalogue object\n"
   ]
  },
  {
   "cell_type": "code",
   "execution_count": 1,
   "metadata": {
    "execution": {
     "iopub.execute_input": "2024-10-09T13:58:06.381496Z",
     "iopub.status.busy": "2024-10-09T13:58:06.381204Z",
     "iopub.status.idle": "2024-10-09T13:58:06.385379Z",
     "shell.execute_reply": "2024-10-09T13:58:06.384677Z"
    }
   },
   "outputs": [],
   "source": [
    "# yos"
   ]
  }
 ],
 "metadata": {
  "language_info": {
   "codemirror_mode": {
    "name": "ipython",
    "version": 3
   },
   "file_extension": ".py",
   "mimetype": "text/x-python",
   "name": "python",
   "nbconvert_exporter": "python",
   "pygments_lexer": "ipython3",
   "version": "3.9.0"
  }
 },
 "nbformat": 4,
 "nbformat_minor": 2
}
