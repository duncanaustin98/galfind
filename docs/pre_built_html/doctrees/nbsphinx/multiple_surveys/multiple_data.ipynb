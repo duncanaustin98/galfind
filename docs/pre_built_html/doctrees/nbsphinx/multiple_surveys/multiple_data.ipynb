{
 "cells": [
  {
   "cell_type": "markdown",
   "metadata": {},
   "source": [
    "# Multiple Data"
   ]
  }
 ],
 "metadata": {},
 "nbformat": 4,
 "nbformat_minor": 2
}
