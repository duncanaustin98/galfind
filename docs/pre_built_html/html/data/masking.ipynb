{
 "cells": [
  {
   "cell_type": "markdown",
   "metadata": {},
   "source": [
    "# Producing and loading survey masks\n",
    "\n",
    "It is never the case in optical and NIR imaging that data exists without any abnormalities; there are always regions where the output flux is not necessarily reliable. The primary culprits of these are image edges and stellar diffraction spikes, however there may well be other image artefacts present. Over the first few years of JWST/NIRCam operations, which observational astrophysics have been using extensively, these artefacts consist of wisps, claws, and snowballs which are not always properly accounted for in data reduction pipelines. For more information on these types of artefacts, please visit the official JWST user documentation following the hyperlinks for [wisps, claws](https://jwst-docs.stsci.edu/depreciated-jdox-articles/nircam-claws-and-wisps#gsc.tab=0), and [snowballs](https://jwst-docs.stsci.edu/depreciated-jdox-articles/data-artifacts-and-features/snowballs-and-shower-artifacts#gsc.tab=0). In the segmentation process, these artefacts may be picked up they can often be bright, however we choose to also mask these specific areas just to make sure.\n",
    "\n",
    "Galfind utilizes two different masking methods which we will cover in the following examples. As usual, our first code block will be to instantiate our Data object with the JOF data."
   ]
  },
  {
   "cell_type": "code",
   "execution_count": 1,
   "metadata": {},
   "outputs": [
    {
     "name": "stdout",
     "output_type": "stream",
     "text": [
      "Reading GALFIND config file from: /nvme/scratch/work/austind/GALFIND/galfind/../configs/galfind_config.ini\n"
     ]
    },
    {
     "name": "stderr",
     "output_type": "stream",
     "text": [
      "INFO:galfind:Aperture corrections for ACS_WFC loaded from /nvme/scratch/work/austind/GALFIND/galfind/Aperture_corrections/ACS_WFC_aper_corr.txt\n",
      "INFO:galfind:Aperture corrections for WFC3_IR loaded from /nvme/scratch/work/austind/GALFIND/galfind/Aperture_corrections/WFC3_IR_aper_corr.txt\n",
      "INFO:galfind:Aperture corrections for NIRCam loaded from /nvme/scratch/work/austind/GALFIND/galfind/Aperture_corrections/NIRCam_aper_corr.txt\n",
      "INFO:galfind:Aperture corrections for MIRI loaded from /nvme/scratch/work/austind/GALFIND/galfind/Aperture_corrections/MIRI_aper_corr.txt\n",
      "INFO:galfind:Aperture corrections for ACS_WFC loaded from /nvme/scratch/work/austind/GALFIND/galfind/Aperture_corrections/ACS_WFC_aper_corr.txt\n",
      "INFO:galfind:Aperture corrections for WFC3_IR loaded from /nvme/scratch/work/austind/GALFIND/galfind/Aperture_corrections/WFC3_IR_aper_corr.txt\n",
      "INFO:galfind:Aperture corrections for NIRCam loaded from /nvme/scratch/work/austind/GALFIND/galfind/Aperture_corrections/NIRCam_aper_corr.txt\n",
      "INFO:galfind:Aperture corrections for MIRI loaded from /nvme/scratch/work/austind/GALFIND/galfind/Aperture_corrections/MIRI_aper_corr.txt\n",
      "INFO:galfind:Aperture corrections for NIRCam loaded from /nvme/scratch/work/austind/GALFIND/galfind/Aperture_corrections/NIRCam_aper_corr.txt\n",
      "INFO:galfind:Loaded aper_diams=<Quantity [0.32, 0.5 , 1.  , 1.5 , 2.  ] arcsec> for F277W+F356W+F444W\n"
     ]
    }
   ],
   "source": [
    "from pathlib import Path\n",
    "from copy import deepcopy\n",
    "import shutil\n",
    "import astropy.units as u\n",
    "from galfind import Stacked_Band_Data, Data, config\n",
    "from galfind.Data import morgan_version_to_dir\n",
    "from galfind import useful_funcs_austind as funcs\n",
    "\n",
    "survey = \"JOF\"\n",
    "version = \"v11\"\n",
    "instrument_names = [\"NIRCam\"]\n",
    "aper_diams = [0.32, 0.5, 1.0, 1.5, 2.0] * u.arcsec\n",
    "forced_phot_band = [\"F277W\", \"F356W\", \"F444W\"]\n",
    "\n",
    "JOF_data = Data.from_survey_version(\n",
    "    survey = survey,\n",
    "    version = version,\n",
    "    instrument_names = instrument_names, \n",
    "    version_to_dir_dict = morgan_version_to_dir,\n",
    "    aper_diams = aper_diams,\n",
    "    forced_phot_band = forced_phot_band,\n",
    ")\n",
    "JOF_data_2 = deepcopy(JOF_data)\n",
    "JOF_data_3 = deepcopy(JOF_data)\n",
    "JOF_data_4 = deepcopy(JOF_data)\n",
    "JOF_data_5 = deepcopy(JOF_data)\n",
    "JOF_data_6 = deepcopy(JOF_data)"
   ]
  },
  {
   "cell_type": "markdown",
   "metadata": {},
   "source": [
    "## Example 1: Manually masking the data\n",
    "\n",
    "In this example, we will convert our pre-created .reg mask paths made in ds9 (or other image analysis package which produces an identical .reg output) to pixel masks using the `Data.mask()` method. We explicitly passing in `manual` as our preferred method. This requires masks to the relevant filters to be included in the following sub-directory:"
   ]
  },
  {
   "cell_type": "code",
   "execution_count": 2,
   "metadata": {},
   "outputs": [
    {
     "name": "stdout",
     "output_type": "stream",
     "text": [
      "/raid/scratch/work/austind/GALFIND_WORK/Masks/JOF/reg\n"
     ]
    }
   ],
   "source": [
    "print(f\"{config['Masking']['MASK_DIR']}/{JOF_data.survey}/reg\")"
   ]
  },
  {
   "cell_type": "markdown",
   "metadata": {},
   "source": [
    "The internal code uses glob.glob to extract the required paths which contain the band name labelled in 1 of 4 ways. For example, the F444W filter could be written as either:\n",
    "1. F444W (obviously)\n",
    "2. f444w (lower case)\n",
    "3. F444w (capitalized)\n",
    "4. f444W (upper case with lowered F)\n",
    "It is worth noting that including more than 1 mask path per filter in this directory will cause the code to crash.\n",
    "\n",
    "The first thing the code will do post path extraction will be to 'clean' these mask paths for regions with zero size. This may sound a little odd but for certain versions of ds9 (don't ask me which as I don't know), it is possible to accidentally create these regions, which then cause the entire region to be masked. Obviously this is not the expected behaviour, and so to get rid of these explicit cleaning of these .reg files is required. Following cleaning, these .reg masks will be converted to a pixel mask on the same scale as the SCI/ERR/WHT imaging and saved as a .fits mask."
   ]
  },
  {
   "cell_type": "code",
   "execution_count": 3,
   "metadata": {},
   "outputs": [
    {
     "name": "stderr",
     "output_type": "stream",
     "text": [
      "INFO:galfind:Combined mask for <galfind.Data.Stacked_Band_Data object at 0x7fcef92b02b0> already exists at /raid/scratch/work/austind/GALFIND_WORK/Masks/JOF/combined/JOF_F277W+F356W+F444W_manual.fits\n"
     ]
    }
   ],
   "source": [
    "JOF_data.mask(method = \"manual\")"
   ]
  },
  {
   "cell_type": "markdown",
   "metadata": {},
   "source": [
    "Let's have a look to see if we can find the newly created fits maps."
   ]
  },
  {
   "cell_type": "code",
   "execution_count": 4,
   "metadata": {},
   "outputs": [
    {
     "name": "stdout",
     "output_type": "stream",
     "text": [
      "{'F090W': '/raid/scratch/work/austind/GALFIND_WORK/Masks/JOF/manual/F090W_v11_manual.fits', 'F115W': '/raid/scratch/work/austind/GALFIND_WORK/Masks/JOF/manual/F115W_v11_manual.fits', 'F150W': '/raid/scratch/work/austind/GALFIND_WORK/Masks/JOF/manual/F150W_v11_manual.fits', 'F162M': '/raid/scratch/work/austind/GALFIND_WORK/Masks/JOF/manual/F162M_v11_manual.fits', 'F182M': '/raid/scratch/work/austind/GALFIND_WORK/Masks/JOF/manual/F182M_v11_manual.fits', 'F200W': '/raid/scratch/work/austind/GALFIND_WORK/Masks/JOF/manual/F200W_v11_manual.fits', 'F210M': '/raid/scratch/work/austind/GALFIND_WORK/Masks/JOF/manual/F210M_v11_manual.fits', 'F250M': '/raid/scratch/work/austind/GALFIND_WORK/Masks/JOF/manual/F250M_v11_manual.fits', 'F277W': '/raid/scratch/work/austind/GALFIND_WORK/Masks/JOF/manual/F277W_v11_manual.fits', 'F300M': '/raid/scratch/work/austind/GALFIND_WORK/Masks/JOF/manual/F300M_v11_manual.fits', 'F335M': '/raid/scratch/work/austind/GALFIND_WORK/Masks/JOF/manual/F335M_v11_manual.fits', 'F356W': '/raid/scratch/work/austind/GALFIND_WORK/Masks/JOF/manual/F356W_v11_manual.fits', 'F410M': '/raid/scratch/work/austind/GALFIND_WORK/Masks/JOF/manual/F410M_v11_manual.fits', 'F444W': '/raid/scratch/work/austind/GALFIND_WORK/Masks/JOF/manual/F444W_v11_manual.fits', 'F277W+F356W+F444W': '/raid/scratch/work/austind/GALFIND_WORK/Masks/JOF/combined/JOF_F277W+F356W+F444W_manual.fits'}\n",
      "F090W mask exists\n",
      "F115W mask exists\n",
      "F150W mask exists\n",
      "F162M mask exists\n",
      "F182M mask exists\n",
      "F200W mask exists\n",
      "F210M mask exists\n",
      "F250M mask exists\n",
      "F277W mask exists\n",
      "F300M mask exists\n",
      "F335M mask exists\n",
      "F356W mask exists\n",
      "F410M mask exists\n",
      "F444W mask exists\n",
      "F277W+F356W+F444W mask exists\n"
     ]
    }
   ],
   "source": [
    "print(JOF_data.mask_paths)\n",
    "\n",
    "for filt_name, path in JOF_data.mask_paths.items():\n",
    "    if Path(path).is_file():\n",
    "        print(f\"{filt_name} mask exists\")\n",
    "    else:\n",
    "        print(f\"{filt_name} mask does not exist\")"
   ]
  },
  {
   "cell_type": "markdown",
   "metadata": {},
   "source": [
    "And also see how this impacts the print statement."
   ]
  },
  {
   "cell_type": "code",
   "execution_count": 5,
   "metadata": {},
   "outputs": [
    {
     "name": "stdout",
     "output_type": "stream",
     "text": [
      "****************************************\n",
      "DATA OBJECT:\n",
      "----------\n",
      "SURVEY: JOF\n",
      "VERSION: v11\n",
      "****************************************\n",
      "MULTIPLE_FILTER\n",
      "----------\n",
      "FACILITY: JWST\n",
      "INSTRUMENT: NIRCam\n",
      "FILTERS: ['F090W', 'F115W', 'F150W', 'F162M', 'F182M', 'F200W', 'F210M', 'F250M', 'F277W', 'F300M', 'F335M', 'F356W', 'F410M', 'F444W']\n",
      "****************************************\n",
      "****************************************\n",
      "\n"
     ]
    }
   ],
   "source": [
    "print(JOF_data)"
   ]
  },
  {
   "cell_type": "markdown",
   "metadata": {},
   "source": [
    "As with other examples we've seen, for example with the [segmentation maps](source_extraction.ipynb), attempting to load masks into an object which already contains them will not work. The original mask paths will remain. This is to prevent confusion with which masks have been used to create any products that require these mask paths, for example the band [depths](running_depths.ipynb)."
   ]
  },
  {
   "cell_type": "code",
   "execution_count": 6,
   "metadata": {},
   "outputs": [
    {
     "name": "stderr",
     "output_type": "stream",
     "text": [
      "INFO:galfind:Combined mask for <galfind.Data.Stacked_Band_Data object at 0x7fcef92b02b0> already exists at /raid/scratch/work/austind/GALFIND_WORK/Masks/JOF/combined/JOF_F277W+F356W+F444W_manual.fits\n"
     ]
    },
    {
     "name": "stdout",
     "output_type": "stream",
     "text": [
      "****************************************\n",
      "DATA OBJECT:\n",
      "----------\n",
      "SURVEY: JOF\n",
      "VERSION: v11\n",
      "****************************************\n",
      "MULTIPLE_FILTER\n",
      "----------\n",
      "FACILITY: JWST\n",
      "INSTRUMENT: NIRCam\n",
      "FILTERS: ['F090W', 'F115W', 'F150W', 'F162M', 'F182M', 'F200W', 'F210M', 'F250M', 'F277W', 'F300M', 'F335M', 'F356W', 'F410M', 'F444W']\n",
      "****************************************\n",
      "****************************************\n",
      "\n"
     ]
    }
   ],
   "source": [
    "JOF_data.mask(method = \"auto\")\n",
    "print(JOF_data)"
   ]
  },
  {
   "cell_type": "markdown",
   "metadata": {},
   "source": [
    "## Example 2: Plotting the mask for a Stacked_Band_Data object"
   ]
  },
  {
   "cell_type": "markdown",
   "metadata": {},
   "source": [
    "To be clear, the `Data.mask()` function we have used in example 1 loops through the stored `Band_Data` objects and individually masks each one of them. But what if we want to make a mask for a `Stacked_Band_Data` object? To have a look at this we'll instantiate a couple of fresh new JOF `Data` objects and produce a `Stacked_Band_Data` object for the F277W, F356W, and F444W filters commonly used for selection when performing forced photometry (as we will do in the notebook on [cataloguing the data](cataloguing_the_data.ipynb))."
   ]
  },
  {
   "cell_type": "code",
   "execution_count": 7,
   "metadata": {},
   "outputs": [
    {
     "name": "stderr",
     "output_type": "stream",
     "text": [
      "INFO:galfind:Loaded aper_diams=<Quantity [0.32, 0.5 , 1.  , 1.5 , 2.  ] arcsec> for F277W+F356W+F444W\n"
     ]
    },
    {
     "name": "stdout",
     "output_type": "stream",
     "text": [
      "<galfind.Data.Stacked_Band_Data object at 0x7fcfc02dbac0>\n"
     ]
    }
   ],
   "source": [
    "LW_nircam_stack = Stacked_Band_Data.from_band_data_arr(\n",
    "    [band_data for band_data in JOF_data_2[\"F277W+F356W+F444W\"]])\n",
    "print(LW_nircam_stack)"
   ]
  },
  {
   "cell_type": "code",
   "execution_count": 8,
   "metadata": {},
   "outputs": [
    {
     "name": "stderr",
     "output_type": "stream",
     "text": [
      "INFO:galfind:Combined mask for <galfind.Data.Stacked_Band_Data object at 0x7fcfc02dbac0> already exists at /raid/scratch/work/austind/GALFIND_WORK/Masks/JOF/combined/JOF_F277W+F356W+F444W_manual.fits\n"
     ]
    }
   ],
   "source": [
    "LW_nircam_stack.mask(method = \"manual\")"
   ]
  },
  {
   "cell_type": "markdown",
   "metadata": {},
   "source": [
    "To conclude this example, we will plot the mask for the stacked data. We explicitly write the input arguments used by default here for clarity."
   ]
  },
  {
   "cell_type": "code",
   "execution_count": 9,
   "metadata": {},
   "outputs": [],
   "source": [
    "#LW_nircam_stack.plot(ext = \"mask\")"
   ]
  },
  {
   "cell_type": "markdown",
   "metadata": {},
   "source": [
    "Above we have implemented the default mask plotting which is used for both `Band_Data` and `Stacked_Band_Data` objects. Let's have a peek at some of the plotting options which we can implement here."
   ]
  },
  {
   "cell_type": "markdown",
   "metadata": {},
   "source": [
    "## Example 3: Automated masking of the data"
   ]
  },
  {
   "cell_type": "code",
   "execution_count": 10,
   "metadata": {},
   "outputs": [
    {
     "name": "stderr",
     "output_type": "stream",
     "text": [
      "INFO:galfind:Combined mask for <galfind.Data.Stacked_Band_Data object at 0x7fcef92d8400> already exists at /raid/scratch/work/austind/GALFIND_WORK/Masks/JOF/combined/JOF_F277W+F356W+F444W_auto.fits\n"
     ]
    }
   ],
   "source": [
    "JOF_data_3.mask(method = \"auto\")"
   ]
  },
  {
   "cell_type": "markdown",
   "metadata": {},
   "source": [
    "Once again, let us have a look at the masks paths that have been produced here and plot the mask for the F444W filter."
   ]
  },
  {
   "cell_type": "code",
   "execution_count": 11,
   "metadata": {},
   "outputs": [
    {
     "name": "stdout",
     "output_type": "stream",
     "text": [
      "****************************************\n",
      "DATA OBJECT:\n",
      "----------\n",
      "SURVEY: JOF\n",
      "VERSION: v11\n",
      "****************************************\n",
      "MULTIPLE_FILTER\n",
      "----------\n",
      "FACILITY: JWST\n",
      "INSTRUMENT: NIRCam\n",
      "FILTERS: ['F090W', 'F115W', 'F150W', 'F162M', 'F182M', 'F200W', 'F210M', 'F250M', 'F277W', 'F300M', 'F335M', 'F356W', 'F410M', 'F444W']\n",
      "****************************************\n",
      "****************************************\n",
      "\n"
     ]
    },
    {
     "data": {
      "image/png": "[encoded data removed]",
      "text/plain": [
       "<Figure size 640x480 with 1 Axes>"
      ]
     },
     "metadata": {},
     "output_type": "display_data"
    }
   ],
   "source": [
    "print(JOF_data_3)\n",
    "JOF_data_3[\"F444W\"].plot(ext = \"mask\", show = True)"
   ]
  },
  {
   "cell_type": "markdown",
   "metadata": {},
   "source": [
    "There are plenty of arguments that can be passed into the `Data.mask` method which impact the automated masking process. These can either be passed in as:\n",
    "1. A single value, which will then be used for all `Band_Data` objects within `Data`\n",
    "2. A list of values with length equal to the length of the `Data` object, which will be passed to `Band_Data.mask` elementwise\n",
    "3. A dict of {filt_name: value} containing all filter names in the `Data` object, which will be passed to `Band_Data.mask` explicitly by filter name\n",
    "\n",
    "Below we explicitly produce dictionaries of the default values for each filter that are used in the masking process. These can be changed on a band-by-band basis for additional mask personalisation. "
   ]
  },
  {
   "cell_type": "code",
   "execution_count": 12,
   "metadata": {},
   "outputs": [
    {
     "name": "stderr",
     "output_type": "stream",
     "text": [
      "INFO:galfind:Combined mask for <galfind.Data.Stacked_Band_Data object at 0x7fce5d2c8f10> already exists at /raid/scratch/work/austind/GALFIND_WORK/Masks/JOF/combined/JOF_F277W+F356W+F444W_auto.fits\n"
     ]
    }
   ],
   "source": [
    "default_star_mask_params = \\\n",
    "{\n",
    "    \"central\": {\"a\": 300.0, \"b\": 4.25},\n",
    "    \"spikes\": {\"a\": 400.0, \"b\": 4.5},\n",
    "} \n",
    "star_mask_params_dict = {band_data.filt_name: default_star_mask_params for band_data in JOF_data_4}\n",
    "edge_mask_distance_dict = {band_data.filt_name: 50 for band_data in JOF_data_4}\n",
    "scale_extra_dict = {band_data.filt_name: 0.2 for band_data in JOF_data_4}\n",
    "exclude_gaia_galaxies_dict = {band_data.filt_name: True for band_data in JOF_data_4}\n",
    "angle_dict = {band_data.filt_name: -70.0 for band_data in JOF_data_4}\n",
    "edge_value_dict = {band_data.filt_name: 0.0 for band_data in JOF_data_4}\n",
    "element_dict = {band_data.filt_name: \"ELLIPSE\" for band_data in JOF_data_4}\n",
    "gaia_row_lim_dict = {band_data.filt_name: 500 for band_data in JOF_data_4}\n",
    "overwrite_dict = {band_data.filt_name: False for band_data in JOF_data_4}\n",
    "\n",
    "JOF_data_4.mask(\n",
    "    \"auto\", \n",
    "    star_mask_params = star_mask_params_dict, \n",
    "    edge_mask_distance = edge_mask_distance_dict, \n",
    "    scale_extra = scale_extra_dict, \n",
    "    exclude_gaia_galaxies = exclude_gaia_galaxies_dict, \n",
    "    angle = angle_dict, \n",
    "    edge_value = edge_value_dict, \n",
    "    element = element_dict, \n",
    "    gaia_row_lim = gaia_row_lim_dict, \n",
    "    overwrite = overwrite_dict\n",
    ")"
   ]
  },
  {
   "cell_type": "markdown",
   "metadata": {},
   "source": [
    "We can see that the second time these masks are made automatically is much faster since they are simply loaded from the masks produced from the `JOF_data_3` object. Let us now check that these two implementations are the same."
   ]
  },
  {
   "cell_type": "code",
   "execution_count": 13,
   "metadata": {},
   "outputs": [
    {
     "name": "stdout",
     "output_type": "stream",
     "text": [
      "Data objects are the same\n"
     ]
    }
   ],
   "source": [
    "if JOF_data_3 == JOF_data_4:\n",
    "    print(\"Data objects are the same\")\n",
    "else:\n",
    "    print(\"Data objects are different\")"
   ]
  },
  {
   "cell_type": "markdown",
   "metadata": {},
   "source": [
    "Since this metadata does not change the path that the mask for each band is saved in, should we attempt to load in the mask again using a different set of input parameters, the previously created mask will be loaded in instead of the one that would be implemented using the input arguments. Should you wish to overwrite the mask with the new implementation, you must pass `overwrite=True` into the `Data.mask` method. In either case, the saved mask arguments will match those that were used to create the mask the object points at if the ones the user inputs are different.\n",
    "\n",
    "As an example of this, we will change the `edge_mask_distance` for the F444W band and reload the mask for a previously unmasked JOF `Data` object. When masking the JOF_data_4 object, the code populated the dictionary value for the F277W+F356W+F444W stacked band, although this becomes an issue when attempting to update one or more of the automasking parameters in one of the bands used for stacking. We therefore explicitly include F277W+F356W+F444W into our dictionary below"
   ]
  },
  {
   "cell_type": "code",
   "execution_count": 14,
   "metadata": {},
   "outputs": [
    {
     "name": "stderr",
     "output_type": "stream",
     "text": [
      "INFO:galfind:Combined mask for <galfind.Data.Stacked_Band_Data object at 0x7fcef92bfd00> already exists at /raid/scratch/work/austind/GALFIND_WORK/Masks/JOF/combined/JOF_F277W+F356W+F444W_auto.fits\n"
     ]
    },
    {
     "name": "stdout",
     "output_type": "stream",
     "text": [
      "50 != 100\n"
     ]
    }
   ],
   "source": [
    "edge_mask_distance_dict = {**{band_data.filt_name: 50 if band_data.filt_name != \"F444W\" else 100 for band_data in JOF_data_5}, **{\"F277W+F356W+F444W\": 50}}\n",
    "JOF_data_5.mask(\n",
    "    \"auto\", \n",
    "    star_mask_params = star_mask_params_dict, \n",
    "    edge_mask_distance = edge_mask_distance_dict, \n",
    "    scale_extra = scale_extra_dict, \n",
    "    exclude_gaia_galaxies = exclude_gaia_galaxies_dict, \n",
    "    angle = angle_dict, \n",
    "    edge_value = edge_value_dict, \n",
    "    element = element_dict, \n",
    "    gaia_row_lim = gaia_row_lim_dict, \n",
    "    overwrite = False\n",
    ")\n",
    "if JOF_data_5[\"F444W\"].mask_args[\"edge_mask_distance\"] == edge_mask_distance_dict[\"F444W\"]:\n",
    "    print(f\"{JOF_data_5['F444W'].mask_args['edge_mask_distance']} = {edge_mask_distance_dict['F444W']}\")\n",
    "else:\n",
    "    print(f\"{JOF_data_5['F444W'].mask_args['edge_mask_distance']} != {edge_mask_distance_dict['F444W']}\")"
   ]
  },
  {
   "cell_type": "markdown",
   "metadata": {},
   "source": [
    "We can see that the saved mask arguments are not the same as those input by the user since the mask has not been made using the user inputs."
   ]
  },
  {
   "cell_type": "markdown",
   "metadata": {},
   "source": [
    "## Example 4: Loading fits masks directly\n",
    "\n",
    "In this final masking example, instead of producing the masks by using the `method = \"auto\"` or `method = \"manual\"` arguments, we will explicitly load them using the `fits_mask_path` argument. This is useful if you have masks saved in other locations outside of the `GALFIND_WORK` directory set in the config file. We will first copy our manually created masks from the default paths into a directory one step up from `GALFIND_WORK` and rename them for the sake of it."
   ]
  },
  {
   "cell_type": "code",
   "execution_count": 15,
   "metadata": {},
   "outputs": [
    {
     "name": "stdout",
     "output_type": "stream",
     "text": [
      "/raid/scratch/work/austind/GALFIND_WORK/Masks/JOF/combined/JOF_F277W+F356W+F444W_auto.fits\n",
      "dict_values(['/raid/scratch/work/austind/GALFIND_WORK/Masks/JOF/auto/F090W_auto.fits', '/raid/scratch/work/austind/GALFIND_WORK/Masks/JOF/auto/F115W_auto.fits', '/raid/scratch/work/austind/GALFIND_WORK/Masks/JOF/auto/F150W_auto.fits', '/raid/scratch/work/austind/GALFIND_WORK/Masks/JOF/auto/F162M_auto.fits', '/raid/scratch/work/austind/GALFIND_WORK/Masks/JOF/auto/F182M_auto.fits', '/raid/scratch/work/austind/GALFIND_WORK/Masks/JOF/auto/F200W_auto.fits', '/raid/scratch/work/austind/GALFIND_WORK/Masks/JOF/auto/F210M_auto.fits', '/raid/scratch/work/austind/GALFIND_WORK/Masks/JOF/auto/F250M_auto.fits', '/raid/scratch/work/austind/GALFIND_WORK/Masks/JOF/auto/F277W_auto.fits', '/raid/scratch/work/austind/GALFIND_WORK/Masks/JOF/auto/F300M_auto.fits', '/raid/scratch/work/austind/GALFIND_WORK/Masks/JOF/auto/F335M_auto.fits', '/raid/scratch/work/austind/GALFIND_WORK/Masks/JOF/auto/F356W_auto.fits', '/raid/scratch/work/austind/GALFIND_WORK/Masks/JOF/auto/F410M_auto.fits', '/raid/scratch/work/austind/GALFIND_WORK/Masks/JOF/auto/F444W_auto.fits', '/raid/scratch/work/austind/GALFIND_WORK/Masks/JOF/combined/JOF_F277W+F356W+F444W_auto.fits']) dict_values(['/raid/scratch/work/austind/GALFIND_WORK/new_masks/confusing_name_1.fits', '/raid/scratch/work/austind/GALFIND_WORK/new_masks/confusing_name_2.fits', '/raid/scratch/work/austind/GALFIND_WORK/new_masks/confusing_name_3.fits', '/raid/scratch/work/austind/GALFIND_WORK/new_masks/confusing_name_4.fits', '/raid/scratch/work/austind/GALFIND_WORK/new_masks/confusing_name_5.fits', '/raid/scratch/work/austind/GALFIND_WORK/new_masks/confusing_name_6.fits', '/raid/scratch/work/austind/GALFIND_WORK/new_masks/confusing_name_7.fits', '/raid/scratch/work/austind/GALFIND_WORK/new_masks/confusing_name_8.fits', '/raid/scratch/work/austind/GALFIND_WORK/new_masks/confusing_name_9.fits', '/raid/scratch/work/austind/GALFIND_WORK/new_masks/confusing_name_10.fits', '/raid/scratch/work/austind/GALFIND_WORK/new_masks/confusing_name_11.fits', '/raid/scratch/work/austind/GALFIND_WORK/new_masks/confusing_name_12.fits', '/raid/scratch/work/austind/GALFIND_WORK/new_masks/confusing_name_13.fits', '/raid/scratch/work/austind/GALFIND_WORK/new_masks/confusing_name_14.fits', '/raid/scratch/work/austind/GALFIND_WORK/new_masks/confusing_name_15.fits'])\n"
     ]
    },
    {
     "data": {
      "text/plain": [
       "['/raid/scratch/work/austind/GALFIND_WORK/new_masks/confusing_name_1.fits',\n",
       " '/raid/scratch/work/austind/GALFIND_WORK/new_masks/confusing_name_2.fits',\n",
       " '/raid/scratch/work/austind/GALFIND_WORK/new_masks/confusing_name_3.fits',\n",
       " '/raid/scratch/work/austind/GALFIND_WORK/new_masks/confusing_name_4.fits',\n",
       " '/raid/scratch/work/austind/GALFIND_WORK/new_masks/confusing_name_5.fits',\n",
       " '/raid/scratch/work/austind/GALFIND_WORK/new_masks/confusing_name_6.fits',\n",
       " '/raid/scratch/work/austind/GALFIND_WORK/new_masks/confusing_name_7.fits',\n",
       " '/raid/scratch/work/austind/GALFIND_WORK/new_masks/confusing_name_8.fits',\n",
       " '/raid/scratch/work/austind/GALFIND_WORK/new_masks/confusing_name_9.fits',\n",
       " '/raid/scratch/work/austind/GALFIND_WORK/new_masks/confusing_name_10.fits',\n",
       " '/raid/scratch/work/austind/GALFIND_WORK/new_masks/confusing_name_11.fits',\n",
       " '/raid/scratch/work/austind/GALFIND_WORK/new_masks/confusing_name_12.fits',\n",
       " '/raid/scratch/work/austind/GALFIND_WORK/new_masks/confusing_name_13.fits',\n",
       " '/raid/scratch/work/austind/GALFIND_WORK/new_masks/confusing_name_14.fits',\n",
       " '/raid/scratch/work/austind/GALFIND_WORK/new_masks/confusing_name_15.fits']"
      ]
     },
     "execution_count": 15,
     "metadata": {},
     "output_type": "execute_result"
    }
   ],
   "source": [
    "# create directory for new masks\n",
    "print(JOF_data_5.forced_phot_band.mask_path)\n",
    "new_dir = f\"{config['DEFAULT']['GALFIND_WORK']}/new_masks\"\n",
    "new_mask_paths = {**{band_data.filt_name: \n",
    "    f\"{new_dir}/confusing_name_{str(i + 1)}.fits\"\n",
    "    for i, band_data in enumerate(JOF_data_5)}, \n",
    "    JOF_data_5.forced_phot_band.filt_name: \n",
    "    f\"{new_dir}/confusing_name_{str(len(JOF_data_5) + 1)}.fits\"}\n",
    "funcs.make_dirs(list(new_mask_paths.values())[0])\n",
    "# recursively copy masks across to new directory\n",
    "print(JOF_data_5.mask_paths.values(), new_mask_paths.values())\n",
    "[shutil.copyfile(src, dst) for src, dst in zip(JOF_data_5.mask_paths.values(), new_mask_paths.values())]"
   ]
  },
  {
   "cell_type": "markdown",
   "metadata": {},
   "source": [
    "Now we shall load them into our `Data` object using `Data.mask()` as before."
   ]
  },
  {
   "cell_type": "code",
   "execution_count": 16,
   "metadata": {},
   "outputs": [
    {
     "name": "stderr",
     "output_type": "stream",
     "text": [
      "INFO:galfind:Combined mask for <galfind.Data.Stacked_Band_Data object at 0x7fcef92d3bb0> already exists at /raid/scratch/work/austind/GALFIND_WORK/Masks/JOF/combined/JOF_F277W+F356W+F444W_auto.fits\n"
     ]
    },
    {
     "name": "stdout",
     "output_type": "stream",
     "text": [
      "****************************************\n",
      "DATA OBJECT:\n",
      "----------\n",
      "SURVEY: JOF\n",
      "VERSION: v11\n",
      "****************************************\n",
      "MULTIPLE_FILTER\n",
      "----------\n",
      "FACILITY: JWST\n",
      "INSTRUMENT: NIRCam\n",
      "FILTERS: ['F090W', 'F115W', 'F150W', 'F162M', 'F182M', 'F200W', 'F210M', 'F250M', 'F277W', 'F300M', 'F335M', 'F356W', 'F410M', 'F444W']\n",
      "****************************************\n",
      "****************************************\n",
      "\n"
     ]
    }
   ],
   "source": [
    "JOF_data_6.mask(fits_mask_path = new_mask_paths)\n",
    "print(JOF_data_6)"
   ]
  },
  {
   "cell_type": "markdown",
   "metadata": {},
   "source": [
    "Here we can see that the paths to our masks match the confusingly named paths set previously. Let's now delete the copied directory to clean up what we have done in this example."
   ]
  },
  {
   "cell_type": "code",
   "execution_count": 17,
   "metadata": {},
   "outputs": [],
   "source": [
    "shutil.rmtree(new_dir)"
   ]
  }
 ],
 "metadata": {
  "kernelspec": {
   "display_name": "galfind_test",
   "language": "python",
   "name": "python3"
  },
  "language_info": {
   "codemirror_mode": {
    "name": "ipython",
    "version": 3
   },
   "file_extension": ".py",
   "mimetype": "text/x-python",
   "name": "python",
   "nbconvert_exporter": "python",
   "pygments_lexer": "ipython3",
   "version": "3.9.0"
  }
 },
 "nbformat": 4,
 "nbformat_minor": 2
}
