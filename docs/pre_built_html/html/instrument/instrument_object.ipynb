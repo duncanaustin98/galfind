{
 "cells": [
  {
   "cell_type": "markdown",
   "metadata": {},
   "source": [
    "# The Instrument object\n",
    "\n",
    "The `Instrument` class within galfind is an abstract base class containing references to both the `Facility` class that it is a part of and the names of the filters which it uses for photometric imaging. It is parent to 4 Singleton child classes which, in order of increasing wavelength coverage, are: `ACS_WFC`, `WFC3_IR`, `NIRCam`, `MIRI`. The `Facility` class is also an abstract base class parent to 2 Singleton classes, namely `HST` (`ACS_WFC` and `WFC3_IR`) and `JWST` (`NIRCam` and `MIRI`). These base class names are chosen to follow the convention used in the SVO.\n",
    "\n",
    "There are, of course, more potential optical or NIR facility/instrument combinations that the user may wish to include in their analysis that are excluded from the 4 above but included in the SVO database. These are, most notably, Spitzer/IRAC, JWST/NIRISS, HST/WFC3_UVIS, HST/NICMOS, and any ground based cameras such as Subaru/HSC or CFHT/MegaCam. There is no particular limitation preventing us from including these other than merely available time, and any contributions to galfind regarding this would be gladly accepted (follow [this link](../getting_started/updates.rst) for more information regarding this). It is worth baring in mind that the most major time consumption here is the handling of `PSF` modelling and subsequent aperture corrections, which we will get onto in both this notebook and [the next](PSF.ipynb).\n",
    "\n",
    "## Example 1: Singleton objects\n",
    "\n",
    "To start off, we need to first instantiate a Singleton object. For this example, we shall arbitrarily choose `NIRCam`. There is nothing particularly fancy going on here since this is a singleton object. Once we instantiate one instance of NIRCam, any further instances match it.\n",
    "\n",
    "<!-- An `Instrument` child class is stored within each `Filter` object instantiated from the SVO (see [the `Filter` notebook](filter.ipynb)) and contans vital methods for  -->"
   ]
  },
  {
   "cell_type": "code",
   "execution_count": 1,
   "metadata": {
    "execution": {
     "iopub.execute_input": "2024-10-09T13:58:19.194842Z",
     "iopub.status.busy": "2024-10-09T13:58:19.194566Z",
     "iopub.status.idle": "2024-10-09T13:58:22.873162Z",
     "shell.execute_reply": "2024-10-09T13:58:22.872314Z"
    }
   },
   "outputs": [
    {
     "name": "stdout",
     "output_type": "stream",
     "text": [
      "Reading GALFIND config file from: /nvme/scratch/work/austind/GALFIND/galfind/../configs/galfind_config.ini\n"
     ]
    },
    {
     "name": "stderr",
     "output_type": "stream",
     "text": [
      "INFO:galfind:Aperture corrections for ACS_WFC loaded from /nvme/scratch/work/austind/GALFIND/galfind/Aperture_corrections/ACS_WFC_aper_corr.txt\n"
     ]
    },
    {
     "name": "stderr",
     "output_type": "stream",
     "text": [
      "INFO:galfind:Aperture corrections for WFC3_IR loaded from /nvme/scratch/work/austind/GALFIND/galfind/Aperture_corrections/WFC3_IR_aper_corr.txt\n"
     ]
    },
    {
     "name": "stderr",
     "output_type": "stream",
     "text": [
      "INFO:galfind:Aperture corrections for NIRCam loaded from /nvme/scratch/work/austind/GALFIND/galfind/Aperture_corrections/NIRCam_aper_corr.txt\n"
     ]
    },
    {
     "name": "stderr",
     "output_type": "stream",
     "text": [
      "INFO:galfind:Aperture corrections for MIRI loaded from /nvme/scratch/work/austind/GALFIND/galfind/Aperture_corrections/MIRI_aper_corr.txt\n"
     ]
    },
    {
     "name": "stderr",
     "output_type": "stream",
     "text": [
      "INFO:galfind:Aperture corrections for ACS_WFC loaded from /nvme/scratch/work/austind/GALFIND/galfind/Aperture_corrections/ACS_WFC_aper_corr.txt\n"
     ]
    },
    {
     "name": "stderr",
     "output_type": "stream",
     "text": [
      "INFO:galfind:Aperture corrections for WFC3_IR loaded from /nvme/scratch/work/austind/GALFIND/galfind/Aperture_corrections/WFC3_IR_aper_corr.txt\n"
     ]
    },
    {
     "name": "stderr",
     "output_type": "stream",
     "text": [
      "INFO:galfind:Aperture corrections for NIRCam loaded from /nvme/scratch/work/austind/GALFIND/galfind/Aperture_corrections/NIRCam_aper_corr.txt\n"
     ]
    },
    {
     "name": "stderr",
     "output_type": "stream",
     "text": [
      "INFO:galfind:Aperture corrections for MIRI loaded from /nvme/scratch/work/austind/GALFIND/galfind/Aperture_corrections/MIRI_aper_corr.txt\n"
     ]
    },
    {
     "name": "stderr",
     "output_type": "stream",
     "text": [
      "INFO:galfind:Aperture corrections for NIRCam loaded from /nvme/scratch/work/austind/GALFIND/galfind/Aperture_corrections/NIRCam_aper_corr.txt\n"
     ]
    },
    {
     "name": "stderr",
     "output_type": "stream",
     "text": [
      "INFO:galfind:Aperture corrections for NIRCam loaded from /nvme/scratch/work/austind/GALFIND/galfind/Aperture_corrections/NIRCam_aper_corr.txt\n"
     ]
    },
    {
     "name": "stdout",
     "output_type": "stream",
     "text": [
      "****************************************\n",
      "JWST/NIRCam\n",
      "****************************************\n",
      "----------\n",
      "****************************************\n",
      "\n",
      "****************************************\n",
      "JWST/NIRCam\n",
      "****************************************\n",
      "----------\n",
      "****************************************\n",
      "\n"
     ]
    }
   ],
   "source": [
    "from galfind import NIRCam\n",
    "\n",
    "# Create a NIRCam object\n",
    "nircam = NIRCam()\n",
    "\n",
    "# Print the NIRCam object\n",
    "print(nircam)\n",
    "\n",
    "# Add random attributes to the NIRCam object\n",
    "nircam.random_attribute = 42\n",
    "nircam.whos_a_good_singleton = \"I am!\"\n",
    "\n",
    "# Create another NIRCam object to showcase the Singleton\n",
    "nircam2 = NIRCam()\n",
    "print(nircam2)\n",
    "\n",
    "# Delete the second NIRCam object (also deletes the first)\n",
    "del nircam2"
   ]
  },
  {
   "cell_type": "markdown",
   "metadata": {},
   "source": [
    "## Example 2: Making model NIRCam PSFs with WebbPSF"
   ]
  },
  {
   "cell_type": "markdown",
   "metadata": {},
   "source": [
    "## Example 3: Making empirical PSFs for NIRCam from the JOF imaging"
   ]
  },
  {
   "cell_type": "markdown",
   "metadata": {},
   "source": [
    "## Example 4: Comparing model and empirical PSFs"
   ]
  },
  {
   "cell_type": "markdown",
   "metadata": {},
   "source": [
    "## Example 5: Calculating aperture corrections from the PSFs"
   ]
  }
 ],
 "metadata": {
  "language_info": {
   "codemirror_mode": {
    "name": "ipython",
    "version": 3
   },
   "file_extension": ".py",
   "mimetype": "text/x-python",
   "name": "python",
   "nbconvert_exporter": "python",
   "pygments_lexer": "ipython3",
   "version": "3.9.0"
  }
 },
 "nbformat": 4,
 "nbformat_minor": 2
}
