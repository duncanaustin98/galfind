{
 "cells": [
  {
   "cell_type": "markdown",
   "metadata": {},
   "source": [
    "# Galaxy selection methods\n",
    "\n",
    "As is well known, any photometric study requires some sample of galaxy candidates selected from the photometric catalogue. In this notebook, we will use a myriad of examples to showcase the available selection methods in galfind. The future aim of this code is to implement plug-in architecture here so that the user can provide and use additional selection functions that will be recognized by the galfind `Catalogue` class.\n",
    "\n",
    "Let's first create a `Galaxy` object for the highest redshift photometric galaxy candidate in JOF identified by Robertson et al. 2023 at z=14.63, which has NIRCam ID=718 in our galfind produced catalogue."
   ]
  },
  {
   "cell_type": "code",
   "execution_count": 1,
   "metadata": {},
   "outputs": [
    {
     "name": "stderr",
     "output_type": "stream",
     "text": [
      "WARNING:galfind:Could not change permissions of /raid/scratch/work/austind/GALFIND_WORK/Log_files/2024-12-11.log to 777.\n"
     ]
    },
    {
     "name": "stdout",
     "output_type": "stream",
     "text": [
      "Reading GALFIND config file from: /nvme/scratch/work/austind/GALFIND/galfind/../configs/galfind_config.ini\n"
     ]
    },
    {
     "name": "stderr",
     "output_type": "stream",
     "text": [
      "WARNING:galfind:Aperture corrections for VISTA not found in /nvme/scratch/work/austind/GALFIND/galfind/Aperture_corrections/VISTA_aper_corr.txt\n",
      "WARNING:galfind:Aperture corrections for VISTA not found in /nvme/scratch/work/austind/GALFIND/galfind/Aperture_corrections/VISTA_aper_corr.txt\n"
     ]
    },
    {
     "name": "stdout",
     "output_type": "stream",
     "text": [
      "Failed to `import dust_attenuation`\n",
      "Install from the repo with $ pip install git+https://github.com/karllark/dust_attenuation.git\n"
     ]
    }
   ],
   "source": [
    "# imports\n",
    "import astropy.units as u\n",
    "from copy import deepcopy\n",
    "from galfind import Catalogue, Multiple_Selector\n",
    "from galfind.Data import morgan_version_to_dir"
   ]
  },
  {
   "cell_type": "code",
   "execution_count": 2,
   "metadata": {},
   "outputs": [
    {
     "name": "stderr",
     "output_type": "stream",
     "text": [
      "INFO:galfind:Loaded aper_diams=<Quantity [0.32] arcsec> for F277W+F356W+F444W\n",
      "INFO:galfind:Combined mask for NIRCam/F277W+F356W+F444W already exists at /raid/scratch/work/austind/GALFIND_WORK/Masks/JOF/combined/JOF_F277W+F356W+F444W_auto.fits\n",
      "WARNING: hdu= was not specified but multiple tables are present, reading in first available table (hdu=1) [astropy.io.fits.connect]\n",
      "WARNING:astroquery:hdu= was not specified but multiple tables are present, reading in first available table (hdu=1)\n",
      "WARNING:galfind:Aperture correction columns already in /raid/scratch/work/austind/GALFIND_WORK/Catalogues/v11/NIRCam/JOF/(0.32)as/JOF_MASTER_Sel-F277W+F356W+F444W_v11.fits\n",
      "Calculating depths:   0%|          | 0/15 [00:00<?, ?it/s]\n",
      "INFO:galfind:Calculated/loaded depths for JOF v11 NIRCam\n",
      "INFO:galfind:Local depth columns already exist in /raid/scratch/work/austind/GALFIND_WORK/Catalogues/v11/NIRCam/JOF/(0.32)as/JOF_MASTER_Sel-F277W+F356W+F444W_v11.fits\n",
      "INFO:galfind:Loaded 'has_data_mask' from /raid/scratch/work/austind/GALFIND_WORK/Masks/JOF/has_data_mask/JOF_MASTER_Sel-F277W+F356W+F444W_v11.h5\n",
      "INFO:galfind:Making JOF v11 JOF_MASTER_Sel-F277W+F356W+F444W_v11 catalogue!\n",
      "WARNING:galfind:cat_aper_diams not in kwargs.keys()=dict_keys(['ZP', 'min_flux_pc_err'])! Setting to aper_diams=<Quantity [0.32] arcsec>\n",
      "WARNING:galfind:cat_aper_diams not in kwargs.keys()=dict_keys(['ZP', 'min_flux_pc_err'])! Setting to aper_diams=<Quantity [0.32] arcsec>\n",
      "WARNING:galfind:cat_aper_diams not in kwargs.keys()=dict_keys([])! Setting to aper_diams=<Quantity [0.32] arcsec>\n",
      "INFO:galfind:Made /raid/scratch/work/austind/GALFIND_WORK/Catalogues/v11/NIRCam/JOF/(0.32)as/JOF_MASTER_Sel-F277W+F356W+F444W_v11.fits catalogue!\n"
     ]
    },
    {
     "name": "stdout",
     "output_type": "stream",
     "text": [
      "****************************************\n",
      "Galaxy(718, [53.10763,-27.86013]deg)\n",
      "****************************************\n",
      "PHOTOMETRY:\n",
      "----------\n",
      "Photometry_obs(NIRCam, 0.32 arcsec)\n",
      "----------\n",
      "SELECTION FLAGS:\n",
      "----------\n",
      "bluewards_Lya_SNR<2.0_EAZY_fsps_larson_zfree_0.32as: True\n",
      "redwards_Lya_SNR>5.0,5.0_widebands_EAZY_fsps_larson_zfree_0.32as: True\n",
      "ALL_redwards_Lya_SNR>2.0_widebands_EAZY_fsps_larson_zfree_0.32as: True\n",
      "red_chi_sq<3.0_EAZY_fsps_larson_zfree_0.32as: True\n",
      "chi_sq_diff>4.0,dz>0.5_EAZY_fsps_larson_zfree_0.32as: True\n",
      "zPDF>60%,|dz|/z<0.1_EAZY_fsps_larson_zfree_0.32as: True\n",
      "unmasked_F090W: True\n",
      "unmasked_F115W: True\n",
      "unmasked_F150W: True\n",
      "unmasked_F162M: True\n",
      "unmasked_F182M: True\n",
      "unmasked_F200W: True\n",
      "unmasked_F210M: True\n",
      "unmasked_F250M: True\n",
      "unmasked_F277W: True\n",
      "unmasked_F300M: True\n",
      "unmasked_F335M: True\n",
      "unmasked_F356W: True\n",
      "unmasked_F410M: True\n",
      "unmasked_F444W: True\n",
      "unmasked_NIRCam: True\n",
      "bluest_band_SNR<2.0_0.32as: True\n",
      "sex_Re_F277W>45.0mas: True\n",
      "sex_Re_F356W>45.0mas: True\n",
      "sex_Re_F444W>45.0mas: True\n",
      "sex_Re_F277W+F356W+F444W>45.0mas: True\n",
      "EPOCHS_NIRCam_EAZY_fsps_larson_zfree_0.32as: True\n",
      "----------\n",
      "****************************************\n",
      "\n"
     ]
    }
   ],
   "source": [
    "survey = \"JOF\"\n",
    "version = \"v11\"\n",
    "instrument_names = [\"NIRCam\"]\n",
    "aper_diams = [0.32] * u.arcsec\n",
    "forced_phot_band = [\"F277W\", \"F356W\", \"F444W\"]\n",
    "min_flux_pc_err = 10.\n",
    "\n",
    "cat = Catalogue.pipeline(\n",
    "    survey, \n",
    "    version, \n",
    "    instrument_names = instrument_names, \n",
    "    version_to_dir_dict = morgan_version_to_dir,\n",
    "    aper_diams = aper_diams,\n",
    "    forced_phot_band = forced_phot_band,\n",
    "    min_flux_pc_err = min_flux_pc_err\n",
    ")\n",
    "# TODO: Smooth galaxy load-in\n",
    "# from Robertson et al. 2023\n",
    "gal = cat[717]\n",
    "print(gal)"
   ]
  },
  {
   "cell_type": "markdown",
   "metadata": {},
   "source": [
    "## Example 1: Selecting unmasked galaxies and basic morphological selection\n",
    "\n",
    "In this example, we will first have a look at selecting a galaxy based on whether it is unmasked in a particular band/bands/instrument. Following this, we will have a look at selecting a galaxy from its SExtractor measured half light radius. Basically, we are selecting galaxies independently of both the aperture diameter used to construct the photometry and any SED fitting properties derived from the SED fitting procedure.\n",
    "\n",
    "This first example is probably the most important in this notebook as it highlights both the general syntax used as a basis for galfind sample selection as well as the properties which are stored in an individual `Galaxy` object as a result of the fitting procedure.\n",
    "\n",
    "We start off by simply asserting that the galaxy is masked in the F444W band."
   ]
  },
  {
   "cell_type": "code",
   "execution_count": 3,
   "metadata": {},
   "outputs": [
    {
     "name": "stdout",
     "output_type": "stream",
     "text": [
      "****************************************\n",
      "Unmasked_Band_Selector:\n",
      "****************************************\n",
      "band_name: F444W\n",
      "****************************************\n",
      "\n"
     ]
    }
   ],
   "source": [
    "from galfind import Unmasked_Band_Selector\n",
    "\n",
    "unmasked_f444w_selector = Unmasked_Band_Selector(\"F444W\")\n",
    "print(unmasked_f444w_selector)"
   ]
  },
  {
   "cell_type": "code",
   "execution_count": 4,
   "metadata": {},
   "outputs": [
    {
     "name": "stdout",
     "output_type": "stream",
     "text": [
      "****************************************\n",
      "Galaxy(718, [53.10763,-27.86013]deg)\n",
      "****************************************\n",
      "PHOTOMETRY:\n",
      "----------\n",
      "Photometry_obs(NIRCam, 0.32 arcsec)\n",
      "----------\n",
      "SELECTION FLAGS:\n",
      "----------\n",
      "bluewards_Lya_SNR<2.0_EAZY_fsps_larson_zfree_0.32as: True\n",
      "redwards_Lya_SNR>5.0,5.0_widebands_EAZY_fsps_larson_zfree_0.32as: True\n",
      "ALL_redwards_Lya_SNR>2.0_widebands_EAZY_fsps_larson_zfree_0.32as: True\n",
      "red_chi_sq<3.0_EAZY_fsps_larson_zfree_0.32as: True\n",
      "chi_sq_diff>4.0,dz>0.5_EAZY_fsps_larson_zfree_0.32as: True\n",
      "zPDF>60%,|dz|/z<0.1_EAZY_fsps_larson_zfree_0.32as: True\n",
      "unmasked_F090W: True\n",
      "unmasked_F115W: True\n",
      "unmasked_F150W: True\n",
      "unmasked_F162M: True\n",
      "unmasked_F182M: True\n",
      "unmasked_F200W: True\n",
      "unmasked_F210M: True\n",
      "unmasked_F250M: True\n",
      "unmasked_F277W: True\n",
      "unmasked_F300M: True\n",
      "unmasked_F335M: True\n",
      "unmasked_F356W: True\n",
      "unmasked_F410M: True\n",
      "unmasked_F444W: True\n",
      "unmasked_NIRCam: True\n",
      "bluest_band_SNR<2.0_0.32as: True\n",
      "sex_Re_F277W>45.0mas: True\n",
      "sex_Re_F356W>45.0mas: True\n",
      "sex_Re_F444W>45.0mas: True\n",
      "sex_Re_F277W+F356W+F444W>45.0mas: True\n",
      "EPOCHS_NIRCam_EAZY_fsps_larson_zfree_0.32as: True\n",
      "----------\n",
      "****************************************\n",
      "\n"
     ]
    }
   ],
   "source": [
    "gal_1a = unmasked_f444w_selector(gal, return_copy = True)\n",
    "print(gal_1a)"
   ]
  },
  {
   "cell_type": "markdown",
   "metadata": {},
   "source": [
    "From the two comparative `Galaxy` print statements, we see that the `gal_1a` object now has an `Dict[str, bool]` type selection_flags attribute stored, which can be extended with further selection criteria.\n",
    "\n",
    "Now let's have a go at selecting based on all selection bands being unmasked, those being the NIRCam LW widebands (F277W, F356W, F444W)."
   ]
  },
  {
   "cell_type": "code",
   "execution_count": 5,
   "metadata": {},
   "outputs": [
    {
     "name": "stdout",
     "output_type": "stream",
     "text": [
      "****************************************\n",
      "Galaxy(718, [53.10763,-27.86013]deg)\n",
      "****************************************\n",
      "PHOTOMETRY:\n",
      "----------\n",
      "Photometry_obs(NIRCam, 0.32 arcsec)\n",
      "----------\n",
      "SELECTION FLAGS:\n",
      "----------\n",
      "bluewards_Lya_SNR<2.0_EAZY_fsps_larson_zfree_0.32as: True\n",
      "redwards_Lya_SNR>5.0,5.0_widebands_EAZY_fsps_larson_zfree_0.32as: True\n",
      "ALL_redwards_Lya_SNR>2.0_widebands_EAZY_fsps_larson_zfree_0.32as: True\n",
      "red_chi_sq<3.0_EAZY_fsps_larson_zfree_0.32as: True\n",
      "chi_sq_diff>4.0,dz>0.5_EAZY_fsps_larson_zfree_0.32as: True\n",
      "zPDF>60%,|dz|/z<0.1_EAZY_fsps_larson_zfree_0.32as: True\n",
      "unmasked_F090W: True\n",
      "unmasked_F115W: True\n",
      "unmasked_F150W: True\n",
      "unmasked_F162M: True\n",
      "unmasked_F182M: True\n",
      "unmasked_F200W: True\n",
      "unmasked_F210M: True\n",
      "unmasked_F250M: True\n",
      "unmasked_F277W: True\n",
      "unmasked_F300M: True\n",
      "unmasked_F335M: True\n",
      "unmasked_F356W: True\n",
      "unmasked_F410M: True\n",
      "unmasked_F444W: True\n",
      "unmasked_NIRCam: True\n",
      "bluest_band_SNR<2.0_0.32as: True\n",
      "sex_Re_F277W>45.0mas: True\n",
      "sex_Re_F356W>45.0mas: True\n",
      "sex_Re_F444W>45.0mas: True\n",
      "sex_Re_F277W+F356W+F444W>45.0mas: True\n",
      "EPOCHS_NIRCam_EAZY_fsps_larson_zfree_0.32as: True\n",
      "unmasked_F277W+F356W+F444W: True\n",
      "----------\n",
      "****************************************\n",
      "\n",
      "Unmasked_Bands_Selector() is a subclass of Multiple_Selector\n"
     ]
    }
   ],
   "source": [
    "from galfind import Unmasked_Bands_Selector\n",
    "\n",
    "unmasked_selection_band_selector = Unmasked_Bands_Selector(forced_phot_band)\n",
    "gal_1b = unmasked_selection_band_selector(gal_1a, return_copy = True)\n",
    "print(gal_1b)\n",
    "\n",
    "if isinstance(unmasked_selection_band_selector, tuple(Multiple_Selector.__subclasses__())):\n",
    "    print(f\"{repr(unmasked_selection_band_selector)} is a subclass of Multiple_Selector\")\n",
    "else:\n",
    "    print(f\"{repr(unmasked_selection_band_selector)} is not a subclass of Multiple_Selector\")"
   ]
  },
  {
   "cell_type": "markdown",
   "metadata": {},
   "source": [
    "The selection object above is a child class of the base `Multiple_Selector`. This class, which itself inherits from the `Selector` class contains an array of `Selector` objects with assertion/failure/selection criteria defined by the relevant boolean logic to select only galaxies that pass all of the individual selection criteria. When calling the `Multiple_Selector` object, selection is performed and saved from each individual `Selector` object stored in the list before finally running the combined selection. It is for this reason why the `gal_1b` object above contains 4 entries in its selection_flags dictionary attribute (unmasked in F277W, F356W, F444W, and F277W+F356W+F444W).\n",
    "\n",
    "We see that this is identical to the implementation where instead of inserting an array of band names to mask, we insert a single string with band names seperated by `+`s."
   ]
  },
  {
   "cell_type": "code",
   "execution_count": 6,
   "metadata": {},
   "outputs": [
    {
     "name": "stdout",
     "output_type": "stream",
     "text": [
      "Different implementation!\n"
     ]
    }
   ],
   "source": [
    "unmasked_selection_band_selector_2 = Unmasked_Bands_Selector(\"+\".join(forced_phot_band))\n",
    "gal_1c = unmasked_selection_band_selector_2(gal_1a, return_copy = True)\n",
    "if gal_1b == gal_1c:\n",
    "    print(\"Identical implementation!\")\n",
    "else:\n",
    "    print(\"Different implementation!\")"
   ]
  },
  {
   "cell_type": "markdown",
   "metadata": {},
   "source": [
    "Finally, we will ensure that all NIRCam bands contained within the JOF survey are unmasked. \n",
    "\n",
    "We note that the implementation here is slightly different to the one performed on a catalogue level. Here we have to first insert a `Multiple_Filter` object to reduce the relevant bands from all available bandpass filters on the instrument to just those available in our survey. We cannot simply use the filterset on the galaxy object itself as this may already have been trimmed to include just bands that include data at the specific sky position of the galaxy itself, rather than all those available in the field. If we were to instead ask for every band contained in the galaxy object to be included, then when running on a catalogue level this selection function would return True even when there may not be data available in the band we wish to be masked."
   ]
  },
  {
   "cell_type": "code",
   "execution_count": 7,
   "metadata": {},
   "outputs": [
    {
     "name": "stdout",
     "output_type": "stream",
     "text": [
      "****************************************\n",
      "Galaxy(718, [53.10763,-27.86013]deg)\n",
      "****************************************\n",
      "PHOTOMETRY:\n",
      "----------\n",
      "Photometry_obs(NIRCam, 0.32 arcsec)\n",
      "----------\n",
      "SELECTION FLAGS:\n",
      "----------\n",
      "bluewards_Lya_SNR<2.0_EAZY_fsps_larson_zfree_0.32as: True\n",
      "redwards_Lya_SNR>5.0,5.0_widebands_EAZY_fsps_larson_zfree_0.32as: True\n",
      "ALL_redwards_Lya_SNR>2.0_widebands_EAZY_fsps_larson_zfree_0.32as: True\n",
      "red_chi_sq<3.0_EAZY_fsps_larson_zfree_0.32as: True\n",
      "chi_sq_diff>4.0,dz>0.5_EAZY_fsps_larson_zfree_0.32as: True\n",
      "zPDF>60%,|dz|/z<0.1_EAZY_fsps_larson_zfree_0.32as: True\n",
      "unmasked_F090W: True\n",
      "unmasked_F115W: True\n",
      "unmasked_F150W: True\n",
      "unmasked_F162M: True\n",
      "unmasked_F182M: True\n",
      "unmasked_F200W: True\n",
      "unmasked_F210M: True\n",
      "unmasked_F250M: True\n",
      "unmasked_F277W: True\n",
      "unmasked_F300M: True\n",
      "unmasked_F335M: True\n",
      "unmasked_F356W: True\n",
      "unmasked_F410M: True\n",
      "unmasked_F444W: True\n",
      "unmasked_NIRCam: True\n",
      "bluest_band_SNR<2.0_0.32as: True\n",
      "sex_Re_F277W>45.0mas: True\n",
      "sex_Re_F356W>45.0mas: True\n",
      "sex_Re_F444W>45.0mas: True\n",
      "sex_Re_F277W+F356W+F444W>45.0mas: True\n",
      "EPOCHS_NIRCam_EAZY_fsps_larson_zfree_0.32as: True\n",
      "unmasked_F277W+F356W+F444W: True\n",
      "----------\n",
      "****************************************\n",
      "\n"
     ]
    }
   ],
   "source": [
    "from galfind import Unmasked_Instrument_Selector\n",
    "\n",
    "unmasked_nircam_selector = Unmasked_Instrument_Selector(\"NIRCam\")\n",
    "unmasked_nircam_selector.crop_to_filterset(cat.filterset)\n",
    "gal_1d = unmasked_nircam_selector(gal_1b, return_copy = True)\n",
    "print(gal_1d)"
   ]
  },
  {
   "cell_type": "markdown",
   "metadata": {},
   "source": [
    "The above object now contains selection_flags entries for each band in the JOF field as well as one for the forced photometry band (F277W+F356W+F444W) and one for the NIRCam instrument, all reading True. It seems that this galaxy has data in all NIRCam bands that the survey is constructed from and is not masked by our manual mask in any band.\n",
    "\n",
    "As well as selecting a galaxy based on (an) unmasked band/bands/instrument, there is one more aperture diameter independent selection method that we implement in galfind: SExtractor half-light radius selection. This is mainly used to remove hot pixels that survive the data reduction process from our galaxy samples, although in theory it can be used to exclude larger and point like galaxies from a sample should you wish. In the future, we aim to include more advanced morphological fitting and selection in SExtractor from commonly used Sersic profile fitting codes such as GALFIT, Imfit, Morphometryka (currently private), etc used by e.g. Ormerod+23, Westcott+24.\n",
    "\n",
    "To do this, we will first have to load the galaxy half-light radius from the fits catalogue, which we will do on the catalogue level."
   ]
  },
  {
   "cell_type": "code",
   "execution_count": 8,
   "metadata": {},
   "outputs": [
    {
     "name": "stderr",
     "output_type": "stream",
     "text": [
      "INFO:galfind:Loaded FLUX_RADIUS from /raid/scratch/work/austind/GALFIND_WORK/Catalogues/v11/NIRCam/JOF/(0.32)as/JOF_MASTER_Sel-F277W+F356W+F444W_v11.fits saved as sex_Re for cat_band_properties[0].keys()=dict_keys(['F090W', 'F115W', 'F150W', 'F162M', 'F182M', 'F200W', 'F210M', 'F250M', 'F277W', 'F300M', 'F335M', 'F356W', 'F410M', 'F444W'])\n"
     ]
    }
   ],
   "source": [
    "cat.load_sextractor_Re()\n",
    "gal = cat[717]"
   ]
  },
  {
   "cell_type": "markdown",
   "metadata": {},
   "source": [
    "Now that the new galaxy properties have been loaded, let's have a go at excluding F444W hot pixels with R_e < 1.5 pix (i.e. selecting objects with > 1.5 pix SExtractor half light radii). Since our pixel scale is 0.03as/pix, we select > 45mas objects."
   ]
  },
  {
   "cell_type": "code",
   "execution_count": 9,
   "metadata": {},
   "outputs": [
    {
     "name": "stdout",
     "output_type": "stream",
     "text": [
      "****************************************\n",
      "Galaxy(718, [53.10763,-27.86013]deg)\n",
      "****************************************\n",
      "PHOTOMETRY:\n",
      "----------\n",
      "Photometry_obs(NIRCam, 0.32 arcsec)\n",
      "----------\n",
      "SELECTION FLAGS:\n",
      "----------\n",
      "bluewards_Lya_SNR<2.0_EAZY_fsps_larson_zfree_0.32as: True\n",
      "redwards_Lya_SNR>5.0,5.0_widebands_EAZY_fsps_larson_zfree_0.32as: True\n",
      "ALL_redwards_Lya_SNR>2.0_widebands_EAZY_fsps_larson_zfree_0.32as: True\n",
      "red_chi_sq<3.0_EAZY_fsps_larson_zfree_0.32as: True\n",
      "chi_sq_diff>4.0,dz>0.5_EAZY_fsps_larson_zfree_0.32as: True\n",
      "zPDF>60%,|dz|/z<0.1_EAZY_fsps_larson_zfree_0.32as: True\n",
      "unmasked_F090W: True\n",
      "unmasked_F115W: True\n",
      "unmasked_F150W: True\n",
      "unmasked_F162M: True\n",
      "unmasked_F182M: True\n",
      "unmasked_F200W: True\n",
      "unmasked_F210M: True\n",
      "unmasked_F250M: True\n",
      "unmasked_F277W: True\n",
      "unmasked_F300M: True\n",
      "unmasked_F335M: True\n",
      "unmasked_F356W: True\n",
      "unmasked_F410M: True\n",
      "unmasked_F444W: True\n",
      "unmasked_NIRCam: True\n",
      "bluest_band_SNR<2.0_0.32as: True\n",
      "sex_Re_F277W>45.0mas: True\n",
      "sex_Re_F356W>45.0mas: True\n",
      "sex_Re_F444W>45.0mas: True\n",
      "sex_Re_F277W+F356W+F444W>45.0mas: True\n",
      "EPOCHS_NIRCam_EAZY_fsps_larson_zfree_0.32as: True\n",
      "----------\n",
      "****************************************\n",
      "\n"
     ]
    }
   ],
   "source": [
    "from galfind import Sextractor_Band_Radius_Selector\n",
    "\n",
    "Re_gtr_45mas_f444w_selector = Sextractor_Band_Radius_Selector(\"F444W\", \"gtr\", 45. * u.marcsec)\n",
    "gal_1e = Re_gtr_45mas_f444w_selector(gal, return_copy = True)\n",
    "print(gal_1e)"
   ]
  },
  {
   "cell_type": "markdown",
   "metadata": {},
   "source": [
    "We can also perform this selection to select objects with smaller half-light radii."
   ]
  },
  {
   "cell_type": "code",
   "execution_count": 10,
   "metadata": {},
   "outputs": [
    {
     "name": "stdout",
     "output_type": "stream",
     "text": [
      "****************************************\n",
      "Galaxy(718, [53.10763,-27.86013]deg)\n",
      "****************************************\n",
      "PHOTOMETRY:\n",
      "----------\n",
      "Photometry_obs(NIRCam, 0.32 arcsec)\n",
      "----------\n",
      "SELECTION FLAGS:\n",
      "----------\n",
      "bluewards_Lya_SNR<2.0_EAZY_fsps_larson_zfree_0.32as: True\n",
      "redwards_Lya_SNR>5.0,5.0_widebands_EAZY_fsps_larson_zfree_0.32as: True\n",
      "ALL_redwards_Lya_SNR>2.0_widebands_EAZY_fsps_larson_zfree_0.32as: True\n",
      "red_chi_sq<3.0_EAZY_fsps_larson_zfree_0.32as: True\n",
      "chi_sq_diff>4.0,dz>0.5_EAZY_fsps_larson_zfree_0.32as: True\n",
      "zPDF>60%,|dz|/z<0.1_EAZY_fsps_larson_zfree_0.32as: True\n",
      "unmasked_F090W: True\n",
      "unmasked_F115W: True\n",
      "unmasked_F150W: True\n",
      "unmasked_F162M: True\n",
      "unmasked_F182M: True\n",
      "unmasked_F200W: True\n",
      "unmasked_F210M: True\n",
      "unmasked_F250M: True\n",
      "unmasked_F277W: True\n",
      "unmasked_F300M: True\n",
      "unmasked_F335M: True\n",
      "unmasked_F356W: True\n",
      "unmasked_F410M: True\n",
      "unmasked_F444W: True\n",
      "unmasked_NIRCam: True\n",
      "bluest_band_SNR<2.0_0.32as: True\n",
      "sex_Re_F277W>45.0mas: True\n",
      "sex_Re_F356W>45.0mas: True\n",
      "sex_Re_F444W>45.0mas: True\n",
      "sex_Re_F277W+F356W+F444W>45.0mas: True\n",
      "EPOCHS_NIRCam_EAZY_fsps_larson_zfree_0.32as: True\n",
      "sex_Re_F444W<50.0mas: False\n",
      "----------\n",
      "****************************************\n",
      "\n"
     ]
    }
   ],
   "source": [
    "Re_less_50mas_f444w_selector = Sextractor_Band_Radius_Selector(\"F444W\", \"less\", 50. * u.marcsec)\n",
    "gal_1f = Re_less_50mas_f444w_selector(gal_1e, return_copy = True)\n",
    "print(gal_1f)"
   ]
  },
  {
   "cell_type": "markdown",
   "metadata": {},
   "source": [
    "As before, we can also run the `Multiple_Selector` version of this same selection method by instead inserting a list (or single string separated by `+`s) of filter names."
   ]
  },
  {
   "cell_type": "code",
   "execution_count": 11,
   "metadata": {},
   "outputs": [
    {
     "name": "stdout",
     "output_type": "stream",
     "text": [
      "****************************************\n",
      "Galaxy(718, [53.10763,-27.86013]deg)\n",
      "****************************************\n",
      "PHOTOMETRY:\n",
      "----------\n",
      "Photometry_obs(NIRCam, 0.32 arcsec)\n",
      "----------\n",
      "SELECTION FLAGS:\n",
      "----------\n",
      "bluewards_Lya_SNR<2.0_EAZY_fsps_larson_zfree_0.32as: True\n",
      "redwards_Lya_SNR>5.0,5.0_widebands_EAZY_fsps_larson_zfree_0.32as: True\n",
      "ALL_redwards_Lya_SNR>2.0_widebands_EAZY_fsps_larson_zfree_0.32as: True\n",
      "red_chi_sq<3.0_EAZY_fsps_larson_zfree_0.32as: True\n",
      "chi_sq_diff>4.0,dz>0.5_EAZY_fsps_larson_zfree_0.32as: True\n",
      "zPDF>60%,|dz|/z<0.1_EAZY_fsps_larson_zfree_0.32as: True\n",
      "unmasked_F090W: True\n",
      "unmasked_F115W: True\n",
      "unmasked_F150W: True\n",
      "unmasked_F162M: True\n",
      "unmasked_F182M: True\n",
      "unmasked_F200W: True\n",
      "unmasked_F210M: True\n",
      "unmasked_F250M: True\n",
      "unmasked_F277W: True\n",
      "unmasked_F300M: True\n",
      "unmasked_F335M: True\n",
      "unmasked_F356W: True\n",
      "unmasked_F410M: True\n",
      "unmasked_F444W: True\n",
      "unmasked_NIRCam: True\n",
      "bluest_band_SNR<2.0_0.32as: True\n",
      "sex_Re_F277W>45.0mas: True\n",
      "sex_Re_F356W>45.0mas: True\n",
      "sex_Re_F444W>45.0mas: True\n",
      "sex_Re_F277W+F356W+F444W>45.0mas: True\n",
      "EPOCHS_NIRCam_EAZY_fsps_larson_zfree_0.32as: True\n",
      "sex_Re_F444W<50.0mas: False\n",
      "----------\n",
      "****************************************\n",
      "\n"
     ]
    }
   ],
   "source": [
    "from galfind import Sextractor_Bands_Radius_Selector\n",
    "\n",
    "Re_gtr_45mas_forced_phot_band_selector = Sextractor_Bands_Radius_Selector(forced_phot_band, \"gtr\", 45. * u.marcsec)\n",
    "gal_1g = Re_gtr_45mas_forced_phot_band_selector(gal_1f, return_copy = True)\n",
    "print(gal_1g)"
   ]
  },
  {
   "cell_type": "markdown",
   "metadata": {},
   "source": [
    "And again we can run the selection on all bands from a single instrument, which in this case is NIRCam."
   ]
  },
  {
   "cell_type": "code",
   "execution_count": 12,
   "metadata": {},
   "outputs": [
    {
     "name": "stdout",
     "output_type": "stream",
     "text": [
      "****************************************\n",
      "Galaxy(718, [53.10763,-27.86013]deg)\n",
      "****************************************\n",
      "PHOTOMETRY:\n",
      "----------\n",
      "Photometry_obs(NIRCam, 0.32 arcsec)\n",
      "----------\n",
      "SELECTION FLAGS:\n",
      "----------\n",
      "bluewards_Lya_SNR<2.0_EAZY_fsps_larson_zfree_0.32as: True\n",
      "redwards_Lya_SNR>5.0,5.0_widebands_EAZY_fsps_larson_zfree_0.32as: True\n",
      "ALL_redwards_Lya_SNR>2.0_widebands_EAZY_fsps_larson_zfree_0.32as: True\n",
      "red_chi_sq<3.0_EAZY_fsps_larson_zfree_0.32as: True\n",
      "chi_sq_diff>4.0,dz>0.5_EAZY_fsps_larson_zfree_0.32as: True\n",
      "zPDF>60%,|dz|/z<0.1_EAZY_fsps_larson_zfree_0.32as: True\n",
      "unmasked_F090W: True\n",
      "unmasked_F115W: True\n",
      "unmasked_F150W: True\n",
      "unmasked_F162M: True\n",
      "unmasked_F182M: True\n",
      "unmasked_F200W: True\n",
      "unmasked_F210M: True\n",
      "unmasked_F250M: True\n",
      "unmasked_F277W: True\n",
      "unmasked_F300M: True\n",
      "unmasked_F335M: True\n",
      "unmasked_F356W: True\n",
      "unmasked_F410M: True\n",
      "unmasked_F444W: True\n",
      "unmasked_NIRCam: True\n",
      "bluest_band_SNR<2.0_0.32as: True\n",
      "sex_Re_F277W>45.0mas: True\n",
      "sex_Re_F356W>45.0mas: True\n",
      "sex_Re_F444W>45.0mas: True\n",
      "sex_Re_F277W+F356W+F444W>45.0mas: True\n",
      "EPOCHS_NIRCam_EAZY_fsps_larson_zfree_0.32as: True\n",
      "sex_Re_F444W<50.0mas: False\n",
      "sex_Re_F090W>45.0mas: True\n",
      "sex_Re_F115W>45.0mas: False\n",
      "sex_Re_F150W>45.0mas: False\n",
      "sex_Re_F162M>45.0mas: False\n",
      "sex_Re_F182M>45.0mas: False\n",
      "sex_Re_F200W>45.0mas: True\n",
      "sex_Re_F210M>45.0mas: False\n",
      "sex_Re_F250M>45.0mas: True\n",
      "sex_Re_F300M>45.0mas: True\n",
      "sex_Re_F335M>45.0mas: True\n",
      "sex_Re_F410M>45.0mas: True\n",
      "sex_Re_NIRCam>45.0mas: False\n",
      "----------\n",
      "****************************************\n",
      "\n"
     ]
    }
   ],
   "source": [
    "from galfind import Sextractor_Instrument_Radius_Selector\n",
    "\n",
    "Re_gtr_45mas_nircam_selector = Sextractor_Instrument_Radius_Selector(\"NIRCam\", \"gtr\", 45. * u.marcsec)\n",
    "Re_gtr_45mas_nircam_selector.crop_to_filterset(cat.filterset)\n",
    "gal_1h = Re_gtr_45mas_nircam_selector(gal_1g, return_copy = True)\n",
    "print(gal_1h)"
   ]
  },
  {
   "cell_type": "markdown",
   "metadata": {},
   "source": [
    "We caution the user that instrument half-light radii selection may not be a smart idea in photometric bands with low SNR detections. In this case, our high redshift galaxy candidate fails this selection as it is not detected in the bluer dropout NIRCam bands where SExtractor struggles to fit the galaxy with an appropriate Kron radius."
   ]
  },
  {
   "cell_type": "markdown",
   "metadata": {},
   "source": [
    "In this example, we kept on making copies of the galaxy in question, which is the default implementation when running on a galaxy rather than catalogue level. From now on, we will explicitly insert return_copy = False, so that the galaxy object itself is updated, rather than its deepcopy."
   ]
  },
  {
   "cell_type": "code",
   "execution_count": 13,
   "metadata": {},
   "outputs": [],
   "source": [
    "# TODO: Update documentation here!\n",
    "#from galfind import Min_Band_Selector, Min_Unmasked_Band_Selector"
   ]
  },
  {
   "cell_type": "markdown",
   "metadata": {},
   "source": [
    "## Example 2: SNRs and colours\n",
    "\n",
    "Now let's try a simple extension of the previous example by implementating SNR and colour selections. This requires knowledge of which aperture photometry this is being run on, so we must explicitly insert the aperture diameter we wish to perform the selection on here when calling the `Selector` object. This adds a small amount of additional complexity to this selection method."
   ]
  },
  {
   "cell_type": "code",
   "execution_count": 14,
   "metadata": {},
   "outputs": [],
   "source": [
    "from galfind import Band_SNR_Selector, Colour_Selector, Kokorev24_LRD_Selector"
   ]
  },
  {
   "cell_type": "markdown",
   "metadata": {},
   "source": [
    "We will start with a single band SNR selection, based on whether a galaxy is detected/undetected at a specific significance. This significance is set by the ratio of aperture measured flux compared to the local background level determined by the depth measurements performed by `Data`. We will start by performing selection for 5 sigma F444W detections, which has the following syntax."
   ]
  },
  {
   "cell_type": "code",
   "execution_count": 15,
   "metadata": {},
   "outputs": [],
   "source": [
    "f444w_gtr_5sigma_selector = Band_SNR_Selector(aper_diams[0], \"F444W\", \"detect\", 5.)\n",
    "f444w_gtr_5sigma_selector(gal, return_copy = False)"
   ]
  },
  {
   "cell_type": "markdown",
   "metadata": {},
   "source": [
    "As well as inserting the band name directly, we can instead require that the n^th photometric filter that the galaxy has data for be (non-)detected to a specific significance level by inserting an integer, rather than band name. For instance, should we require that the second reddest band be selected at greater than, say 8 sigma, and the second bluest be non detected to 2 sigma, we can write..."
   ]
  },
  {
   "cell_type": "code",
   "execution_count": 16,
   "metadata": {},
   "outputs": [],
   "source": [
    "second_reddest_gtr_8sigma_selector = Band_SNR_Selector(aper_diams[0], -2, \"detect\", 8.)\n",
    "second_reddest_gtr_8sigma_selector(gal, return_copy = False)\n",
    "\n",
    "bluest_less_2sigma_selector = Band_SNR_Selector(aper_diams[0], 0, \"non_detect\", 2.)\n",
    "bluest_less_2sigma_selector(gal, return_copy = False)"
   ]
  },
  {
   "cell_type": "markdown",
   "metadata": {},
   "source": [
    "Fantastic! But what about colour selection? This is also very straightforwards in galfind. A couple of random examples are given below. Note that the filter names defining the colour to be calculated can be given either as a list of length 2 or a single string separated by a `-` sign. In both cases these should be ordered blue -> red!"
   ]
  },
  {
   "cell_type": "code",
   "execution_count": 17,
   "metadata": {},
   "outputs": [],
   "source": [
    "f200w_f277w_bluer_0_3sigma_selector = Colour_Selector(aper_diams[0], [\"F200W\", \"F277W\"], \"bluer\", 0.3)\n",
    "f200w_f277w_bluer_0_3sigma_selector(gal, return_copy = False)\n",
    "\n",
    "f356w_f444w_redder_0_5sigma_selector = Colour_Selector(aper_diams[0], \"F356W-F444W\", \"redder\", 0.5)\n",
    "f356w_f444w_redder_0_5sigma_selector(gal, return_copy = False)"
   ]
  },
  {
   "cell_type": "markdown",
   "metadata": {},
   "source": [
    "As well as basic colour selection, it is common to select galaxy samples based on multiple colour criteria. Here we will use the example of the LRD selection from Kokorev et al. 2024, which combines multiple photometric colour criteria."
   ]
  },
  {
   "cell_type": "code",
   "execution_count": 18,
   "metadata": {},
   "outputs": [
    {
     "name": "stdout",
     "output_type": "stream",
     "text": [
      "****************************************\n",
      "Galaxy(718, [53.10763,-27.86013]deg)\n",
      "****************************************\n",
      "PHOTOMETRY:\n",
      "----------\n",
      "Photometry_obs(NIRCam, 0.32 arcsec)\n",
      "----------\n",
      "SELECTION FLAGS:\n",
      "----------\n",
      "bluewards_Lya_SNR<2.0_EAZY_fsps_larson_zfree_0.32as: True\n",
      "redwards_Lya_SNR>5.0,5.0_widebands_EAZY_fsps_larson_zfree_0.32as: True\n",
      "ALL_redwards_Lya_SNR>2.0_widebands_EAZY_fsps_larson_zfree_0.32as: True\n",
      "red_chi_sq<3.0_EAZY_fsps_larson_zfree_0.32as: True\n",
      "chi_sq_diff>4.0,dz>0.5_EAZY_fsps_larson_zfree_0.32as: True\n",
      "zPDF>60%,|dz|/z<0.1_EAZY_fsps_larson_zfree_0.32as: True\n",
      "unmasked_F090W: True\n",
      "unmasked_F115W: True\n",
      "unmasked_F150W: True\n",
      "unmasked_F162M: True\n",
      "unmasked_F182M: True\n",
      "unmasked_F200W: True\n",
      "unmasked_F210M: True\n",
      "unmasked_F250M: True\n",
      "unmasked_F277W: True\n",
      "unmasked_F300M: True\n",
      "unmasked_F335M: True\n",
      "unmasked_F356W: True\n",
      "unmasked_F410M: True\n",
      "unmasked_F444W: True\n",
      "unmasked_NIRCam: True\n",
      "bluest_band_SNR<2.0_0.32as: True\n",
      "sex_Re_F277W>45.0mas: True\n",
      "sex_Re_F356W>45.0mas: True\n",
      "sex_Re_F444W>45.0mas: True\n",
      "sex_Re_F277W+F356W+F444W>45.0mas: True\n",
      "EPOCHS_NIRCam_EAZY_fsps_larson_zfree_0.32as: True\n",
      "F444W_SNR>5.0_0.32as: True\n",
      "2nd_reddest_band_SNR>8.0_0.32as: False\n",
      "F200W-F277W<0.30_0.32as: False\n",
      "F356W-F444W>0.50_0.32as: False\n",
      "F115W-F150W<0.80_0.32as: False\n",
      "F200W-F277W>0.70_0.32as: True\n",
      "F200W-F356W>1.00_0.32as: False\n",
      "Kokorev+24_LRD_red1_0.32as: False\n",
      "F150W-F200W<0.80_0.32as: False\n",
      "F277W-F356W>0.60_0.32as: False\n",
      "F277W-F444W>0.70_0.32as: False\n",
      "Kokorev+24_LRD_red2_0.32as: False\n",
      "Kokorev+24_LRD_0.32as: False\n",
      "----------\n",
      "****************************************\n",
      "\n"
     ]
    },
    {
     "name": "stderr",
     "output_type": "stream",
     "text": [
      "/nvme/scratch/software/anaconda3/envs/more_and_more_galfind/lib/python3.9/site-packages/astropy/utils/masked/core.py:855: RuntimeWarning: invalid value encountered in log10\n",
      "  result = getattr(ufunc, method)(*unmasked, **kwargs)\n"
     ]
    }
   ],
   "source": [
    "Kokorev24_selector = Kokorev24_LRD_Selector(aper_diams[0])\n",
    "Kokorev24_selector(gal, return_copy = False)\n",
    "\n",
    "print(gal)"
   ]
  },
  {
   "cell_type": "markdown",
   "metadata": {},
   "source": [
    "It is worth noting that a general colour-colour selection criteria object has not been implemented in galfind, although this can easily be done using the custom selector object explained in example 6."
   ]
  },
  {
   "cell_type": "markdown",
   "metadata": {},
   "source": [
    "## Example 3: Robust redshift selection criteria\n",
    "\n",
    "In this next example, we will add one more layer of complexity in that we will now select galaxies based on the output of previously performed SED fitting, assuming that PDFs and/or SEDs have already been loaded in the `Galaxy` object. There are a few different in-built selector classes which specifically focus on photometric redshift robustness, which we will outline here.\n",
    "\n",
    "First of all, we should load in the results of the `EAZY_fsps_larson` SED fitting with `lowz_zmax={4., 6., None}`. Instead of loading in the specific redshift PDF, best-fitting SED, and properties/errors for the individual galaxy, here we will load these in for the entire JOF catalogue before cropping back down to the same ID=718 high-z candidate again. Please note that the code-block below will perform the SED fitting if not already performed, although in our case it will simply load the results into the catalogue."
   ]
  },
  {
   "cell_type": "code",
   "execution_count": 19,
   "metadata": {},
   "outputs": [
    {
     "name": "stderr",
     "output_type": "stream",
     "text": [
      "INFO:galfind:Making .in file for EAZY_fsps_larson_zmax=4.0 SED fitting for JOF v11 NIRCam\n",
      "INFO:galfind:Made .in file for EAZY_fsps_larson_zmax=4.0 SED fitting for JOF v11 NIRCam. \n"
     ]
    },
    {
     "name": "stdout",
     "output_type": "stream",
     "text": [
      "Running SED fitting took 0.1s\n"
     ]
    },
    {
     "name": "stderr",
     "output_type": "stream",
     "text": [
      "INFO:galfind:Loading EAZY_fsps_larson property PDFs into JOF v11 NIRCam\n"
     ]
    },
    {
     "name": "stdout",
     "output_type": "stream",
     "text": [
      "Loading properties and associated errors took 1.7s\n"
     ]
    },
    {
     "name": "stderr",
     "output_type": "stream",
     "text": [
      "Constructing redshift PDFs: 100%|██████████| 16335/16335 [00:00<00:00, 51820.38it/s]\n",
      "INFO:galfind:Finished loading EAZY_fsps_larson property PDFs into JOF v11 NIRCam\n",
      "INFO:galfind:Loading EAZY_fsps_larson SEDs into JOF v11 NIRCam\n",
      "Constructing SEDs: 100%|██████████| 16335/16335 [00:01<00:00, 13137.21it/s]\n",
      "INFO:galfind:Finished loading EAZY_fsps_larson SEDs into JOF v11 NIRCam\n",
      "INFO:galfind:Updating SED results in galfind catalogue object\n",
      "Updating galaxy SED results: 100%|██████████| 16335/16335 [00:00<00:00, 97403.14it/s]\n",
      "INFO:galfind:Making .in file for EAZY_fsps_larson_zmax=6.0 SED fitting for JOF v11 NIRCam\n",
      "INFO:galfind:Made .in file for EAZY_fsps_larson_zmax=6.0 SED fitting for JOF v11 NIRCam. \n"
     ]
    },
    {
     "name": "stdout",
     "output_type": "stream",
     "text": [
      "Running SED fitting took 0.1s\n"
     ]
    },
    {
     "name": "stderr",
     "output_type": "stream",
     "text": [
      "INFO:galfind:Loading EAZY_fsps_larson property PDFs into JOF v11 NIRCam\n"
     ]
    },
    {
     "name": "stdout",
     "output_type": "stream",
     "text": [
      "Loading properties and associated errors took 1.0s\n"
     ]
    },
    {
     "name": "stderr",
     "output_type": "stream",
     "text": [
      "Constructing redshift PDFs: 100%|██████████| 16335/16335 [00:00<00:00, 49979.58it/s]\n",
      "INFO:galfind:Finished loading EAZY_fsps_larson property PDFs into JOF v11 NIRCam\n",
      "INFO:galfind:Loading EAZY_fsps_larson SEDs into JOF v11 NIRCam\n",
      "Constructing SEDs: 100%|██████████| 16335/16335 [00:01<00:00, 11128.17it/s]\n",
      "INFO:galfind:Finished loading EAZY_fsps_larson SEDs into JOF v11 NIRCam\n",
      "INFO:galfind:Updating SED results in galfind catalogue object\n",
      "Updating galaxy SED results: 100%|██████████| 16335/16335 [00:00<00:00, 113332.75it/s]\n",
      "INFO:galfind:Making .in file for EAZY_fsps_larson_zfree SED fitting for JOF v11 NIRCam\n",
      "INFO:galfind:Made .in file for EAZY_fsps_larson_zfree SED fitting for JOF v11 NIRCam. \n"
     ]
    },
    {
     "name": "stdout",
     "output_type": "stream",
     "text": [
      "Running SED fitting took 0.1s\n"
     ]
    },
    {
     "name": "stderr",
     "output_type": "stream",
     "text": [
      "INFO:galfind:Loading EAZY_fsps_larson property PDFs into JOF v11 NIRCam\n"
     ]
    },
    {
     "name": "stdout",
     "output_type": "stream",
     "text": [
      "Loading properties and associated errors took 2.0s\n"
     ]
    },
    {
     "name": "stderr",
     "output_type": "stream",
     "text": [
      "Constructing redshift PDFs: 100%|██████████| 16335/16335 [00:00<00:00, 45034.97it/s]\n",
      "INFO:galfind:Finished loading EAZY_fsps_larson property PDFs into JOF v11 NIRCam\n",
      "INFO:galfind:Loading EAZY_fsps_larson SEDs into JOF v11 NIRCam\n",
      "Constructing SEDs: 100%|██████████| 16335/16335 [00:01<00:00, 13250.56it/s]\n",
      "INFO:galfind:Finished loading EAZY_fsps_larson SEDs into JOF v11 NIRCam\n",
      "INFO:galfind:Updating SED results in galfind catalogue object\n",
      "Updating galaxy SED results: 100%|██████████| 16335/16335 [00:00<00:00, 170640.30it/s]"
     ]
    },
    {
     "name": "stdout",
     "output_type": "stream",
     "text": [
      "****************************************\n",
      "Galaxy(718, [53.10763,-27.86013]deg)\n",
      "****************************************\n",
      "PHOTOMETRY:\n",
      "----------\n",
      "Photometry_obs(NIRCam, 0.32 arcsec, EAZY_fsps_larson_zmax=4.0,EAZY_fsps_larson_zmax=6.0,EAZY_fsps_larson_zfree)\n",
      "----------\n",
      "SELECTION FLAGS:\n",
      "----------\n",
      "bluewards_Lya_SNR<2.0_EAZY_fsps_larson_zfree_0.32as: True\n",
      "redwards_Lya_SNR>5.0,5.0_widebands_EAZY_fsps_larson_zfree_0.32as: True\n",
      "ALL_redwards_Lya_SNR>2.0_widebands_EAZY_fsps_larson_zfree_0.32as: True\n",
      "red_chi_sq<3.0_EAZY_fsps_larson_zfree_0.32as: True\n",
      "chi_sq_diff>4.0,dz>0.5_EAZY_fsps_larson_zfree_0.32as: True\n",
      "zPDF>60%,|dz|/z<0.1_EAZY_fsps_larson_zfree_0.32as: True\n",
      "unmasked_F090W: True\n",
      "unmasked_F115W: True\n",
      "unmasked_F150W: True\n",
      "unmasked_F162M: True\n",
      "unmasked_F182M: True\n",
      "unmasked_F200W: True\n",
      "unmasked_F210M: True\n",
      "unmasked_F250M: True\n",
      "unmasked_F277W: True\n",
      "unmasked_F300M: True\n",
      "unmasked_F335M: True\n",
      "unmasked_F356W: True\n",
      "unmasked_F410M: True\n",
      "unmasked_F444W: True\n",
      "unmasked_NIRCam: True\n",
      "bluest_band_SNR<2.0_0.32as: True\n",
      "sex_Re_F277W>45.0mas: True\n",
      "sex_Re_F356W>45.0mas: True\n",
      "sex_Re_F444W>45.0mas: True\n",
      "sex_Re_F277W+F356W+F444W>45.0mas: True\n",
      "EPOCHS_NIRCam_EAZY_fsps_larson_zfree_0.32as: True\n",
      "F444W_SNR>5.0_0.32as: True\n",
      "2nd_reddest_band_SNR>8.0_0.32as: False\n",
      "F200W-F277W<0.30_0.32as: False\n",
      "F356W-F444W>0.50_0.32as: False\n",
      "F115W-F150W<0.80_0.32as: False\n",
      "F200W-F277W>0.70_0.32as: True\n",
      "F200W-F356W>1.00_0.32as: False\n",
      "Kokorev+24_LRD_red1_0.32as: False\n",
      "F150W-F200W<0.80_0.32as: False\n",
      "F277W-F356W>0.60_0.32as: False\n",
      "F277W-F444W>0.70_0.32as: False\n",
      "Kokorev+24_LRD_red2_0.32as: False\n",
      "Kokorev+24_LRD_0.32as: False\n",
      "----------\n",
      "****************************************\n",
      "\n"
     ]
    },
    {
     "name": "stderr",
     "output_type": "stream",
     "text": [
      "\n"
     ]
    }
   ],
   "source": [
    "from galfind import EAZY\n",
    "\n",
    "SED_fit_params_arr = [\n",
    "    {\"templates\": \"fsps_larson\", \"lowz_zmax\": 4.0},\n",
    "    {\"templates\": \"fsps_larson\", \"lowz_zmax\": 6.0},\n",
    "    {\"templates\": \"fsps_larson\", \"lowz_zmax\": None}\n",
    "]\n",
    "for SED_fit_params in SED_fit_params_arr:\n",
    "    EAZY_fitter = EAZY(SED_fit_params)\n",
    "    EAZY_fitter(cat, aper_diams[0], load_PDFs = True, load_SEDs = True, update = True)\n",
    "\n",
    "gal = cat[717]\n",
    "print(gal)\n",
    "\n",
    "gal_copy = deepcopy(gal)"
   ]
  },
  {
   "cell_type": "code",
   "execution_count": 20,
   "metadata": {},
   "outputs": [],
   "source": [
    "from galfind import (\n",
    "    Bluewards_Lya_Non_Detect_Selector,\n",
    "    Redwards_Lya_Detect_Selector,\n",
    "    Lya_Band_Selector,\n",
    "    Chi_Sq_Lim_Selector,\n",
    "    Chi_Sq_Diff_Selector,\n",
    "    Robust_zPDF_Selector,\n",
    ")"
   ]
  },
  {
   "cell_type": "markdown",
   "metadata": {},
   "source": [
    "Let's start by going over SNR-based selection either side of the Lyman break involving the `Bluewards_Lya_Non_Detect_Selector`, `Redwards_Lya_Detect_Selector`, and `Lya_Band_Selector`."
   ]
  },
  {
   "cell_type": "code",
   "execution_count": 21,
   "metadata": {},
   "outputs": [
    {
     "name": "stdout",
     "output_type": "stream",
     "text": [
      "****************************************\n",
      "Galaxy(718, [53.10763,-27.86013]deg)\n",
      "****************************************\n",
      "PHOTOMETRY:\n",
      "----------\n",
      "Photometry_obs(NIRCam, 0.32 arcsec, EAZY_fsps_larson_zmax=4.0,EAZY_fsps_larson_zmax=6.0,EAZY_fsps_larson_zfree)\n",
      "----------\n",
      "SELECTION FLAGS:\n",
      "----------\n",
      "bluewards_Lya_SNR<2.0_EAZY_fsps_larson_zfree_0.32as: True\n",
      "redwards_Lya_SNR>5.0,5.0_widebands_EAZY_fsps_larson_zfree_0.32as: True\n",
      "ALL_redwards_Lya_SNR>2.0_widebands_EAZY_fsps_larson_zfree_0.32as: True\n",
      "red_chi_sq<3.0_EAZY_fsps_larson_zfree_0.32as: True\n",
      "chi_sq_diff>4.0,dz>0.5_EAZY_fsps_larson_zfree_0.32as: True\n",
      "zPDF>60%,|dz|/z<0.1_EAZY_fsps_larson_zfree_0.32as: True\n",
      "unmasked_F090W: True\n",
      "unmasked_F115W: True\n",
      "unmasked_F150W: True\n",
      "unmasked_F162M: True\n",
      "unmasked_F182M: True\n",
      "unmasked_F200W: True\n",
      "unmasked_F210M: True\n",
      "unmasked_F250M: True\n",
      "unmasked_F277W: True\n",
      "unmasked_F300M: True\n",
      "unmasked_F335M: True\n",
      "unmasked_F356W: True\n",
      "unmasked_F410M: True\n",
      "unmasked_F444W: True\n",
      "unmasked_NIRCam: True\n",
      "bluest_band_SNR<2.0_0.32as: True\n",
      "sex_Re_F277W>45.0mas: True\n",
      "sex_Re_F356W>45.0mas: True\n",
      "sex_Re_F444W>45.0mas: True\n",
      "sex_Re_F277W+F356W+F444W>45.0mas: True\n",
      "EPOCHS_NIRCam_EAZY_fsps_larson_zfree_0.32as: True\n",
      "F444W_SNR>5.0_0.32as: True\n",
      "2nd_reddest_band_SNR>8.0_0.32as: False\n",
      "F200W-F277W<0.30_0.32as: False\n",
      "F356W-F444W>0.50_0.32as: False\n",
      "F115W-F150W<0.80_0.32as: False\n",
      "F200W-F277W>0.70_0.32as: True\n",
      "F200W-F356W>1.00_0.32as: False\n",
      "Kokorev+24_LRD_red1_0.32as: False\n",
      "F150W-F200W<0.80_0.32as: False\n",
      "F277W-F356W>0.60_0.32as: False\n",
      "F277W-F444W>0.70_0.32as: False\n",
      "Kokorev+24_LRD_red2_0.32as: False\n",
      "Kokorev+24_LRD_0.32as: False\n",
      "ALL_redwards_Lya_SNR>2.0_EAZY_fsps_larson_zfree_0.32as: True\n",
      "----------\n",
      "****************************************\n",
      "\n"
     ]
    }
   ],
   "source": [
    "two_sig_non_detect_bluewards_Lya_selector = Bluewards_Lya_Non_Detect_Selector(aper_diams[0], EAZY_fitter, SNR_lim = 2.0)\n",
    "two_sig_non_detect_bluewards_Lya_selector(gal, return_copy = False)\n",
    "\n",
    "two_sigma_detect_all_redwards_Lya_selector = Redwards_Lya_Detect_Selector(aper_diams[0], EAZY_fitter, SNR_lims = 2.0, widebands_only = False)\n",
    "two_sigma_detect_all_redwards_Lya_selector(gal, return_copy = False)\n",
    "\n",
    "five_sigma_detect_two_redwards_Lya_selector = Redwards_Lya_Detect_Selector(aper_diams[0], EAZY_fitter, SNR_lims = [5.0, 5.0], widebands_only = True)\n",
    "five_sigma_detect_two_redwards_Lya_selector(gal, return_copy = False)\n",
    "\n",
    "print(gal)"
   ]
  },
  {
   "cell_type": "markdown",
   "metadata": {},
   "source": [
    "The above are some of the selection criteria used by the EPOCHS paper series. The first is the requirement of 2 sigma non-detections in all bands bluer than the Lyman alpha break at 1216 Angstrom. The second is the requirement that ALL bands redwards of Lyman-alpha have 2 sigma detections. Finally, the first two widebands redwards of the Lyman-alpha break must be detected to at least 5 sigma significance. These SNRs are, of course, determined by the depth measurements performed by `Data`, which are explained in the [Depths notebook](../data/running_depths.ipynb).\n",
    "\n",
    "As explained in Adams et al. 2025, the high-z JOF galaxy used in this example notebook is selected by these SNR criteria, which impose a strong Lya break strength.\n",
    "\n",
    "Let's now have a little play around with the options available in the `Lya_Band_Selector` class and the corresponding selection_flags dictionary keys that are created."
   ]
  },
  {
   "cell_type": "code",
   "execution_count": 22,
   "metadata": {},
   "outputs": [],
   "source": [
    "lya_band_2sig_detect_selector = Lya_Band_Selector(aper_diams[0], EAZY_fitter, SNR_lim = 2.0, detect_or_non_detect = \"detect\", widebands_only = False)\n",
    "lya_band_2sig_detect_selector(gal, return_copy = False)\n",
    "\n",
    "lya_wideband_3sig_non_detect_selector = Lya_Band_Selector(aper_diams[0], EAZY_fitter, SNR_lim = 3.0, detect_or_non_detect = \"non_detect\", widebands_only = True)\n",
    "lya_wideband_3sig_non_detect_selector(gal, return_copy = False)"
   ]
  },
  {
   "cell_type": "markdown",
   "metadata": {},
   "source": [
    "As well as various SNR criteria in bands determined by the position of the Lyman-alpha break at the SED fitting redshift, the EPOCHS criteria also imposes that the best-fit redshifts are robust, with low chi-square dominating the best-fit chi square of the low-redshift interloper runs, and a narrow redshift PDF peak surrounding the best-fit solution."
   ]
  },
  {
   "cell_type": "code",
   "execution_count": 23,
   "metadata": {},
   "outputs": [
    {
     "name": "stdout",
     "output_type": "stream",
     "text": [
      "dict_keys(['bluewards_Lya_SNR<2.0_EAZY_fsps_larson_zfree_0.32as', 'redwards_Lya_SNR>5.0,5.0_widebands_EAZY_fsps_larson_zfree_0.32as', 'ALL_redwards_Lya_SNR>2.0_widebands_EAZY_fsps_larson_zfree_0.32as', 'red_chi_sq<3.0_EAZY_fsps_larson_zfree_0.32as', 'chi_sq_diff>4.0,dz>0.5_EAZY_fsps_larson_zfree_0.32as', 'zPDF>60%,|dz|/z<0.1_EAZY_fsps_larson_zfree_0.32as', 'unmasked_F090W', 'unmasked_F115W', 'unmasked_F150W', 'unmasked_F162M', 'unmasked_F182M', 'unmasked_F200W', 'unmasked_F210M', 'unmasked_F250M', 'unmasked_F277W', 'unmasked_F300M', 'unmasked_F335M', 'unmasked_F356W', 'unmasked_F410M', 'unmasked_F444W', 'unmasked_NIRCam', 'bluest_band_SNR<2.0_0.32as', 'sex_Re_F277W>45.0mas', 'sex_Re_F356W>45.0mas', 'sex_Re_F444W>45.0mas', 'sex_Re_F277W+F356W+F444W>45.0mas', 'EPOCHS_NIRCam_EAZY_fsps_larson_zfree_0.32as', 'F444W_SNR>5.0_0.32as', '2nd_reddest_band_SNR>8.0_0.32as', 'F200W-F277W<0.30_0.32as', 'F356W-F444W>0.50_0.32as', 'F115W-F150W<0.80_0.32as', 'F200W-F277W>0.70_0.32as', 'F200W-F356W>1.00_0.32as', 'Kokorev+24_LRD_red1_0.32as', 'F150W-F200W<0.80_0.32as', 'F277W-F356W>0.60_0.32as', 'F277W-F444W>0.70_0.32as', 'Kokorev+24_LRD_red2_0.32as', 'Kokorev+24_LRD_0.32as', 'ALL_redwards_Lya_SNR>2.0_EAZY_fsps_larson_zfree_0.32as', 'Lya_band_SNR>2.0_EAZY_fsps_larson_zfree_0.32as', 'Lya_band_SNR<3.0_widebands_EAZY_fsps_larson_zfree_0.32as'])\n"
     ]
    }
   ],
   "source": [
    "red_chi_sq_less_3_selector = Chi_Sq_Lim_Selector(aper_diams[0], EAZY_fitter, chi_sq_lim = 3.0, reduced = True)\n",
    "red_chi_sq_less_3_selector(gal, return_copy = False)\n",
    "\n",
    "red_chi_sq_diff_less_4_dz_0_5_selector = Chi_Sq_Diff_Selector(aper_diams[0], EAZY_fitter, chi_sq_diff = 4.0, dz = 0.5)\n",
    "red_chi_sq_diff_less_4_dz_0_5_selector(gal, return_copy = False)\n",
    "\n",
    "robust_zpdf_gtr0_6_dz_0_1_z_selector = Robust_zPDF_Selector(aper_diams[0], EAZY_fitter, integral_lim = 0.6, dz_over_z = 0.1)\n",
    "robust_zpdf_gtr0_6_dz_0_1_z_selector(gal, return_copy = False)\n",
    "\n",
    "print(gal.selection_flags.keys())"
   ]
  },
  {
   "cell_type": "markdown",
   "metadata": {},
   "source": [
    "## Example 4: EPOCHS selection in galfind\n",
    "\n",
    "After learning all the individual selection criteria that can be implemented in the above examples, we will now put these all together and re-produce the EPOCHS criteria from the EPOCHS paper series. Here we must explicitly insert the catalogue filterset so that the unmasked instrument criteria can be appropriately applied to the single `Galaxy` object that selection is being run for."
   ]
  },
  {
   "cell_type": "code",
   "execution_count": 24,
   "metadata": {},
   "outputs": [
    {
     "name": "stdout",
     "output_type": "stream",
     "text": [
      "****************************************\n",
      "Galaxy(718, [53.10763,-27.86013]deg)\n",
      "****************************************\n",
      "PHOTOMETRY:\n",
      "----------\n",
      "Photometry_obs(NIRCam, 0.32 arcsec, EAZY_fsps_larson_zmax=4.0,EAZY_fsps_larson_zmax=6.0,EAZY_fsps_larson_zfree)\n",
      "----------\n",
      "SELECTION FLAGS:\n",
      "----------\n",
      "bluewards_Lya_SNR<2.0_EAZY_fsps_larson_zfree_0.32as: True\n",
      "redwards_Lya_SNR>5.0,5.0_widebands_EAZY_fsps_larson_zfree_0.32as: True\n",
      "ALL_redwards_Lya_SNR>2.0_widebands_EAZY_fsps_larson_zfree_0.32as: True\n",
      "red_chi_sq<3.0_EAZY_fsps_larson_zfree_0.32as: True\n",
      "chi_sq_diff>4.0,dz>0.5_EAZY_fsps_larson_zfree_0.32as: True\n",
      "zPDF>60%,|dz|/z<0.1_EAZY_fsps_larson_zfree_0.32as: True\n",
      "unmasked_F090W: True\n",
      "unmasked_F115W: True\n",
      "unmasked_F150W: True\n",
      "unmasked_F162M: True\n",
      "unmasked_F182M: True\n",
      "unmasked_F200W: True\n",
      "unmasked_F210M: True\n",
      "unmasked_F250M: True\n",
      "unmasked_F277W: True\n",
      "unmasked_F300M: True\n",
      "unmasked_F335M: True\n",
      "unmasked_F356W: True\n",
      "unmasked_F410M: True\n",
      "unmasked_F444W: True\n",
      "unmasked_NIRCam: True\n",
      "bluest_band_SNR<2.0_0.32as: True\n",
      "sex_Re_F277W>45.0mas: True\n",
      "sex_Re_F356W>45.0mas: True\n",
      "sex_Re_F444W>45.0mas: True\n",
      "sex_Re_F277W+F356W+F444W>45.0mas: True\n",
      "EPOCHS_NIRCam_EAZY_fsps_larson_zfree_0.32as: True\n",
      "F444W_SNR>5.0_0.32as: True\n",
      "2nd_reddest_band_SNR>8.0_0.32as: False\n",
      "F200W-F277W<0.30_0.32as: False\n",
      "F356W-F444W>0.50_0.32as: False\n",
      "F115W-F150W<0.80_0.32as: False\n",
      "F200W-F277W>0.70_0.32as: True\n",
      "F200W-F356W>1.00_0.32as: False\n",
      "Kokorev+24_LRD_red1_0.32as: False\n",
      "F150W-F200W<0.80_0.32as: False\n",
      "F277W-F356W>0.60_0.32as: False\n",
      "F277W-F444W>0.70_0.32as: False\n",
      "Kokorev+24_LRD_red2_0.32as: False\n",
      "Kokorev+24_LRD_0.32as: False\n",
      "----------\n",
      "****************************************\n",
      "\n"
     ]
    }
   ],
   "source": [
    "from galfind import EPOCHS_Selector\n",
    "\n",
    "epochs_selector = EPOCHS_Selector(aper_diams[0], EAZY_fitter, allow_lowz = False, unmasked_instruments = \"NIRCam\", cat_filterset = cat.filterset)\n",
    "epochs_selected_gal = epochs_selector(gal_copy, return_copy = True)\n",
    "\n",
    "print(epochs_selected_gal)"
   ]
  },
  {
   "cell_type": "markdown",
   "metadata": {},
   "source": [
    "In the above cell, we have run the default EPOCHS implementation. We can, however, tweak a couple of options to allow lower redshift galaxies into the sample (by not enforcing a 2 sigma non-detection in the bluest band for every galaxy), or mask in a different instrument other than NIRCam (i.e. mask in \"ACS_WFC+NIRCam\", for example)."
   ]
  },
  {
   "cell_type": "markdown",
   "metadata": {},
   "source": [
    "## Example 5: Selecting based on SED fitting properties\n",
    "\n",
    "Not yet implemented!\n",
    "\n",
    "We may wish to extract, for example, a stellar mass complete sample from the stellar masses of our galaxies as calculated by {insert your favourite SED fitting code here}."
   ]
  }
 ],
 "metadata": {
  "kernelspec": {
   "display_name": "more_and_more_galfind",
   "language": "python",
   "name": "python3"
  },
  "language_info": {
   "codemirror_mode": {
    "name": "ipython",
    "version": 3
   },
   "file_extension": ".py",
   "mimetype": "text/x-python",
   "name": "python",
   "nbconvert_exporter": "python",
   "pygments_lexer": "ipython3",
   "version": "3.9.20"
  }
 },
 "nbformat": 4,
 "nbformat_minor": 2
}
