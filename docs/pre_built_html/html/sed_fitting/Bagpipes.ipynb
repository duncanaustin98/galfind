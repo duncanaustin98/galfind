{
 "cells": [
  {
   "cell_type": "markdown",
   "metadata": {},
   "source": [
    "# SED fitting with Bagpipes\n",
    "\n",
    "While we have previously used the `EAZY` and `LePhare` classes (more details found in the [EAZY](EAZY.ipynb) and [LePhare](LePhare.ipynb) notebooks) to perform SED fitting for redshifts (and basic stellar masses/SFRs in the case of LePhare), we will now use the well-known SED fitting tool `Bagpipes` to recover galaxy properties using a Bayesian framework.\n",
    "\n",
    "The first thing that must be done is to ensure bagpipes is downloaded and installed appropriately. At Manchester, we have slightly altered the Bagpipes basecode to include additional functionality, e.g. to directly output UV continuum slopes, $M_{\\mathrm{UV}}$s, etc, as well as the option to include Gaussian redshift priors on an object by object basis. To use this functionality, you must first clone the forked bagpipes repository from Thomas Harvey's github. In an appropriate directory (i.e. outside of the galfind directory!), simply run:\n",
    "\n",
    "git clone https://github.com/tHarvey303/bagpipes.git\n",
    "cd bagpipes\n",
    "pip install -e .\n",
    "\n",
    "You will now need to ensure that the appropriate stellar, nebular, and dust emission grids are placed within the bagpipes/models/grids. Some default templates will be made available at will be made available at ...\n",
    "\n",
    "By default, since `PyMultiNest` is not available without additional installation, bagpipes will perform the sampling using `Nautilus`, which is slower.\n",
    "\n",
    "Should you wish to fit using `PyMultiNest`, follow the installation instructions given here:\n",
    "https://johannesbuchner.github.io/PyMultiNest/"
   ]
  },
  {
   "cell_type": "markdown",
   "metadata": {},
   "source": [
    "As per usual, we will first import the required modules as well as our example JOF NIRCam v11 catalogue."
   ]
  },
  {
   "cell_type": "code",
   "execution_count": 1,
   "metadata": {
    "execution": {
     "iopub.execute_input": "2024-12-12T17:15:43.157569Z",
     "iopub.status.busy": "2024-12-12T17:15:43.156579Z",
     "iopub.status.idle": "2024-12-12T17:15:50.637434Z",
     "shell.execute_reply": "2024-12-12T17:15:50.636853Z"
    }
   },
   "outputs": [
    {
     "name": "stdout",
     "output_type": "stream",
     "text": [
      "Reading GALFIND config file from: /nvme/scratch/work/austind/GALFIND/galfind/../configs/galfind_config.ini\n"
     ]
    },
    {
     "name": "stderr",
     "output_type": "stream",
     "text": [
      "WARNING:galfind:Aperture corrections for VISTA not found in /nvme/scratch/work/austind/GALFIND/galfind/Aperture_corrections/VISTA_aper_corr.txt\n"
     ]
    },
    {
     "name": "stderr",
     "output_type": "stream",
     "text": [
      "WARNING:galfind:Aperture corrections for VISTA not found in /nvme/scratch/work/austind/GALFIND/galfind/Aperture_corrections/VISTA_aper_corr.txt\n"
     ]
    },
    {
     "name": "stdout",
     "output_type": "stream",
     "text": [
      "Failed to `import dust_attenuation`\n",
      "Install from the repo with $ pip install git+https://github.com/karllark/dust_attenuation.git\n"
     ]
    }
   ],
   "source": [
    "import astropy.units as u\n",
    "from copy import deepcopy\n",
    "from galfind import Catalogue, EPOCHS_Selector, Bagpipes, EAZY\n",
    "from galfind.Data import morgan_version_to_dir"
   ]
  },
  {
   "cell_type": "code",
   "execution_count": 2,
   "metadata": {
    "execution": {
     "iopub.execute_input": "2024-12-12T17:15:50.641342Z",
     "iopub.status.busy": "2024-12-12T17:15:50.640722Z",
     "iopub.status.idle": "2024-12-12T17:15:50.994285Z",
     "shell.execute_reply": "2024-12-12T17:15:50.993570Z"
    }
   },
   "outputs": [
    {
     "ename": "TypeError",
     "evalue": "__init__() missing 2 required positional arguments: 'aper_diam' and 'SED_fit_label'",
     "output_type": "error",
     "traceback": [
      "\u001b[0;31m---------------------------------------------------------------------------\u001b[0m",
      "\u001b[0;31mTypeError\u001b[0m                                 Traceback (most recent call last)",
      "Cell \u001b[0;32mIn[2], line 16\u001b[0m\n\u001b[1;32m      5\u001b[0m forced_phot_band \u001b[38;5;241m=\u001b[39m [\u001b[38;5;124m\"\u001b[39m\u001b[38;5;124mF277W\u001b[39m\u001b[38;5;124m\"\u001b[39m, \u001b[38;5;124m\"\u001b[39m\u001b[38;5;124mF356W\u001b[39m\u001b[38;5;124m\"\u001b[39m, \u001b[38;5;124m\"\u001b[39m\u001b[38;5;124mF444W\u001b[39m\u001b[38;5;124m\"\u001b[39m]\n\u001b[1;32m      6\u001b[0m min_flux_pc_err \u001b[38;5;241m=\u001b[39m \u001b[38;5;241m10.\u001b[39m\n\u001b[1;32m      8\u001b[0m JOF_cat \u001b[38;5;241m=\u001b[39m Catalogue\u001b[38;5;241m.\u001b[39mpipeline(\n\u001b[1;32m      9\u001b[0m     survey,\n\u001b[1;32m     10\u001b[0m     version,\n\u001b[1;32m     11\u001b[0m     instrument_names \u001b[38;5;241m=\u001b[39m instrument_names, \n\u001b[1;32m     12\u001b[0m     version_to_dir_dict \u001b[38;5;241m=\u001b[39m morgan_version_to_dir,\n\u001b[1;32m     13\u001b[0m     aper_diams \u001b[38;5;241m=\u001b[39m aper_diams,\n\u001b[1;32m     14\u001b[0m     forced_phot_band \u001b[38;5;241m=\u001b[39m forced_phot_band,\n\u001b[1;32m     15\u001b[0m     min_flux_pc_err \u001b[38;5;241m=\u001b[39m min_flux_pc_err,\n\u001b[0;32m---> 16\u001b[0m     crops \u001b[38;5;241m=\u001b[39m {\u001b[38;5;124m\"\u001b[39m\u001b[38;5;124mSELECTION\u001b[39m\u001b[38;5;124m\"\u001b[39m: \u001b[43mEPOCHS_Selector\u001b[49m\u001b[43m(\u001b[49m\u001b[43mallow_lowz\u001b[49m\u001b[38;5;241;43m=\u001b[39;49m\u001b[38;5;28;43;01mTrue\u001b[39;49;00m\u001b[43m)\u001b[49m\u001b[38;5;241m.\u001b[39m \\\n\u001b[1;32m     17\u001b[0m         _get_selection_name(aper_diams[\u001b[38;5;241m0\u001b[39m], \\\n\u001b[1;32m     18\u001b[0m         EAZY({\u001b[38;5;124m\"\u001b[39m\u001b[38;5;124mtemplates\u001b[39m\u001b[38;5;124m\"\u001b[39m: \u001b[38;5;124m\"\u001b[39m\u001b[38;5;124mfsps_larson\u001b[39m\u001b[38;5;124m\"\u001b[39m, \u001b[38;5;124m\"\u001b[39m\u001b[38;5;124mlowz_zmax\u001b[39m\u001b[38;5;124m\"\u001b[39m: \u001b[38;5;28;01mNone\u001b[39;00m})\u001b[38;5;241m.\u001b[39mlabel)}\n\u001b[1;32m     19\u001b[0m )\n",
      "\u001b[0;31mTypeError\u001b[0m: __init__() missing 2 required positional arguments: 'aper_diam' and 'SED_fit_label'"
     ]
    }
   ],
   "source": [
    "survey = \"JOF\"\n",
    "version = \"v11\"\n",
    "instrument_names = [\"NIRCam\"]\n",
    "aper_diams = [0.32] * u.arcsec\n",
    "forced_phot_band = [\"F277W\", \"F356W\", \"F444W\"]\n",
    "min_flux_pc_err = 10.\n",
    "\n",
    "JOF_cat = Catalogue.pipeline(\n",
    "    survey,\n",
    "    version,\n",
    "    instrument_names = instrument_names, \n",
    "    version_to_dir_dict = morgan_version_to_dir,\n",
    "    aper_diams = aper_diams,\n",
    "    forced_phot_band = forced_phot_band,\n",
    "    min_flux_pc_err = min_flux_pc_err,\n",
    "    crops = {\"SELECTION\": EPOCHS_Selector(allow_lowz=True). \\\n",
    "        _get_selection_name(aper_diams[0], \\\n",
    "        EAZY({\"templates\": \"fsps_larson\", \"lowz_zmax\": None}).label)}\n",
    ")"
   ]
  },
  {
   "cell_type": "code",
   "execution_count": 3,
   "metadata": {
    "execution": {
     "iopub.execute_input": "2024-12-12T17:15:50.997714Z",
     "iopub.status.busy": "2024-12-12T17:15:50.996467Z",
     "iopub.status.idle": "2024-12-12T17:15:51.033441Z",
     "shell.execute_reply": "2024-12-12T17:15:51.032839Z"
    }
   },
   "outputs": [
    {
     "ename": "NameError",
     "evalue": "name 'JOF_cat' is not defined",
     "output_type": "error",
     "traceback": [
      "\u001b[0;31m---------------------------------------------------------------------------\u001b[0m",
      "\u001b[0;31mNameError\u001b[0m                                 Traceback (most recent call last)",
      "Cell \u001b[0;32mIn[3], line 4\u001b[0m\n\u001b[1;32m      2\u001b[0m \u001b[38;5;28;01mfor\u001b[39;00m SED_fit_params \u001b[38;5;129;01min\u001b[39;00m SED_fit_params_arr:\n\u001b[1;32m      3\u001b[0m     EAZY_fitter \u001b[38;5;241m=\u001b[39m EAZY(SED_fit_params)\n\u001b[0;32m----> 4\u001b[0m     EAZY_fitter(\u001b[43mJOF_cat\u001b[49m, aper_diams[\u001b[38;5;241m0\u001b[39m], load_PDFs \u001b[38;5;241m=\u001b[39m \u001b[38;5;28;01mFalse\u001b[39;00m, load_SEDs \u001b[38;5;241m=\u001b[39m \u001b[38;5;28;01mFalse\u001b[39;00m, update \u001b[38;5;241m=\u001b[39m \u001b[38;5;28;01mTrue\u001b[39;00m)\n",
      "\u001b[0;31mNameError\u001b[0m: name 'JOF_cat' is not defined"
     ]
    }
   ],
   "source": [
    "SED_fit_params_arr = [{\"templates\": \"fsps_larson\", \"lowz_zmax\": None}]\n",
    "for SED_fit_params in SED_fit_params_arr:\n",
    "    EAZY_fitter = EAZY(SED_fit_params)\n",
    "    EAZY_fitter(JOF_cat, aper_diams[0], load_PDFs = False, load_SEDs = False, update = True)"
   ]
  },
  {
   "cell_type": "markdown",
   "metadata": {},
   "source": [
    "## Example 1: Running for a single Galaxy/Photometry_obs object"
   ]
  },
  {
   "cell_type": "code",
   "execution_count": 4,
   "metadata": {
    "execution": {
     "iopub.execute_input": "2024-12-12T17:15:51.036878Z",
     "iopub.status.busy": "2024-12-12T17:15:51.036594Z",
     "iopub.status.idle": "2024-12-12T17:15:51.040181Z",
     "shell.execute_reply": "2024-12-12T17:15:51.039302Z"
    }
   },
   "outputs": [],
   "source": [
    "# TODO: More complicated than running on the full catalogue"
   ]
  },
  {
   "cell_type": "markdown",
   "metadata": {},
   "source": [
    "## Example 2: Running an entire Catalogue"
   ]
  },
  {
   "cell_type": "code",
   "execution_count": 5,
   "metadata": {
    "execution": {
     "iopub.execute_input": "2024-12-12T17:15:51.043269Z",
     "iopub.status.busy": "2024-12-12T17:15:51.042910Z",
     "iopub.status.idle": "2024-12-12T17:15:51.066726Z",
     "shell.execute_reply": "2024-12-12T17:15:51.065957Z"
    }
   },
   "outputs": [
    {
     "ename": "TypeError",
     "evalue": "__call__() missing 2 required positional arguments: 'cat' and 'aper_diam'",
     "output_type": "error",
     "traceback": [
      "\u001b[0;31m---------------------------------------------------------------------------\u001b[0m",
      "\u001b[0;31mTypeError\u001b[0m                                 Traceback (most recent call last)",
      "Cell \u001b[0;32mIn[5], line 1\u001b[0m\n\u001b[0;32m----> 1\u001b[0m SED_fit_params \u001b[38;5;241m=\u001b[39m {\u001b[38;5;124m\"\u001b[39m\u001b[38;5;124mfix_z\u001b[39m\u001b[38;5;124m\"\u001b[39m: \u001b[43mEAZY_fitter\u001b[49m\u001b[43m(\u001b[49m\u001b[43m)\u001b[49m\u001b[38;5;241m.\u001b[39mlabel}\n\u001b[1;32m      2\u001b[0m pipes_fitter \u001b[38;5;241m=\u001b[39m Bagpipes(SED_fit_params)\n\u001b[1;32m      3\u001b[0m pipes_fitter(JOF_cat, aper_diams[\u001b[38;5;241m0\u001b[39m], save_PDFs \u001b[38;5;241m=\u001b[39m \u001b[38;5;28;01mFalse\u001b[39;00m, load_SEDs \u001b[38;5;241m=\u001b[39m \u001b[38;5;28;01mFalse\u001b[39;00m, update \u001b[38;5;241m=\u001b[39m \u001b[38;5;28;01mTrue\u001b[39;00m)\n",
      "\u001b[0;31mTypeError\u001b[0m: __call__() missing 2 required positional arguments: 'cat' and 'aper_diam'"
     ]
    }
   ],
   "source": [
    "SED_fit_params = {\"fix_z\": EAZY_fitter().label}\n",
    "pipes_fitter = Bagpipes(SED_fit_params)\n",
    "pipes_fitter(JOF_cat, aper_diams[0], save_PDFs = False, load_SEDs = False, update = True)"
   ]
  },
  {
   "cell_type": "markdown",
   "metadata": {},
   "source": [
    "## Example 3: Running with different priors"
   ]
  },
  {
   "cell_type": "code",
   "execution_count": null,
   "metadata": {},
   "outputs": [],
   "source": []
  },
  {
   "cell_type": "markdown",
   "metadata": {},
   "source": [
    "## Example 4: Multi-processing Catalogue SED fitting"
   ]
  },
  {
   "cell_type": "code",
   "execution_count": 6,
   "metadata": {
    "execution": {
     "iopub.execute_input": "2024-12-12T17:15:51.071795Z",
     "iopub.status.busy": "2024-12-12T17:15:51.071497Z",
     "iopub.status.idle": "2024-12-12T17:15:51.075249Z",
     "shell.execute_reply": "2024-12-12T17:15:51.074328Z"
    }
   },
   "outputs": [],
   "source": [
    "# TODO: Have a look at pymultinest"
   ]
  },
  {
   "cell_type": "markdown",
   "metadata": {},
   "source": [
    "## Example 4: Running with different input grids\n",
    "\n",
    "Since Bagpipes only samples from a given set of input stellar and nebular grids created under a set of assumptions about the IMF, as well as the SPS model and CLOUDY nebular physics assumptions used, the user may wish to change these to determine whether their results are sensitive to these choices."
   ]
  },
  {
   "cell_type": "code",
   "execution_count": 7,
   "metadata": {
    "execution": {
     "iopub.execute_input": "2024-12-12T17:15:51.079339Z",
     "iopub.status.busy": "2024-12-12T17:15:51.079008Z",
     "iopub.status.idle": "2024-12-12T17:15:51.082911Z",
     "shell.execute_reply": "2024-12-12T17:15:51.082047Z"
    }
   },
   "outputs": [],
   "source": [
    "# TODO: A bit more complicated to do this"
   ]
  }
 ],
 "metadata": {
  "kernelspec": {
   "display_name": "more_and_more_galfind",
   "language": "python",
   "name": "python3"
  },
  "language_info": {
   "codemirror_mode": {
    "name": "ipython",
    "version": 3
   },
   "file_extension": ".py",
   "mimetype": "text/x-python",
   "name": "python",
   "nbconvert_exporter": "python",
   "pygments_lexer": "ipython3",
   "version": "3.9.20"
  }
 },
 "nbformat": 4,
 "nbformat_minor": 2
}
