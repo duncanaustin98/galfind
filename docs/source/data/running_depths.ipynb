{
 "cells": [
  {
   "cell_type": "markdown",
   "metadata": {},
   "source": [
    "# Running depths\n",
    "\n",
    "To produce accurate flux errors for each source detected in our source extraction procedure, we require an estimate of the local image depth. To do this, we place a large number of apertures of the same size as measured in our forced photometry catalogues in the blank regions of our image, as defined by the region outside of the stacked segmentation and manual/automated mask boolean fits arrays. A ds9 region file is created in this process so that the user can ensure that the regions used in the local depth calculation are indeed in 'blank' regions.\n",
    "\n",
    "For each source in the catalogue, we need to determine which blank apertures to define as being 'local'. There are two different methods (selected by the `mode` argument) that we use to do this: \n",
    "\n",
    "1. `n_nearest`: the n closest apertures to the source (default)\n",
    "2. `rolling`: all apertures within a specific radius from the source\n",
    "\n",
    "Once these apertures have been selected, we take the un-aperture corrected fluxes and calculate their normalized median absolute deviation (NMAD) as follows\n",
    "\n",
    "$\\mathrm{NMAD}=1.4826 * \\mathrm{median}(\\mid f_{\\nu, i} - \\langle f_{\\nu, i} \\rangle \\mid)$\n",
    "\n",
    "This gives a $1\\sigma$ flux error, which can easily be converted to a standard $5\\sigma$ depth in AB magnitudes.\n"
   ]
  }
 ],
 "metadata": {
  "language_info": {
   "name": "python"
  }
 },
 "nbformat": 4,
 "nbformat_minor": 2
}
