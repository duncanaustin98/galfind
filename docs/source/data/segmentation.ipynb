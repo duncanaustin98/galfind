{
 "cells": [
  {
   "cell_type": "markdown",
   "metadata": {},
   "source": [
    "# Image segmentation\n",
    "\n",
    "Since the primary aim of the `Band_Data` and `Data` classes we have recently been looking at is to produce a [Catalogue](../catalogue.rst) of sources, we will also need to be able to identify one object from another. This is done in a process known as segmentation, and in principle is quite challenging to do well, although we will have a go here."
   ]
  },
  {
   "cell_type": "markdown",
   "metadata": {},
   "source": [
    "# Example 1: Making segmentation maps with SExtractor\n",
    "\n",
    "The first technique we will use to segment the data into different sources, which is the default in galfind, is to use the SExtractor parameters from Adams et al. 2023. Before starting this example please ensure that this is installed appropriately on your computer; an explanation of how to install SExtractor can be found [here](../getting_started/installation.rst). Let's start by instantiating our JOF data object as before."
   ]
  },
  {
   "cell_type": "code",
   "execution_count": null,
   "metadata": {},
   "outputs": [],
   "source": [
    "from copy import deepcopy\n",
    "import matplotlib.pyplot as plt\n",
    "from galfind import config, Data\n",
    "from galfind.Data import morgan_version_to_dir\n",
    "\n",
    "survey = \"JOF\"\n",
    "version = \"v11\"\n",
    "instrument_names = [\"NIRCam\"]\n",
    "\n",
    "JOF_data = Data.from_survey_version(\n",
    "    survey = survey,\n",
    "    version = version,\n",
    "    instrument_names = instrument_names, \n",
    "    version_to_dir_dict = morgan_version_to_dir,\n",
    ")"
   ]
  },
  {
   "cell_type": "markdown",
   "metadata": {},
   "source": [
    "To look at what exactly the segmentation process is doing, we will try it on the F444W band only. This will take a little while as SExtractor is running; the output will be stored in the config `SExtractor/SEX_DIR` directory when it has finished under the appropriate survey/version/instrument sub-directories (which in this case this is JOF/v11/NIRCam)."
   ]
  },
  {
   "cell_type": "code",
   "execution_count": null,
   "metadata": {},
   "outputs": [],
   "source": [
    "F444W_JOF = JOF_data[\"F444W\"]\n",
    "F444W_JOF_2 = deepcopy(F444W_JOF)\n",
    "F444W_JOF_3 = deepcopy(F444W_JOF)\n",
    "F444W_JOF_4 = deepcopy(F444W_JOF)\n",
    "\n",
    "F444W_JOF.segment()\n",
    "print(F444W_JOF)"
   ]
  },
  {
   "cell_type": "markdown",
   "metadata": {},
   "source": [
    "In addition to the segmentation map, this function will additionally produce a background map and photometric catalogue with fluxes (from sources selected in the same band) in apertures set by the `SExtractor/APER_DIAMS` parameter in the config file. The `seg_path` and the method used to measure this will be saved inside the `Band_Data` class for future access. \n",
    "\n",
    "Now let's say we wanted to load the path to the segmentation map rather than making it. We can simply run this function again on a fresh `Band_Data` object, and if the required file already exists it will load the path to it."
   ]
  },
  {
   "cell_type": "code",
   "execution_count": null,
   "metadata": {},
   "outputs": [],
   "source": [
    "F444W_JOF_2.segment()"
   ]
  },
  {
   "cell_type": "markdown",
   "metadata": {},
   "source": [
    "We see from above that SExtractor is not called here. If we wanted to re-run this segmentation map for whatever reason, there are two possible actions we could take:\n",
    "\n",
    "1. Delete or move the saved segmentation map manually\n",
    "2. Pass `overwrite=True` into the `segment` function on a pre-segmented object\n",
    "\n",
    "Option 2 is the preferred, and probably more straight forward, choice to make here. Below is its implementation."
   ]
  },
  {
   "cell_type": "code",
   "execution_count": null,
   "metadata": {},
   "outputs": [],
   "source": [
    "# re-segment using SExtractor\n",
    "F444W_JOF_3.segment(overwrite=True)"
   ]
  },
  {
   "cell_type": "markdown",
   "metadata": {},
   "source": [
    "Excellent! We have overwritten the original segmentation map, albeit with the exact same SExtractor output. Next we will produce a segmentation map using the stored `wht` map rather than the `rms_err` map by changing the `err_type` attribute from the default `rms_err` to `wht`. "
   ]
  },
  {
   "cell_type": "code",
   "execution_count": null,
   "metadata": {},
   "outputs": [],
   "source": [
    "F444W_JOF_4.segment(\"wht\", overwrite=True)\n",
    "print(F444W_JOF_4)"
   ]
  },
  {
   "cell_type": "markdown",
   "metadata": {},
   "source": [
    "This will update the segmentation map path in the `Band_Data` object for F444W and make a new segmentation map using the `wht` path, although will not actually overwrite the previously run `rms_err` map. The difference between the two maps can be seen by comparing the segmentation maps generated from the two separate weight maps."
   ]
  },
  {
   "cell_type": "code",
   "execution_count": null,
   "metadata": {},
   "outputs": [],
   "source": [
    "# load the segmentation maps\n",
    "rms_err_seg = F444W_JOF.load_seg()\n",
    "wht_seg = F444W_JOF_4.load_seg()\n",
    "# plot the difference\n",
    "fig, ax = plt.subplots()\n",
    "ax.imshow(rms_err_seg - wht_seg)\n",
    "plt.show()"
   ]
  },
  {
   "cell_type": "markdown",
   "metadata": {},
   "source": [
    "Lastly, we will regularly want to produce segmentation maps for every band used in a particular survey, for instance when running a cataloguing pipeline. As before, this takes in `err_type`, `method`, and `overwrite` arguments; we will implement the default functionality of this below."
   ]
  },
  {
   "cell_type": "code",
   "execution_count": null,
   "metadata": {},
   "outputs": [],
   "source": [
    "JOF_data.segment(err_type=\"rms_err\", method=\"sextractor\", overwrite=False)\n",
    "print(JOF_data)"
   ]
  },
  {
   "cell_type": "markdown",
   "metadata": {},
   "source": [
    "## Example 2: Plotting the segmentation map\n",
    "\n",
    "Once the segmentation map has been created, the next step is to plot it. We use the `Data.plot()` function using the `ext = \"SEG\"` argument. There are a few more arguments that we write explicitly for clarity, although we note that for now we will keep these as the galfind defaults."
   ]
  },
  {
   "cell_type": "code",
   "execution_count": null,
   "metadata": {},
   "outputs": [],
   "source": [
    "JOF_data.plot(ext = \"SEG\")"
   ]
  },
  {
   "cell_type": "markdown",
   "metadata": {},
   "source": [
    "Maybe we also want to zoom into a specific region of the segmentation map as well to have a closer look at some specific sources. Let's change some of the default arguments now to see how this changes the output plot."
   ]
  }
 ],
 "metadata": {},
 "nbformat": 4,
 "nbformat_minor": 2
}
