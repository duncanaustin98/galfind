{
 "cells": [
  {
   "cell_type": "markdown",
   "metadata": {},
   "source": [
    "# PSF homogenization\n",
    "\n",
    "In the [previous notebook](data_intro.ipynb), we looked at loading both `Band_Data` and `Data` galfind objects, as well as the basics of image stacking/mosaicing. To produce high quality photometric catalogues, the imaging must be PSF homogenized so that source extraction techniques can be optimized. Here, we will first look at PSF homogenizing the science images to the F444W PSF, which is the broadest PSF, and reddest filter, in most ultra-deep JWST/NIRCam imaging surveys."
   ]
  }
 ],
 "metadata": {},
 "nbformat": 4,
 "nbformat_minor": 2
}
