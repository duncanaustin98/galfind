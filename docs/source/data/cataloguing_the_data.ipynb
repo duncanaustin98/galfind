{
 "cells": [
  {
   "cell_type": "markdown",
   "metadata": {},
   "source": [
    "# Cataloguing the data\n",
    "\n",
    "## Example 1: Forced photometry and producing photometric catalogues\n",
    "\n",
    "The primary use for the galfind `Data` object is the creation of photometric catalogues for public and personal use. Once produced, these catalogues can be loaded into the `Catalogue` class to derive specific properties, which we cover in the [next section](../catalogue/catalogue.rst). In this first galfind release, we implement the ability to produce these using SExtractor only, although we aim to include other codes to perform forced photometry in the near future. \n",
    "\n",
    "The `Data.perform_forced_phot()` is used to:\n",
    "1. Perform forced photometry using a specific selection band, including the possibility of using stacked data\n",
    "2. Produce a photometric catalogue with aperture (and Kron) fluxes in a range of chosen aperture sizes, and other associated (currently just SExtractor) derived properties\n",
    "3. Create a README for the catalogue which is updated at runtime to describe what is included\n",
    "\n",
    "To start with, after loading the same JOF `Data` object we have seen in previous examples, we will make a catalogue using `forced_phot_band=F444W`."
   ]
  },
  {
   "cell_type": "code",
   "execution_count": 2,
   "metadata": {},
   "outputs": [
    {
     "name": "stdout",
     "output_type": "stream",
     "text": [
      "__init__ imports took 2.3365020751953125e-05s\n",
      "Reading GALFIND config file from: /nvme/scratch/work/austind/GALFIND/galfind/../configs/galfind_config.ini\n"
     ]
    },
    {
     "ename": "TypeError",
     "evalue": "'Band_Data' object is not iterable",
     "output_type": "error",
     "traceback": [
      "\u001b[0;31m---------------------------------------------------------------------------\u001b[0m",
      "\u001b[0;31mTypeError\u001b[0m                                 Traceback (most recent call last)",
      "Cell \u001b[0;32mIn[2], line 17\u001b[0m\n\u001b[1;32m     10\u001b[0m instrument_names \u001b[38;5;241m=\u001b[39m [\u001b[38;5;124m\"\u001b[39m\u001b[38;5;124mNIRCam\u001b[39m\u001b[38;5;124m\"\u001b[39m]\n\u001b[1;32m     11\u001b[0m JOF_data \u001b[38;5;241m=\u001b[39m Data\u001b[38;5;241m.\u001b[39mfrom_survey_version(\n\u001b[1;32m     12\u001b[0m     survey, \n\u001b[1;32m     13\u001b[0m     version, \n\u001b[1;32m     14\u001b[0m     instrument_names \u001b[38;5;241m=\u001b[39m instrument_names, \n\u001b[1;32m     15\u001b[0m     version_to_dir_dict \u001b[38;5;241m=\u001b[39m morgan_version_to_dir,\n\u001b[1;32m     16\u001b[0m )\n\u001b[0;32m---> 17\u001b[0m \u001b[43mJOF_data\u001b[49m\u001b[38;5;241;43m.\u001b[39;49m\u001b[43mperform_forced_phot\u001b[49m\u001b[43m(\u001b[49m\u001b[43mforced_phot_band\u001b[49m\u001b[43m \u001b[49m\u001b[38;5;241;43m=\u001b[39;49m\u001b[43m \u001b[49m\u001b[38;5;124;43m\"\u001b[39;49m\u001b[38;5;124;43mF444W\u001b[39;49m\u001b[38;5;124;43m\"\u001b[39;49m\u001b[43m)\u001b[49m\n",
      "File \u001b[0;32m/nvme/scratch/work/austind/GALFIND/galfind/Data.py:2108\u001b[0m, in \u001b[0;36mData.perform_forced_phot\u001b[0;34m(self, forced_phot_band, err_type, method, config_name, params_name, overwrite)\u001b[0m\n\u001b[1;32m   2106\u001b[0m     \u001b[38;5;28;01mraise\u001b[39;00m (\u001b[38;5;167;01mException\u001b[39;00m(\u001b[38;5;124m\"\u001b[39m\u001b[38;5;124mMASTER Photometric catalogue already exists!\u001b[39m\u001b[38;5;124m\"\u001b[39m))\n\u001b[1;32m   2107\u001b[0m \u001b[38;5;66;03m# create a forced_phot_band object from given string\u001b[39;00m\n\u001b[0;32m-> 2108\u001b[0m \u001b[38;5;28;43mself\u001b[39;49m\u001b[38;5;241;43m.\u001b[39;49m\u001b[43mload_forced_phot_band\u001b[49m\u001b[43m(\u001b[49m\u001b[43mforced_phot_band\u001b[49m\u001b[43m)\u001b[49m\n\u001b[1;32m   2109\u001b[0m \u001b[38;5;28;01mif\u001b[39;00m \u001b[38;5;28misinstance\u001b[39m(method, \u001b[38;5;28mstr\u001b[39m):\n\u001b[1;32m   2110\u001b[0m     method \u001b[38;5;241m=\u001b[39m {band_data\u001b[38;5;241m.\u001b[39mfilt\u001b[38;5;241m.\u001b[39mband_name: method \u001b[38;5;28;01mfor\u001b[39;00m band_data \u001b[38;5;129;01min\u001b[39;00m \u001b[38;5;28mself\u001b[39m}\n",
      "File \u001b[0;32m/nvme/scratch/work/austind/GALFIND/galfind/Data.py:2168\u001b[0m, in \u001b[0;36mData.load_forced_phot_band\u001b[0;34m(self, forced_phot_band)\u001b[0m\n\u001b[1;32m   2166\u001b[0m         forced_phot_band \u001b[38;5;241m=\u001b[39m \u001b[38;5;28mself\u001b[39m[filt_names[\u001b[38;5;241m0\u001b[39m]]\n\u001b[1;32m   2167\u001b[0m     \u001b[38;5;28;01melse\u001b[39;00m:\n\u001b[0;32m-> 2168\u001b[0m         forced_phot_band \u001b[38;5;241m=\u001b[39m \u001b[43mStacked_Band_Data\u001b[49m\u001b[38;5;241;43m.\u001b[39;49m\u001b[43mfrom_band_data_arr\u001b[49m\u001b[43m(\u001b[49m\n\u001b[1;32m   2169\u001b[0m \u001b[43m            \u001b[49m\u001b[38;5;28;43mself\u001b[39;49m\u001b[43m[\u001b[49m\u001b[43mfilt_names\u001b[49m\u001b[43m]\u001b[49m\n\u001b[1;32m   2170\u001b[0m \u001b[43m        \u001b[49m\u001b[43m)\u001b[49m\n\u001b[1;32m   2171\u001b[0m \u001b[38;5;66;03m# save forced phot band in self\u001b[39;00m\n\u001b[1;32m   2172\u001b[0m \u001b[38;5;28;01mif\u001b[39;00m \u001b[38;5;28mhasattr\u001b[39m(\u001b[38;5;28mself\u001b[39m, \u001b[38;5;124m\"\u001b[39m\u001b[38;5;124mforced_phot_band\u001b[39m\u001b[38;5;124m\"\u001b[39m):\n",
      "File \u001b[0;32m/nvme/scratch/work/austind/GALFIND/galfind/Data.py:989\u001b[0m, in \u001b[0;36mStacked_Band_Data.from_band_data_arr\u001b[0;34m(cls, band_data_arr, err_type)\u001b[0m\n\u001b[1;32m    982\u001b[0m \u001b[38;5;129m@classmethod\u001b[39m\n\u001b[1;32m    983\u001b[0m \u001b[38;5;28;01mdef\u001b[39;00m \u001b[38;5;21mfrom_band_data_arr\u001b[39m(\n\u001b[1;32m    984\u001b[0m     \u001b[38;5;28mcls\u001b[39m, band_data_arr: List[Band_Data], err_type: \u001b[38;5;28mstr\u001b[39m \u001b[38;5;241m=\u001b[39m \u001b[38;5;124m\"\u001b[39m\u001b[38;5;124mrms_err\u001b[39m\u001b[38;5;124m\"\u001b[39m\n\u001b[1;32m    985\u001b[0m ) \u001b[38;5;241m-\u001b[39m\u001b[38;5;241m>\u001b[39m Stacked_Band_Data:\n\u001b[1;32m    986\u001b[0m     \u001b[38;5;66;03m# make sure all filters are different\u001b[39;00m\n\u001b[1;32m    987\u001b[0m     \u001b[38;5;28;01massert\u001b[39;00m \u001b[38;5;28mall\u001b[39m(\n\u001b[1;32m    988\u001b[0m         band_data\u001b[38;5;241m.\u001b[39mfilt_name \u001b[38;5;241m!=\u001b[39m band_data_arr[\u001b[38;5;241m0\u001b[39m]\u001b[38;5;241m.\u001b[39mfilt_name\n\u001b[0;32m--> 989\u001b[0m         \u001b[38;5;28;01mfor\u001b[39;00m i, band_data \u001b[38;5;129;01min\u001b[39;00m \u001b[38;5;28;43menumerate\u001b[39;49m\u001b[43m(\u001b[49m\u001b[43mband_data_arr\u001b[49m\u001b[43m)\u001b[49m\n\u001b[1;32m    990\u001b[0m         \u001b[38;5;28;01mif\u001b[39;00m i \u001b[38;5;241m!=\u001b[39m \u001b[38;5;241m0\u001b[39m\n\u001b[1;32m    991\u001b[0m     )\n\u001b[1;32m    993\u001b[0m     \u001b[38;5;66;03m# TODO: if all band_data in band_data_arr have been PSF homogenized, update the stacking path names\u001b[39;00m\n\u001b[1;32m    994\u001b[0m \n\u001b[1;32m    995\u001b[0m     \u001b[38;5;66;03m# stack bands\u001b[39;00m\n\u001b[1;32m    996\u001b[0m     input_data \u001b[38;5;241m=\u001b[39m Stacked_Band_Data\u001b[38;5;241m.\u001b[39m_stack_band_data(\n\u001b[1;32m    997\u001b[0m         band_data_arr, err_type\u001b[38;5;241m=\u001b[39merr_type\n\u001b[1;32m    998\u001b[0m     )\n",
      "\u001b[0;31mTypeError\u001b[0m: 'Band_Data' object is not iterable"
     ]
    }
   ],
   "source": [
    "from pathlib import Path\n",
    "from astropy.table import Table\n",
    "from copy import deepcopy\n",
    "\n",
    "from galfind import Stacked_Band_Data, Data\n",
    "from galfind.Data import morgan_version_to_dir\n",
    "\n",
    "survey = \"JOF\"\n",
    "version = \"v11\"\n",
    "instrument_names = [\"NIRCam\"]\n",
    "JOF_data = Data.from_survey_version(\n",
    "    survey, \n",
    "    version, \n",
    "    instrument_names = instrument_names, \n",
    "    version_to_dir_dict = morgan_version_to_dir,\n",
    ")\n",
    "JOF_data.perform_forced_phot(forced_phot_band = \"F444W\")"
   ]
  },
  {
   "cell_type": "markdown",
   "metadata": {},
   "source": [
    "Now we will search the GALFIND_WORK directory for the individual forced photometry catalogues for each band and the resulting catalogue/README to ensure they exist and have been created correctly."
   ]
  },
  {
   "cell_type": "code",
   "execution_count": null,
   "metadata": {},
   "outputs": [],
   "source": [
    "# search for hpotometric catalogue\n",
    "if Path(JOF_data.phot_cat_path).is_file():\n",
    "    print(\"Photometric catalogue exists at the expected path.\")\n",
    "    # open the photometric catalogue\n",
    "    phot_cat = Table.read(JOF_data.phot_cat_path)\n",
    "    print(phot_cat)\n",
    "else:\n",
    "    print(\"Photometric catalogue does not exist at the expected path.\")\n",
    "\n",
    "# search for README\n",
    "readme_path = JOF_data.phot_cat_path.replace(\".fits\", \"_README.txt\")\n",
    "if Path(readme_path).is_file():\n",
    "    print(\"README exists at the expected path.\")\n",
    "    # print the README\n",
    "    with open(readme_path, \"r\") as f:\n",
    "        print(f.read())\n",
    "        f.close()\n",
    "else:\n",
    "    print(\"README does not exist at the expected path.\")\n",
    "\n",
    "# search for forced photometry catalogues for each included filter\n",
    "for band_data in JOF_data:\n",
    "    if Path(band_data.forced_phot_cat_path).is_file():\n",
    "        print(f\"Forced photometry catalogue for {band_data.filter_name} exists at the expected path.\")\n",
    "    else:\n",
    "        print(f\"Forced photometry catalogue for {band_data.filter_name} does not exist at the expected path.\")"
   ]
  },
  {
   "cell_type": "markdown",
   "metadata": {},
   "source": [
    "Let's have a look at how this changes the `Data` print statement."
   ]
  },
  {
   "cell_type": "code",
   "execution_count": null,
   "metadata": {},
   "outputs": [],
   "source": [
    "print(JOF_data)"
   ]
  },
  {
   "cell_type": "markdown",
   "metadata": {},
   "source": [
    "For safety reasons, once the (path to the) photometric catalogue has been loaded into the Data object, it is not possible to re-run it. This is so that, for example, you don't get confused between the products stemming from the previous catalogue and your newly loaded in one. To be clear, the `overwrite` parameter that we have been using simply states whether the pre-existing paths should be overwritten with the new data and NOT whether the data stored in the object should be updated. Preventing stored paths from being overwritten in a particular object, however, does not entirely prevent you from changing the outputs of any methods run from those stored paths as the information is not cached in a single object, rather extracted from the data products when required. Let's try re-producing this SExtractor forced photometric catalogue but instead using the F356W filter for selection in the same object to see what error message we get out of galfind."
   ]
  },
  {
   "cell_type": "code",
   "execution_count": null,
   "metadata": {},
   "outputs": [],
   "source": [
    "JOF_data.perform_forced_phot(forced_phot_band = \"F356W\")"
   ]
  },
  {
   "cell_type": "markdown",
   "metadata": {},
   "source": [
    "Let's create a second object now (and a deepcopied third pre-forced photometry for later in the notebook) and have a go at performing the forced photometry once again."
   ]
  },
  {
   "cell_type": "code",
   "execution_count": null,
   "metadata": {},
   "outputs": [],
   "source": [
    "JOF_data_2 = Data.from_survey_version(\n",
    "    survey, \n",
    "    version, \n",
    "    instrument_names = instrument_names, \n",
    "    version_to_dir_dict = morgan_version_to_dir,\n",
    ")\n",
    "JOF_data_3 = deepcopy(JOF_data_2)"
   ]
  },
  {
   "cell_type": "markdown",
   "metadata": {},
   "source": [
    "This time, we will attempt to produce a photometric catalogue selecting from a stack of F277W, F356W, and F444W as in the EPOCHS series as well as a host of other high-redshift studies. To do this, we will need to create a `Stacked_Band_Data` object, as seen before in example 3 of the [Data class introduction notebook](data_intro.ipynb)."
   ]
  },
  {
   "cell_type": "code",
   "execution_count": null,
   "metadata": {},
   "outputs": [],
   "source": [
    "select_filters = [\"F277W\", \"F356W\", \"F444W\"]\n",
    "stacked_NIRCam_LW = Stacked_Band_Data.from_band_data_arr(JOF_data_2[select_filters])\n",
    "print(stacked_NIRCam_LW)"
   ]
  },
  {
   "cell_type": "markdown",
   "metadata": {},
   "source": [
    "## Example 2: Running the Data pipeline\n",
    "\n",
    "There is one last class method for the Data object that we havn't quite covered yet, `Data.pipeline()` which again just takes `survey` and `version` inputs. This class method is what is used in the EPOCHS pipeline and essentially just chains the cataloguing steps in the previous notebooks together elegantly, skipping those that have already been executed in the past. For further details, please read the previous notebooks in this section if you have not already done so."
   ]
  },
  {
   "cell_type": "code",
   "execution_count": 1,
   "metadata": {},
   "outputs": [
    {
     "name": "stdout",
     "output_type": "stream",
     "text": [
      "__init__ imports took 0.9078459739685059s\n",
      "Reading GALFIND config file from: /nvme/scratch/work/austind/GALFIND/galfind/../configs/galfind_config.ini\n"
     ]
    },
    {
     "ename": "SyntaxError",
     "evalue": "invalid syntax (Data.py, line 462)",
     "output_type": "error",
     "traceback": [
      "Traceback \u001b[0;36m(most recent call last)\u001b[0m:\n",
      "\u001b[0m  File \u001b[1;32m/nvme/scratch/software/anaconda3/envs/galfind_test/lib/python3.9/site-packages/IPython/core/interactiveshell.py:3550\u001b[0m in \u001b[1;35mrun_code\u001b[0m\n    exec(code_obj, self.user_global_ns, self.user_ns)\u001b[0m\n",
      "\u001b[0m  Cell \u001b[1;32mIn[1], line 2\u001b[0m\n    from galfind import Data\u001b[0m\n",
      "\u001b[0;36m  File \u001b[0;32m/nvme/scratch/work/austind/GALFIND/galfind/__init__.py:140\u001b[0;36m\n\u001b[0;31m    from .Data import Band_Data_Base, Band_Data, Stacked_Band_Data, Data\u001b[0;36m\n",
      "\u001b[0;36m  File \u001b[0;32m/nvme/scratch/work/austind/GALFIND/galfind/Data.py:462\u001b[0;36m\u001b[0m\n\u001b[0;31m    \"params_name\": params_name\u001b[0m\n\u001b[0m    ^\u001b[0m\n\u001b[0;31mSyntaxError\u001b[0m\u001b[0;31m:\u001b[0m invalid syntax\n"
     ]
    }
   ],
   "source": [
    "# imports\n",
    "from galfind import Data\n",
    "\n",
    "survey = \"JOF\"\n",
    "version = \"v11\"\n",
    "\n",
    "# load the data object (short version)\n",
    "data_short = Data.pipeline(survey, version)\n",
    "\n",
    "# load the data object (long version)\n",
    "data_long = Data.from_survey_version(survey, version)\n",
    "data_long.PSF_homogenize(\"F444W\")\n",
    "data_long.segment(\"sextractor\")\n",
    "data_long.perform_forced_phot([\"F277W\", \"F356W\", \"F444W\"])\n",
    "data_long.mask()\n",
    "data_long.run_depths()\n",
    "\n",
    "# ensure the two data objects are the same\n",
    "assert data_short == data_long\n",
    "\n",
    "# show the data object attributes\n",
    "print(data_short)"
   ]
  }
 ],
 "metadata": {
  "kernelspec": {
   "display_name": "galfind_test",
   "language": "python",
   "name": "python3"
  },
  "language_info": {
   "codemirror_mode": {
    "name": "ipython",
    "version": 3
   },
   "file_extension": ".py",
   "mimetype": "text/x-python",
   "name": "python",
   "nbconvert_exporter": "python",
   "pygments_lexer": "ipython3",
   "version": "3.9.0"
  }
 },
 "nbformat": 4,
 "nbformat_minor": 2
}
