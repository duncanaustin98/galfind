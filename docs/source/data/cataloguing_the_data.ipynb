{
 "cells": [
  {
   "cell_type": "markdown",
   "metadata": {},
   "source": [
    "# Cataloguing the data\n",
    "\n",
    "The primary use for the galfind `Data` object is the creation of photometric catalogues for public and personal use. Once produced, these catalogues can be loaded into the `Catalogue` class to derive specific properties, which we cover in the [next section](../catalogue/catalogue.rst). In this first galfind release, we implement the ability to produce these using SExtractor only, although we aim to include other codes to perform forced photometry in the near future.\n",
    "\n",
    "The cataloguing procedure involves many different steps that have been explained in previous notebooks in this section. We outline the steps here.\n",
    "\n",
    "1. Instantiate a blank `Data` object from the reduced imaging\n",
    "2. Produce segmentation maps for each band using SExtractor\n",
    "3. Mask the data (i.e. image edges, stars, artefacts) either manually or automatically\n",
    "4. Perform forced photometry in a set of given apertures in either a single band or an inverse-variance weighted stack of bands.\n",
    "5. Aperture correct the fluxes based on a given model or empirical PSF\n",
    "6. Calculate local depths for each source\n",
    "7. Determine appropriate flux errors based on these depths, accounting for the correlated image noise\n",
    "\n",
    "We will create a `Data` object and associated .fits catalogue following these 7 steps in two ways, long (example 1) and short (example 2).\n",
    "\n",
    "## Example 1: Producing photometric catalogues\n",
    "\n",
    "To start with, we will load the same JOF `Data` object we have seen in previous examples."
   ]
  },
  {
   "cell_type": "code",
   "execution_count": 1,
   "metadata": {},
   "outputs": [
    {
     "name": "stdout",
     "output_type": "stream",
     "text": [
      "Reading GALFIND config file from: /nvme/scratch/work/austind/GALFIND/galfind/../configs/galfind_config.ini\n"
     ]
    },
    {
     "name": "stderr",
     "output_type": "stream",
     "text": [
      "INFO:galfind:Aperture corrections for ACS_WFC loaded from /nvme/scratch/work/austind/GALFIND/galfind/Aperture_corrections/ACS_WFC_aper_corr.txt\n",
      "INFO:galfind:Aperture corrections for WFC3_IR loaded from /nvme/scratch/work/austind/GALFIND/galfind/Aperture_corrections/WFC3_IR_aper_corr.txt\n",
      "INFO:galfind:Aperture corrections for NIRCam loaded from /nvme/scratch/work/austind/GALFIND/galfind/Aperture_corrections/NIRCam_aper_corr.txt\n",
      "INFO:galfind:Aperture corrections for MIRI loaded from /nvme/scratch/work/austind/GALFIND/galfind/Aperture_corrections/MIRI_aper_corr.txt\n",
      "INFO:galfind:Aperture corrections for ACS_WFC loaded from /nvme/scratch/work/austind/GALFIND/galfind/Aperture_corrections/ACS_WFC_aper_corr.txt\n",
      "INFO:galfind:Aperture corrections for WFC3_IR loaded from /nvme/scratch/work/austind/GALFIND/galfind/Aperture_corrections/WFC3_IR_aper_corr.txt\n",
      "INFO:galfind:Aperture corrections for NIRCam loaded from /nvme/scratch/work/austind/GALFIND/galfind/Aperture_corrections/NIRCam_aper_corr.txt\n",
      "INFO:galfind:Aperture corrections for MIRI loaded from /nvme/scratch/work/austind/GALFIND/galfind/Aperture_corrections/MIRI_aper_corr.txt\n",
      "INFO:galfind:Aperture corrections for NIRCam loaded from /nvme/scratch/work/austind/GALFIND/galfind/Aperture_corrections/NIRCam_aper_corr.txt\n",
      "INFO:galfind:Loaded aper_diams=<Quantity [0.32] arcsec> for F277W+F356W+F444W\n",
      "INFO:galfind:Combined mask for <galfind.Data.Stacked_Band_Data object at 0x7f67f51c0d30> already exists at /raid/scratch/work/austind/GALFIND_WORK/Masks/JOF/combined/JOF_F277W+F356W+F444W_auto.fits\n",
      "WARNING:galfind:Aperture correction columns already in /raid/scratch/work/austind/GALFIND_WORK/Catalogues/v11/NIRCam/JOF/(0.32)as/JOF_MASTER_Sel-F277W+F356W+F444W_v11.fits\n",
      "Calculating depths:   0%|          | 0/15 [00:00<?, ?it/s]\n",
      "INFO:galfind:Calculated/loaded depths for JOF v11 NIRCam\n",
      "INFO:galfind:Local depth columns already exist in /raid/scratch/work/austind/GALFIND_WORK/Catalogues/v11/NIRCam/JOF/(0.32)as/JOF_MASTER_Sel-F277W+F356W+F444W_v11.fits\n"
     ]
    }
   ],
   "source": [
    "from pathlib import Path\n",
    "from astropy.table import Table\n",
    "from copy import deepcopy\n",
    "import astropy.units as u\n",
    "\n",
    "from galfind import Stacked_Band_Data, Data\n",
    "from galfind.Data import morgan_version_to_dir\n",
    "\n",
    "survey = \"JOF\"\n",
    "version = \"v11\"\n",
    "instrument_names = [\"NIRCam\"]\n",
    "aper_diams = [0.32] * u.arcsec\n",
    "forced_phot_band = [\"F277W\", \"F356W\", \"F444W\"]\n",
    "min_flux_pc_err = 10.\n",
    "# 1\n",
    "JOF_data_long = Data.from_survey_version(\n",
    "    survey, \n",
    "    version, \n",
    "    instrument_names = instrument_names, \n",
    "    version_to_dir_dict = morgan_version_to_dir,\n",
    "    aper_diams = aper_diams,\n",
    "    forced_phot_band = forced_phot_band\n",
    ")\n",
    "# 2\n",
    "JOF_data_long.mask()\n",
    "# 3\n",
    "JOF_data_long.segment()\n",
    "# 4\n",
    "JOF_data_long.perform_forced_phot()\n",
    "# 5\n",
    "JOF_data_long.append_aper_corr_cols()\n",
    "# 6\n",
    "JOF_data_long.run_depths()\n",
    "# 7\n",
    "JOF_data_long.append_loc_depth_cols(min_flux_pc_err = min_flux_pc_err)\n"
   ]
  },
  {
   "cell_type": "markdown",
   "metadata": {},
   "source": [
    "Now we will search the GALFIND_WORK directory for the individual forced photometry catalogues for each band and the resulting catalogue/README to ensure they exist and have been created correctly."
   ]
  },
  {
   "cell_type": "code",
   "execution_count": 2,
   "metadata": {},
   "outputs": [
    {
     "name": "stdout",
     "output_type": "stream",
     "text": [
      "Photometric catalogue exists at the expected path.\n",
      "  NUMBER     X_IMAGE   ... FLUXERR_APER_F444W_loc_depth_10pc_Jy\n",
      "               pix     ...                                     \n",
      "---------- ----------- ... ------------------------------------\n",
      "         1   9219.8145 ...                9.334392262202193e-07\n",
      "         2   6108.1621 ...                7.172339419546474e-07\n",
      "         3   7386.6421 ...               3.1515218602729543e-07\n",
      "         4   8138.5957 ...                3.234000112590365e-07\n",
      "         5   8047.3140 ...               1.1086978875416937e-07\n",
      "         6   9006.2188 ...                4.827971234428365e-08\n",
      "         7    765.8052 ...                5.650294316943437e-07\n",
      "         8   1647.3230 ...                1.901099027593121e-07\n",
      "         9   6701.1450 ...               1.7682059984292007e-07\n",
      "        10     82.3648 ...                2.371577141482952e-08\n",
      "       ...         ... ...                                  ...\n",
      "     16326  10042.8691 ...                 7.28102017387155e-10\n",
      "     16327   9314.2891 ...                4.697087374899504e-10\n",
      "     16328   2892.7561 ...                5.128462010110903e-10\n",
      "     16329   1918.4792 ...                4.895995960910137e-10\n",
      "     16330   9603.0967 ...                6.038842945552168e-10\n",
      "     16331   3401.8242 ...                5.944864637670069e-10\n",
      "     16332    203.1676 ...                6.378315604719358e-10\n",
      "     16333   8055.8330 ...                6.638494393320452e-10\n",
      "     16334    924.1203 ...                6.757014476461435e-10\n",
      "     16335   2663.6299 ...                8.274179840640633e-10\n",
      "Length = 16335 rows\n"
     ]
    }
   ],
   "source": [
    "# search for photometric catalogue\n",
    "if Path(JOF_data_long.phot_cat_path).is_file():\n",
    "    print(\"Photometric catalogue exists at the expected path.\")\n",
    "    # open the photometric catalogue\n",
    "    phot_cat = Table.read(JOF_data_long.phot_cat_path)\n",
    "    print(phot_cat)\n",
    "else:\n",
    "    print(\"Photometric catalogue does not exist at the expected path.\")\n",
    "\n",
    "# # search for README\n",
    "# readme_path = JOF_data_long.phot_cat_path.replace(\".fits\", \"_README.txt\")\n",
    "# if Path(readme_path).is_file():\n",
    "#     print(\"README exists at the expected path.\")\n",
    "#     # print the README\n",
    "#     with open(readme_path, \"r\") as f:\n",
    "#         print(f.read())\n",
    "#         f.close()\n",
    "# else:\n",
    "#     print(\"README does not exist at the expected path.\")"
   ]
  },
  {
   "cell_type": "markdown",
   "metadata": {},
   "source": [
    "Let's have a look at how this changes the `Data` print statement."
   ]
  },
  {
   "cell_type": "code",
   "execution_count": 3,
   "metadata": {},
   "outputs": [
    {
     "name": "stdout",
     "output_type": "stream",
     "text": [
      "****************************************\n",
      "DATA OBJECT:\n",
      "----------\n",
      "SURVEY: JOF\n",
      "VERSION: v11\n",
      "****************************************\n",
      "MULTIPLE_FILTER\n",
      "----------\n",
      "FACILITY: JWST\n",
      "INSTRUMENT: NIRCam\n",
      "FILTERS: ['F090W', 'F115W', 'F150W', 'F162M', 'F182M', 'F200W', 'F210M', 'F250M', 'F277W', 'F300M', 'F335M', 'F356W', 'F410M', 'F444W']\n",
      "****************************************\n",
      "****************************************\n",
      "\n"
     ]
    }
   ],
   "source": [
    "print(JOF_data_long)"
   ]
  },
  {
   "cell_type": "markdown",
   "metadata": {},
   "source": [
    "For safety reasons, once the (path to the) photometric catalogue has been loaded into the Data object, it is not possible to re-run it. This is so that, for example, you don't get confused between the products stemming from the previous catalogue and your newly loaded in one. To be clear, the `overwrite` parameter that we have been using simply states whether the pre-existing paths should be overwritten with the new data and NOT whether the data stored in the object should be updated. Preventing stored paths from being overwritten in a particular object, however, does not entirely prevent you from changing the outputs of any methods run from those stored paths as the information is not cached in a single object, rather extracted from the data products when required. Let's try re-producing this SExtractor forced photometric catalogue but instead using the F356W filter for selection in the same object to see what error message we get out of galfind."
   ]
  },
  {
   "cell_type": "code",
   "execution_count": 4,
   "metadata": {},
   "outputs": [
    {
     "name": "stderr",
     "output_type": "stream",
     "text": [
      "CRITICAL:galfind:MASTER Photometric catalogue already exists!\n"
     ]
    }
   ],
   "source": [
    "JOF_data_long.perform_forced_phot(forced_phot_band = \"F356W\")"
   ]
  },
  {
   "cell_type": "markdown",
   "metadata": {},
   "source": [
    "## Example 2: Running the Data pipeline\n",
    "\n",
    "There is one last class method for the Data object that we havn't quite covered yet, `Data.pipeline()` which again just takes `survey` and `version` inputs. This class method is what is used in the EPOCHS pipeline and essentially just chains the cataloguing steps in the previous notebooks together elegantly, skipping those that have already been executed in the past. For further details, please read the previous notebooks in this section if you have not already done so."
   ]
  },
  {
   "cell_type": "code",
   "execution_count": 5,
   "metadata": {},
   "outputs": [
    {
     "name": "stderr",
     "output_type": "stream",
     "text": [
      "INFO:galfind:Aperture corrections for NIRCam loaded from /nvme/scratch/work/austind/GALFIND/galfind/Aperture_corrections/NIRCam_aper_corr.txt\n"
     ]
    },
    {
     "name": "stderr",
     "output_type": "stream",
     "text": [
      "INFO:galfind:Loaded aper_diams=<Quantity [0.32] arcsec> for F277W+F356W+F444W\n",
      "INFO:galfind:Combined mask for <galfind.Data.Stacked_Band_Data object at 0x7f67f5128730> already exists at /raid/scratch/work/austind/GALFIND_WORK/Masks/JOF/combined/JOF_F277W+F356W+F444W_auto.fits\n",
      "WARNING:galfind:Aperture correction columns already in /raid/scratch/work/austind/GALFIND_WORK/Catalogues/v11/NIRCam/JOF/(0.32)as/JOF_MASTER_Sel-F277W+F356W+F444W_v11.fits\n",
      "Calculating depths:   0%|          | 0/15 [00:00<?, ?it/s]\n",
      "INFO:galfind:Calculated/loaded depths for JOF v11 NIRCam\n",
      "INFO:galfind:Local depth columns already exist in /raid/scratch/work/austind/GALFIND_WORK/Catalogues/v11/NIRCam/JOF/(0.32)as/JOF_MASTER_Sel-F277W+F356W+F444W_v11.fits\n"
     ]
    }
   ],
   "source": [
    "# load the data object (short version)\n",
    "JOF_data_short = Data.pipeline(\n",
    "    survey, \n",
    "    version, \n",
    "    instrument_names = instrument_names, \n",
    "    version_to_dir_dict = morgan_version_to_dir,\n",
    "    aper_diams = aper_diams,\n",
    "    forced_phot_band = forced_phot_band,\n",
    "    min_flux_pc_err = min_flux_pc_err\n",
    ")\n",
    "\n",
    "# ensure the two data objects are the same\n",
    "assert JOF_data_short == JOF_data_long"
   ]
  },
  {
   "cell_type": "markdown",
   "metadata": {},
   "source": [
    "Note that the two implementations are the same only if the default galfind pipeline parameters are used. Any deviation in masking, segmentation, performing forced photometry, running depths, or choice of PSF will produce differences between these two `Data` objects.\n",
    "\n",
    "Fantastic! You've stuck it out through to the end of the `Data` class documentation. Feel free to now explore the next section which explores the galfind [Catalogue](../catalogue/catalogue.rst) class."
   ]
  }
 ],
 "metadata": {
  "kernelspec": {
   "display_name": "galfind_test",
   "language": "python",
   "name": "python3"
  },
  "language_info": {
   "codemirror_mode": {
    "name": "ipython",
    "version": 3
   },
   "file_extension": ".py",
   "mimetype": "text/x-python",
   "name": "python",
   "nbconvert_exporter": "python",
   "pygments_lexer": "ipython3",
   "version": "3.9.0"
  }
 },
 "nbformat": 4,
 "nbformat_minor": 2
}
