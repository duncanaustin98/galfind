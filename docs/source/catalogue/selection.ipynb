{
 "cells": [
  {
   "cell_type": "markdown",
   "metadata": {},
   "source": [
    "# Photometric sample selection\n",
    "\n",
    "In this notebook, we will utilize the `Galaxy` class selection methods of galaxies stored in the `Catalogue` object to create boolean selection columns in the outputted fits table. These boolean columns can be loaded back in to new `Catalogue` objects directly from the fits catalogue upon load-in, handy for any subsequent plotting of cutouts, scaling relations, and UV LF / mass function generation. While the details on the available galaxy selection techniques are outlined in the [Galaxy selection notebook](../galaxy/selection.ipynb), we will show the catalogue level implementation of the EPOCHS selection here. It is worth noting that all other galaxy selection options are also available on a catalogue scale."
   ]
  },
  {
   "cell_type": "code",
   "execution_count": null,
   "metadata": {},
   "outputs": [],
   "source": [
    "# imports\n",
    "import astropy.units as u\n",
    "from galfind import Catalogue\n",
    "from galfind.Data import morgan_version_to_dir\n",
    "\n",
    "survey = \"JOF\"\n",
    "version = \"v11\"\n",
    "instrument_names = [\"NIRCam\"]\n",
    "aper_diams = [0.32] * u.arcsec\n",
    "forced_phot_band = [\"F277W\", \"F356W\", \"F444W\"]\n",
    "min_flux_pc_err = 10.\n",
    "\n",
    "JOF_cat = Catalogue.pipeline(\n",
    "    survey, \n",
    "    version,\n",
    "    instrument_names = [\"NIRCam\"], \n",
    "    version_to_dir_dict = morgan_version_to_dir,\n",
    "    aper_diams = aper_diams,\n",
    "    forced_phot_band = forced_phot_band,\n",
    "    min_flux_pc_err = min_flux_pc_err\n",
    ")\n",
    "print(JOF_cat)"
   ]
  },
  {
   "cell_type": "markdown",
   "metadata": {},
   "source": [
    "Now that we have loaded the blank catalogue, we will perform the selection."
   ]
  },
  {
   "cell_type": "code",
   "execution_count": null,
   "metadata": {},
   "outputs": [],
   "source": [
    "# perform EPOCHS selection"
   ]
  },
  {
   "cell_type": "markdown",
   "metadata": {},
   "source": [
    "Let's have a look at how this changes the `Catalogue` print statement."
   ]
  },
  {
   "cell_type": "code",
   "execution_count": null,
   "metadata": {},
   "outputs": [],
   "source": [
    "print(JOF_cat)"
   ]
  },
  {
   "cell_type": "markdown",
   "metadata": {},
   "source": [
    "Once the selection has been run for the catalogue, it is saved in the fits catalogue and can be simply loaded back in immediately when initializing the catalogue."
   ]
  },
  {
   "cell_type": "code",
   "execution_count": null,
   "metadata": {},
   "outputs": [],
   "source": []
  },
  {
   "cell_type": "markdown",
   "metadata": {},
   "source": [
    "If you attempt to load in a selection column that doesn't exist, a nice error message will appear that asks you to first run selection."
   ]
  },
  {
   "cell_type": "code",
   "execution_count": null,
   "metadata": {},
   "outputs": [],
   "source": []
  },
  {
   "cell_type": "markdown",
   "metadata": {},
   "source": [
    "Additionally, if you try to select galaxies on a cropped catalogue, this will also not work."
   ]
  },
  {
   "cell_type": "code",
   "execution_count": null,
   "metadata": {},
   "outputs": [],
   "source": []
  }
 ],
 "metadata": {
  "kernelspec": {
   "display_name": "more_and_more_galfind",
   "language": "python",
   "name": "python3"
  },
  "language_info": {
   "name": "python",
   "version": "3.9.20"
  }
 },
 "nbformat": 4,
 "nbformat_minor": 2
}
