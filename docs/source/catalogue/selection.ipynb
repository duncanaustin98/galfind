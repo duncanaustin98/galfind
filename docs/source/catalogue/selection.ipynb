{
 "cells": [
  {
   "cell_type": "markdown",
   "metadata": {},
   "source": [
    "# Photometric sample selection\n",
    "\n",
    "In this notebook, we will utilize the `Galaxy` class selection methods of galaxies stored in the `Catalogue` object to create boolean selection columns in the outputted fits table. These boolean columns can be loaded back in to new `Catalogue` objects directly from the fits catalogue upon load-in, handy for any subsequent plotting of cutouts, scaling relations, and UV LF / mass function generation. While the details on the available galaxy selection techniques are outlined in the [Galaxy selection notebook](../galaxy/selection.ipynb), we will show the catalogue level implementation of the EPOCHS selection here. It is worth noting that all other galaxy selection options are also available on a catalogue scale."
   ]
  },
  {
   "cell_type": "code",
   "execution_count": 1,
   "metadata": {},
   "outputs": [
    {
     "name": "stderr",
     "output_type": "stream",
     "text": [
      "WARNING:galfind:Could not change permissions of /raid/scratch/work/austind/GALFIND_WORK/Log_files/2024-11-12.log to 777.\n"
     ]
    },
    {
     "name": "stdout",
     "output_type": "stream",
     "text": [
      "Reading GALFIND config file from: /nvme/scratch/work/austind/GALFIND/galfind/../configs/galfind_config.ini\n"
     ]
    },
    {
     "name": "stderr",
     "output_type": "stream",
     "text": [
      "WARNING:galfind:Aperture corrections for VISTA not found in /nvme/scratch/work/austind/GALFIND/galfind/Aperture_corrections/VISTA_aper_corr.txt\n",
      "WARNING:galfind:Aperture corrections for VISTA not found in /nvme/scratch/work/austind/GALFIND/galfind/Aperture_corrections/VISTA_aper_corr.txt\n"
     ]
    },
    {
     "name": "stdout",
     "output_type": "stream",
     "text": [
      "Failed to `import dust_attenuation`\n",
      "Install from the repo with $ pip install git+https://github.com/karllark/dust_attenuation.git\n"
     ]
    },
    {
     "name": "stderr",
     "output_type": "stream",
     "text": [
      "INFO:galfind:Loaded aper_diams=<Quantity [0.32] arcsec> for F277W+F356W+F444W\n",
      "INFO:galfind:Combined mask for NIRCam/F277W+F356W+F444W already exists at /raid/scratch/work/austind/GALFIND_WORK/Masks/JOF/combined/JOF_F277W+F356W+F444W_auto.fits\n",
      "WARNING: hdu= was not specified but multiple tables are present, reading in first available table (hdu=1) [astropy.io.fits.connect]\n",
      "WARNING:astroquery:hdu= was not specified but multiple tables are present, reading in first available table (hdu=1)\n",
      "WARNING:galfind:Aperture correction columns already in /raid/scratch/work/austind/GALFIND_WORK/Catalogues/v11/NIRCam/JOF/(0.32)as/JOF_MASTER_Sel-F277W+F356W+F444W_v11.fits\n",
      "Calculating depths:   0%|          | 0/15 [00:00<?, ?it/s]\n",
      "INFO:galfind:Calculated/loaded depths for JOF v11 NIRCam\n",
      "INFO:galfind:Local depth columns already exist in /raid/scratch/work/austind/GALFIND_WORK/Catalogues/v11/NIRCam/JOF/(0.32)as/JOF_MASTER_Sel-F277W+F356W+F444W_v11.fits\n",
      "INFO:galfind:Loaded 'has_data_mask' from /raid/scratch/work/austind/GALFIND_WORK/Masks/JOF/has_data_mask/JOF_MASTER_Sel-F277W+F356W+F444W_v11.h5\n",
      "INFO:galfind:Making JOF v11 JOF_MASTER_Sel-F277W+F356W+F444W_v11 catalogue!\n",
      "WARNING:galfind:cat_aper_diams not in kwargs.keys()=dict_keys(['ZP', 'min_flux_pc_err'])! Setting to aper_diams=<Quantity [0.32] arcsec>\n",
      "WARNING:galfind:cat_aper_diams not in kwargs.keys()=dict_keys(['ZP', 'min_flux_pc_err'])! Setting to aper_diams=<Quantity [0.32] arcsec>\n",
      "WARNING:galfind:cat_aper_diams not in kwargs.keys()=dict_keys([])! Setting to aper_diams=<Quantity [0.32] arcsec>\n",
      "INFO:galfind:Made /raid/scratch/work/austind/GALFIND_WORK/Catalogues/v11/NIRCam/JOF/(0.32)as/JOF_MASTER_Sel-F277W+F356W+F444W_v11.fits catalogue!\n"
     ]
    },
    {
     "name": "stdout",
     "output_type": "stream",
     "text": [
      "****************************************\n",
      "CATALOGUE(JOF,v11,NIRCam):\n",
      "----------\n",
      "CAT PATH = /raid/scratch/work/austind/GALFIND_WORK/Catalogues/v11/NIRCam/JOF/(0.32)as/JOF_MASTER_Sel-F277W+F356W+F444W_v11.fits\n",
      "TOTAL GALAXIES = 16335\n",
      "RA RANGE = [53.01070689 53.11059594] deg\n",
      "DEC RANGE = [-27.91226173 -27.83206063] deg\n",
      "----------\n",
      "****************************************\n",
      "MULTIPLE_FILTER\n",
      "----------\n",
      "FACILITY: JWST\n",
      "INSTRUMENT: NIRCam\n",
      "FILTERS: ['F090W', 'F115W', 'F150W', 'F162M', 'F182M', 'F200W', 'F210M', 'F250M', 'F277W', 'F300M', 'F335M', 'F356W', 'F410M', 'F444W']\n",
      "****************************************\n",
      "\n"
     ]
    }
   ],
   "source": [
    "# imports\n",
    "import astropy.units as u\n",
    "from galfind import Catalogue\n",
    "from galfind.Data import morgan_version_to_dir\n",
    "\n",
    "survey = \"JOF\"\n",
    "version = \"v11\"\n",
    "instrument_names = [\"NIRCam\"]\n",
    "aper_diams = [0.32] * u.arcsec\n",
    "forced_phot_band = [\"F277W\", \"F356W\", \"F444W\"]\n",
    "min_flux_pc_err = 10.\n",
    "\n",
    "JOF_cat = Catalogue.pipeline(\n",
    "    survey,\n",
    "    version,\n",
    "    instrument_names = instrument_names, \n",
    "    version_to_dir_dict = morgan_version_to_dir,\n",
    "    aper_diams = aper_diams,\n",
    "    forced_phot_band = forced_phot_band,\n",
    "    min_flux_pc_err = min_flux_pc_err\n",
    ")\n",
    "print(JOF_cat)"
   ]
  },
  {
   "cell_type": "markdown",
   "metadata": {},
   "source": [
    "Now that we have loaded the blank catalogue, we will perform the selection."
   ]
  },
  {
   "cell_type": "code",
   "execution_count": 2,
   "metadata": {},
   "outputs": [
    {
     "ename": "AttributeError",
     "evalue": "",
     "output_type": "error",
     "traceback": [
      "\u001b[0;31m---------------------------------------------------------------------------\u001b[0m",
      "\u001b[0;31mAttributeError\u001b[0m                            Traceback (most recent call last)",
      "Cell \u001b[0;32mIn[2], line 2\u001b[0m\n\u001b[1;32m      1\u001b[0m \u001b[38;5;66;03m# perform EPOCHS selection\u001b[39;00m\n\u001b[0;32m----> 2\u001b[0m \u001b[43mJOF_cat\u001b[49m\u001b[38;5;241;43m.\u001b[39;49m\u001b[43mselect_Kokorev24_LRDs\u001b[49m\u001b[43m(\u001b[49m\u001b[38;5;241;43m0.32\u001b[39;49m\u001b[43m \u001b[49m\u001b[38;5;241;43m*\u001b[39;49m\u001b[43m \u001b[49m\u001b[43mu\u001b[49m\u001b[38;5;241;43m.\u001b[39;49m\u001b[43marcsec\u001b[49m\u001b[43m)\u001b[49m\n",
      "File \u001b[0;32m/nvme/scratch/work/austind/GALFIND/galfind/Catalogue.py:2121\u001b[0m, in \u001b[0;36mCatalogue.select_Kokorev24_LRDs\u001b[0;34m(self, aper_diam)\u001b[0m\n\u001b[1;32m   2066\u001b[0m required_bands \u001b[38;5;241m=\u001b[39m [\u001b[38;5;124m\"\u001b[39m\u001b[38;5;124mF115W\u001b[39m\u001b[38;5;124m\"\u001b[39m, \u001b[38;5;124m\"\u001b[39m\u001b[38;5;124mF150W\u001b[39m\u001b[38;5;124m\"\u001b[39m, \u001b[38;5;124m\"\u001b[39m\u001b[38;5;124mF200W\u001b[39m\u001b[38;5;124m\"\u001b[39m, \u001b[38;5;124m\"\u001b[39m\u001b[38;5;124mF277W\u001b[39m\u001b[38;5;124m\"\u001b[39m, \u001b[38;5;124m\"\u001b[39m\u001b[38;5;124mF356W\u001b[39m\u001b[38;5;124m\"\u001b[39m, \u001b[38;5;124m\"\u001b[39m\u001b[38;5;124mF444W\u001b[39m\u001b[38;5;124m\"\u001b[39m]\n\u001b[1;32m   2067\u001b[0m \u001b[38;5;28;01mif\u001b[39;00m \u001b[38;5;28mall\u001b[39m(\n\u001b[1;32m   2068\u001b[0m     band_name \u001b[38;5;129;01min\u001b[39;00m \u001b[38;5;28mself\u001b[39m\u001b[38;5;241m.\u001b[39mfilterset\u001b[38;5;241m.\u001b[39mband_names\n\u001b[1;32m   2069\u001b[0m     \u001b[38;5;28;01mfor\u001b[39;00m band_name \u001b[38;5;129;01min\u001b[39;00m required_bands\n\u001b[0;32m   (...)\u001b[0m\n\u001b[1;32m   2119\u001b[0m     \u001b[38;5;66;03m#     make_cat_copy=False,\u001b[39;00m\n\u001b[1;32m   2120\u001b[0m     \u001b[38;5;66;03m# )\u001b[39;00m\n\u001b[0;32m-> 2121\u001b[0m     \u001b[38;5;28;01mreturn\u001b[39;00m \u001b[38;5;28;43mself\u001b[39;49m\u001b[38;5;241;43m.\u001b[39;49m\u001b[43mperform_selection\u001b[49m\u001b[43m(\u001b[49m\u001b[43mGalaxy\u001b[49m\u001b[38;5;241;43m.\u001b[39;49m\u001b[43mselect_Kokorev24_LRDs\u001b[49m\u001b[43m,\u001b[49m\u001b[43m \u001b[49m\u001b[43maper_diam\u001b[49m\u001b[43m)\u001b[49m\n\u001b[1;32m   2122\u001b[0m \u001b[38;5;28;01melse\u001b[39;00m:\n\u001b[1;32m   2123\u001b[0m     galfind_logger\u001b[38;5;241m.\u001b[39mwarning(\n\u001b[1;32m   2124\u001b[0m         \u001b[38;5;124mf\u001b[39m\u001b[38;5;124m\"\u001b[39m\u001b[38;5;124mNot all of \u001b[39m\u001b[38;5;132;01m{\u001b[39;00mrequired_bands\u001b[38;5;132;01m}\u001b[39;00m\u001b[38;5;124m in \u001b[39m\u001b[38;5;132;01m{\u001b[39;00m\u001b[38;5;28mself\u001b[39m\u001b[38;5;241m.\u001b[39mfilterset\u001b[38;5;241m.\u001b[39mband_names\u001b[38;5;132;01m=}\u001b[39;00m\u001b[38;5;124m,\u001b[39m\u001b[38;5;124m\"\u001b[39m \u001b[38;5;241m+\u001b[39m \\\n\u001b[1;32m   2125\u001b[0m         \u001b[38;5;124m\"\u001b[39m\u001b[38;5;124m skipping \u001b[39m\u001b[38;5;124m'\u001b[39m\u001b[38;5;124mselect_Kokorev24_LRDs\u001b[39m\u001b[38;5;124m'\u001b[39m\u001b[38;5;124m selection\u001b[39m\u001b[38;5;124m\"\u001b[39m\n\u001b[1;32m   2126\u001b[0m     )\n",
      "File \u001b[0;32m/nvme/scratch/work/austind/GALFIND/galfind/Catalogue.py:2281\u001b[0m, in \u001b[0;36mCatalogue.perform_selection\u001b[0;34m(self, selection_function, make_cat_copy, *args)\u001b[0m\n\u001b[1;32m   2278\u001b[0m selection_name \u001b[38;5;241m=\u001b[39m selection_function(\u001b[38;5;28mself\u001b[39m[\u001b[38;5;241m0\u001b[39m], \u001b[38;5;241m*\u001b[39margs, update\u001b[38;5;241m=\u001b[39m\u001b[38;5;28;01mFalse\u001b[39;00m)[\u001b[38;5;241m1\u001b[39m]\n\u001b[1;32m   2279\u001b[0m \u001b[38;5;66;03m# open catalogue\u001b[39;00m\n\u001b[1;32m   2280\u001b[0m \u001b[38;5;66;03m# perform selection if not previously performed\u001b[39;00m\n\u001b[0;32m-> 2281\u001b[0m \u001b[38;5;28;01mif\u001b[39;00m selection_name \u001b[38;5;129;01mnot\u001b[39;00m \u001b[38;5;129;01min\u001b[39;00m \u001b[38;5;28;43mself\u001b[39;49m\u001b[38;5;241;43m.\u001b[39;49m\u001b[43mselection_cols\u001b[49m:\n\u001b[1;32m   2282\u001b[0m     \u001b[38;5;66;03m# perform calculation for each galaxy and update galaxies in self\u001b[39;00m\n\u001b[1;32m   2283\u001b[0m     [\n\u001b[1;32m   2284\u001b[0m         selection_function(gal, \u001b[38;5;241m*\u001b[39margs, update\u001b[38;5;241m=\u001b[39m\u001b[38;5;28;01mTrue\u001b[39;00m)[\u001b[38;5;241m0\u001b[39m]\n\u001b[1;32m   2285\u001b[0m         \u001b[38;5;28;01mfor\u001b[39;00m gal \u001b[38;5;129;01min\u001b[39;00m tqdm(\n\u001b[1;32m   2286\u001b[0m             \u001b[38;5;28mself\u001b[39m, total\u001b[38;5;241m=\u001b[39m\u001b[38;5;28mlen\u001b[39m(\u001b[38;5;28mself\u001b[39m), desc\u001b[38;5;241m=\u001b[39m\u001b[38;5;124mf\u001b[39m\u001b[38;5;124m\"\u001b[39m\u001b[38;5;124mCropping \u001b[39m\u001b[38;5;132;01m{\u001b[39;00mselection_name\u001b[38;5;132;01m}\u001b[39;00m\u001b[38;5;124m\"\u001b[39m\n\u001b[1;32m   2287\u001b[0m         )\n\u001b[1;32m   2288\u001b[0m     ]\n\u001b[1;32m   2289\u001b[0m     \u001b[38;5;66;03m# work out origin of property from arguments\u001b[39;00m\n",
      "File \u001b[0;32m/nvme/scratch/work/austind/GALFIND/galfind/Catalogue_Base.py:138\u001b[0m, in \u001b[0;36mCatalogue_Base.__getattr__\u001b[0;34m(self, property_name, origin)\u001b[0m\n\u001b[1;32m    136\u001b[0m     \u001b[38;5;28;01mreturn\u001b[39;00m \u001b[38;5;28mself\u001b[39m\u001b[38;5;241m.\u001b[39mcat_creator\u001b[38;5;241m.\u001b[39m\u001b[38;5;21m__getattribute__\u001b[39m(property_name)\n\u001b[1;32m    137\u001b[0m \u001b[38;5;28;01melse\u001b[39;00m:\n\u001b[0;32m--> 138\u001b[0m     attr_arr \u001b[38;5;241m=\u001b[39m [gal\u001b[38;5;241m.\u001b[39m\u001b[38;5;21m__getattr__\u001b[39m(property_name, origin) \u001b[38;5;28;01mfor\u001b[39;00m gal \u001b[38;5;129;01min\u001b[39;00m \u001b[38;5;28mself\u001b[39m]\n\u001b[1;32m    139\u001b[0m     \u001b[38;5;66;03m# sort the units\u001b[39;00m\n\u001b[1;32m    140\u001b[0m     \u001b[38;5;28;01mif\u001b[39;00m \u001b[38;5;28mall\u001b[39m(\n\u001b[1;32m    141\u001b[0m         \u001b[38;5;28mtype\u001b[39m(attr) \u001b[38;5;129;01min\u001b[39;00m [u\u001b[38;5;241m.\u001b[39mQuantity, u\u001b[38;5;241m.\u001b[39mMagnitude, u\u001b[38;5;241m.\u001b[39mDex]\n\u001b[1;32m    142\u001b[0m         \u001b[38;5;28;01mfor\u001b[39;00m attr \u001b[38;5;129;01min\u001b[39;00m attr_arr\n\u001b[1;32m    143\u001b[0m     ):\n",
      "File \u001b[0;32m/nvme/scratch/work/austind/GALFIND/galfind/Catalogue_Base.py:138\u001b[0m, in \u001b[0;36m<listcomp>\u001b[0;34m(.0)\u001b[0m\n\u001b[1;32m    136\u001b[0m     \u001b[38;5;28;01mreturn\u001b[39;00m \u001b[38;5;28mself\u001b[39m\u001b[38;5;241m.\u001b[39mcat_creator\u001b[38;5;241m.\u001b[39m\u001b[38;5;21m__getattribute__\u001b[39m(property_name)\n\u001b[1;32m    137\u001b[0m \u001b[38;5;28;01melse\u001b[39;00m:\n\u001b[0;32m--> 138\u001b[0m     attr_arr \u001b[38;5;241m=\u001b[39m [\u001b[43mgal\u001b[49m\u001b[38;5;241;43m.\u001b[39;49m\u001b[38;5;21;43m__getattr__\u001b[39;49m\u001b[43m(\u001b[49m\u001b[43mproperty_name\u001b[49m\u001b[43m,\u001b[49m\u001b[43m \u001b[49m\u001b[43morigin\u001b[49m\u001b[43m)\u001b[49m \u001b[38;5;28;01mfor\u001b[39;00m gal \u001b[38;5;129;01min\u001b[39;00m \u001b[38;5;28mself\u001b[39m]\n\u001b[1;32m    139\u001b[0m     \u001b[38;5;66;03m# sort the units\u001b[39;00m\n\u001b[1;32m    140\u001b[0m     \u001b[38;5;28;01mif\u001b[39;00m \u001b[38;5;28mall\u001b[39m(\n\u001b[1;32m    141\u001b[0m         \u001b[38;5;28mtype\u001b[39m(attr) \u001b[38;5;129;01min\u001b[39;00m [u\u001b[38;5;241m.\u001b[39mQuantity, u\u001b[38;5;241m.\u001b[39mMagnitude, u\u001b[38;5;241m.\u001b[39mDex]\n\u001b[1;32m    142\u001b[0m         \u001b[38;5;28;01mfor\u001b[39;00m attr \u001b[38;5;129;01min\u001b[39;00m attr_arr\n\u001b[1;32m    143\u001b[0m     ):\n",
      "File \u001b[0;32m/nvme/scratch/work/austind/GALFIND/galfind/Galaxy.py:184\u001b[0m, in \u001b[0;36mGalaxy.__getattr__\u001b[0;34m(self, property_name, origin)\u001b[0m\n\u001b[1;32m    180\u001b[0m             \u001b[38;5;28;01mpass\u001b[39;00m\n\u001b[1;32m    181\u001b[0m             \u001b[38;5;66;03m# galfind_logger.critical(\u001b[39;00m\n\u001b[1;32m    182\u001b[0m             \u001b[38;5;66;03m#     f\"Galaxy {self.ID=} has no {property_name=}!\"\u001b[39;00m\n\u001b[1;32m    183\u001b[0m             \u001b[38;5;66;03m# )\u001b[39;00m\n\u001b[0;32m--> 184\u001b[0m         \u001b[38;5;28;01mraise\u001b[39;00m \u001b[38;5;167;01mAttributeError\u001b[39;00m\n\u001b[1;32m    185\u001b[0m \u001b[38;5;28;01melse\u001b[39;00m:\n\u001b[1;32m    186\u001b[0m     \u001b[38;5;28;01mreturn\u001b[39;00m \u001b[38;5;28mself\u001b[39m\u001b[38;5;241m.\u001b[39mphot\u001b[38;5;241m.\u001b[39m\u001b[38;5;21m__getattr__\u001b[39m(property_name, origin)\n",
      "\u001b[0;31mAttributeError\u001b[0m: "
     ]
    }
   ],
   "source": [
    "# perform EPOCHS selection\n",
    "JOF_cat.select_Kokorev24_LRDs(0.32 * u.arcsec)"
   ]
  },
  {
   "cell_type": "markdown",
   "metadata": {},
   "source": [
    "Let's have a look at how this changes the `Catalogue` print statement."
   ]
  },
  {
   "cell_type": "code",
   "execution_count": null,
   "metadata": {},
   "outputs": [],
   "source": [
    "print(JOF_cat)"
   ]
  },
  {
   "cell_type": "markdown",
   "metadata": {},
   "source": [
    "Once the selection has been run for the catalogue, it is saved in the fits catalogue and can be simply loaded back in immediately when initializing the catalogue."
   ]
  },
  {
   "cell_type": "code",
   "execution_count": null,
   "metadata": {},
   "outputs": [],
   "source": []
  },
  {
   "cell_type": "markdown",
   "metadata": {},
   "source": [
    "If you attempt to load in a selection column that doesn't exist, a nice error message will appear that asks you to first run selection."
   ]
  },
  {
   "cell_type": "code",
   "execution_count": null,
   "metadata": {},
   "outputs": [],
   "source": []
  },
  {
   "cell_type": "markdown",
   "metadata": {},
   "source": [
    "Additionally, if you try to select galaxies on a cropped catalogue, this will also not work."
   ]
  },
  {
   "cell_type": "code",
   "execution_count": null,
   "metadata": {},
   "outputs": [],
   "source": []
  }
 ],
 "metadata": {
  "kernelspec": {
   "display_name": "more_and_more_galfind",
   "language": "python",
   "name": "python3"
  },
  "language_info": {
   "codemirror_mode": {
    "name": "ipython",
    "version": 3
   },
   "file_extension": ".py",
   "mimetype": "text/x-python",
   "name": "python",
   "nbconvert_exporter": "python",
   "pygments_lexer": "ipython3",
   "version": "3.9.20"
  }
 },
 "nbformat": 4,
 "nbformat_minor": 2
}
