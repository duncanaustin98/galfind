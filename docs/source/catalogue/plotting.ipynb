{
 "cells": [
  {
   "cell_type": "markdown",
   "metadata": {},
   "source": [
    "# Plotting results from the catalogue\n",
    "\n",
    "In this notebook, we shall take a look at plotting results from the JOF EPOCHS sample (using the NIRCam data only for simplicity). We shall start by first loading in the catalogue and sample as usual."
   ]
  },
  {
   "cell_type": "code",
   "execution_count": 1,
   "metadata": {},
   "outputs": [
    {
     "name": "stdout",
     "output_type": "stream",
     "text": [
      "Reading GALFIND config file from: /nvme/scratch/work/austind/GALFIND/galfind/../configs/galfind_config.ini\n"
     ]
    },
    {
     "name": "stderr",
     "output_type": "stream",
     "text": [
      "WARNING:galfind:Aperture corrections for VISTA not found in /nvme/scratch/work/austind/GALFIND/galfind/Aperture_corrections/VISTA_aper_corr.txt\n",
      "WARNING:galfind:Aperture corrections for VISTA not found in /nvme/scratch/work/austind/GALFIND/galfind/Aperture_corrections/VISTA_aper_corr.txt\n"
     ]
    },
    {
     "name": "stdout",
     "output_type": "stream",
     "text": [
      "Failed to `import dust_attenuation`\n",
      "Install from the repo with $ pip install git+https://github.com/karllark/dust_attenuation.git\n"
     ]
    }
   ],
   "source": [
    "from galfind import Catalogue, EPOCHS_Selector, EAZY\n",
    "from galfind.Data import morgan_version_to_dir\n",
    "from galfind import config\n",
    "\n",
    "import astropy.units as u\n",
    "import matplotlib.pyplot as plt"
   ]
  },
  {
   "cell_type": "code",
   "execution_count": 2,
   "metadata": {},
   "outputs": [],
   "source": [
    "# Load in a JOF data object\n",
    "survey = \"JOF\"\n",
    "version = \"v11\"\n",
    "instrument_names = [\"NIRCam\"] \n",
    "aper_diams = [0.32] * u.arcsec\n",
    "forced_phot_band = [\"F277W\", \"F356W\", \"F444W\"]\n",
    "min_flux_pc_err = 10."
   ]
  },
  {
   "cell_type": "code",
   "execution_count": 3,
   "metadata": {},
   "outputs": [
    {
     "name": "stderr",
     "output_type": "stream",
     "text": [
      "INFO:galfind:Loaded aper_diams=<Quantity [0.32] arcsec> for F277W+F356W+F444W\n",
      "INFO:galfind:Combined mask for Stacked_Band_Data(NIRCam/F277W+F356W+F444W) already exists at /raid/scratch/work/austind/GALFIND_WORK/Masks/JOF/combined/JOF_F277W+F356W+F444W_auto.fits\n",
      "WARNING: hdu= was not specified but multiple tables are present, reading in first available table (hdu=1) [astropy.io.fits.connect]\n",
      "WARNING:astroquery:hdu= was not specified but multiple tables are present, reading in first available table (hdu=1)\n",
      "WARNING:galfind:Aperture correction columns already in /raid/scratch/work/austind/GALFIND_WORK/Catalogues/v11/NIRCam/JOF/(0.32)as/JOF_MASTER_Sel-F277W+F356W+F444W_v11.fits\n",
      "Calculating depths:   0%|          | 0/15 [00:00<?, ?it/s]\n",
      "INFO:galfind:Calculated/loaded depths for JOF v11 NIRCam\n",
      "INFO:galfind:Local depth columns already exist in /raid/scratch/work/austind/GALFIND_WORK/Catalogues/v11/NIRCam/JOF/(0.32)as/JOF_MASTER_Sel-F277W+F356W+F444W_v11.fits\n",
      "INFO:galfind:Catalogue cropped by EPOCHS_NIRCam_EAZY_fsps_larson_zfree_0.32as\n",
      "INFO:galfind:Loaded 'has_data_mask' from /raid/scratch/work/austind/GALFIND_WORK/Masks/JOF/has_data_mask/NIRCam/JOF_MASTER_Sel-F277W+F356W+F444W_v11.h5\n",
      "INFO:galfind:Making JOF v11 JOF_MASTER_Sel-F277W+F356W+F444W_v11 catalogue!\n",
      "WARNING:galfind:cat_aper_diams not in kwargs.keys()=dict_keys(['ZP', 'min_flux_pc_err'])! Setting to aper_diams=<Quantity [0.32] arcsec>\n",
      "WARNING:galfind:cat_aper_diams not in kwargs.keys()=dict_keys(['ZP', 'min_flux_pc_err'])! Setting to aper_diams=<Quantity [0.32] arcsec>\n",
      "WARNING:galfind:cat_aper_diams not in kwargs.keys()=dict_keys([])! Setting to aper_diams=<Quantity [0.32] arcsec>\n",
      "INFO:galfind:Made /raid/scratch/work/austind/GALFIND_WORK/Catalogues/v11/NIRCam/JOF/(0.32)as/JOF_MASTER_Sel-F277W+F356W+F444W_v11.fits catalogue!\n",
      "INFO:galfind:Making .in file for EAZY_fsps_larson_zmax=4.0 SED fitting for JOF v11 NIRCam\n",
      "INFO:galfind:Made .in file for EAZY_fsps_larson_zmax=4.0 SED fitting for JOF v11 NIRCam. \n",
      "INFO:galfind:Loading EAZY_fsps_larson property PDFs into JOF v11 NIRCam\n"
     ]
    },
    {
     "name": "stdout",
     "output_type": "stream",
     "text": [
      "Running SED fitting took 0.1s\n",
      "Loading properties and associated errors took 0.2s\n"
     ]
    },
    {
     "name": "stderr",
     "output_type": "stream",
     "text": [
      "Constructing redshift PDFs: 100%|██████████| 90/90 [00:00<00:00, 18203.57it/s]\n",
      "INFO:galfind:Finished loading EAZY_fsps_larson property PDFs into JOF v11 NIRCam\n",
      "INFO:galfind:Loading EAZY_fsps_larson SEDs into JOF v11 NIRCam\n",
      "Constructing SEDs: 100%|██████████| 90/90 [00:00<00:00, 16602.34it/s]\n",
      "INFO:galfind:Finished loading EAZY_fsps_larson SEDs into JOF v11 NIRCam\n",
      "INFO:galfind:Updating SED results in galfind catalogue object\n",
      "Updating galaxy SED results: 100%|██████████| 90/90 [00:00<00:00, 90006.52it/s]\n",
      "INFO:galfind:Making .in file for EAZY_fsps_larson_zmax=6.0 SED fitting for JOF v11 NIRCam\n",
      "INFO:galfind:Made .in file for EAZY_fsps_larson_zmax=6.0 SED fitting for JOF v11 NIRCam. \n",
      "INFO:galfind:Loading EAZY_fsps_larson property PDFs into JOF v11 NIRCam\n"
     ]
    },
    {
     "name": "stdout",
     "output_type": "stream",
     "text": [
      "Running SED fitting took 0.1s\n",
      "Loading properties and associated errors took 0.2s\n"
     ]
    },
    {
     "name": "stderr",
     "output_type": "stream",
     "text": [
      "Constructing redshift PDFs: 100%|██████████| 90/90 [00:00<00:00, 49892.59it/s]\n",
      "INFO:galfind:Finished loading EAZY_fsps_larson property PDFs into JOF v11 NIRCam\n",
      "INFO:galfind:Loading EAZY_fsps_larson SEDs into JOF v11 NIRCam\n",
      "Constructing SEDs: 100%|██████████| 90/90 [00:00<00:00, 20277.58it/s]\n",
      "INFO:galfind:Finished loading EAZY_fsps_larson SEDs into JOF v11 NIRCam\n",
      "INFO:galfind:Updating SED results in galfind catalogue object\n",
      "Updating galaxy SED results: 100%|██████████| 90/90 [00:00<00:00, 120180.63it/s]\n",
      "INFO:galfind:Making .in file for EAZY_fsps_larson_zfree SED fitting for JOF v11 NIRCam\n",
      "INFO:galfind:Made .in file for EAZY_fsps_larson_zfree SED fitting for JOF v11 NIRCam. \n",
      "INFO:galfind:Loading EAZY_fsps_larson property PDFs into JOF v11 NIRCam\n"
     ]
    },
    {
     "name": "stdout",
     "output_type": "stream",
     "text": [
      "Running SED fitting took 0.1s\n",
      "Loading properties and associated errors took 0.2s\n"
     ]
    },
    {
     "name": "stderr",
     "output_type": "stream",
     "text": [
      "Constructing redshift PDFs: 100%|██████████| 90/90 [00:00<00:00, 51039.39it/s]\n",
      "INFO:galfind:Finished loading EAZY_fsps_larson property PDFs into JOF v11 NIRCam\n",
      "INFO:galfind:Loading EAZY_fsps_larson SEDs into JOF v11 NIRCam\n",
      "Constructing SEDs: 100%|██████████| 90/90 [00:00<00:00, 20506.70it/s]\n",
      "INFO:galfind:Finished loading EAZY_fsps_larson SEDs into JOF v11 NIRCam\n",
      "INFO:galfind:Updating SED results in galfind catalogue object\n",
      "Updating galaxy SED results: 100%|██████████| 90/90 [00:00<00:00, 134050.91it/s]\n"
     ]
    }
   ],
   "source": [
    "SED_fit_params_arr = [\n",
    "        {\"templates\": \"fsps_larson\", \"lowz_zmax\": 4.0},\n",
    "        {\"templates\": \"fsps_larson\", \"lowz_zmax\": 6.0},\n",
    "        {\"templates\": \"fsps_larson\", \"lowz_zmax\": None}\n",
    "    ]\n",
    "\n",
    "cat = Catalogue.pipeline(\n",
    "    survey,\n",
    "    version,\n",
    "    instrument_names = instrument_names,\n",
    "    version_to_dir_dict = morgan_version_to_dir,\n",
    "    aper_diams = aper_diams,\n",
    "    forced_phot_band = forced_phot_band,\n",
    "    min_flux_pc_err = min_flux_pc_err,\n",
    "    crops = EPOCHS_Selector(aper_diams[0], EAZY(SED_fit_params_arr[-1]), allow_lowz=False)\n",
    ")\n",
    "\n",
    "# load EAZY SED fitting results\n",
    "for SED_fit_params in SED_fit_params_arr:\n",
    "    EAZY_fitter = EAZY(SED_fit_params)\n",
    "    EAZY_fitter(cat, aper_diams[0], load_PDFs = True, load_SEDs = True, update = True)"
   ]
  },
  {
   "cell_type": "markdown",
   "metadata": {},
   "source": [
    "## Example 1: Diagnostic photometry plots for a sample"
   ]
  },
  {
   "cell_type": "code",
   "execution_count": 4,
   "metadata": {},
   "outputs": [
    {
     "name": "stderr",
     "output_type": "stream",
     "text": [
      "/tmp/ipykernel_87175/2372278605.py:1: UserWarning: Style includes a parameter, 'backend_fallback', that is not related to style.  Ignoring this parameter.\n",
      "  plt.style.use(\n",
      "/tmp/ipykernel_87175/2372278605.py:1: UserWarning: Style includes a parameter, 'date.epoch', that is not related to style.  Ignoring this parameter.\n",
      "  plt.style.use(\n",
      "/tmp/ipykernel_87175/2372278605.py:1: UserWarning: Style includes a parameter, 'docstring.hardcopy', that is not related to style.  Ignoring this parameter.\n",
      "  plt.style.use(\n",
      "/tmp/ipykernel_87175/2372278605.py:1: UserWarning: Style includes a parameter, 'figure.max_open_warning', that is not related to style.  Ignoring this parameter.\n",
      "  plt.style.use(\n",
      "/tmp/ipykernel_87175/2372278605.py:1: UserWarning: Style includes a parameter, 'figure.raise_window', that is not related to style.  Ignoring this parameter.\n",
      "  plt.style.use(\n",
      "/tmp/ipykernel_87175/2372278605.py:1: UserWarning: Style includes a parameter, 'interactive', that is not related to style.  Ignoring this parameter.\n",
      "  plt.style.use(\n",
      "/tmp/ipykernel_87175/2372278605.py:1: UserWarning: Style includes a parameter, 'savefig.directory', that is not related to style.  Ignoring this parameter.\n",
      "  plt.style.use(\n",
      "/tmp/ipykernel_87175/2372278605.py:1: UserWarning: Style includes a parameter, 'timezone', that is not related to style.  Ignoring this parameter.\n",
      "  plt.style.use(\n",
      "/tmp/ipykernel_87175/2372278605.py:1: UserWarning: Style includes a parameter, 'tk.window_focus', that is not related to style.  Ignoring this parameter.\n",
      "  plt.style.use(\n",
      "/tmp/ipykernel_87175/2372278605.py:1: UserWarning: Style includes a parameter, 'toolbar', that is not related to style.  Ignoring this parameter.\n",
      "  plt.style.use(\n",
      "/tmp/ipykernel_87175/2372278605.py:1: UserWarning: Style includes a parameter, 'webagg.address', that is not related to style.  Ignoring this parameter.\n",
      "  plt.style.use(\n",
      "/tmp/ipykernel_87175/2372278605.py:1: UserWarning: Style includes a parameter, 'webagg.open_in_browser', that is not related to style.  Ignoring this parameter.\n",
      "  plt.style.use(\n",
      "/tmp/ipykernel_87175/2372278605.py:1: UserWarning: Style includes a parameter, 'webagg.port', that is not related to style.  Ignoring this parameter.\n",
      "  plt.style.use(\n",
      "/tmp/ipykernel_87175/2372278605.py:1: UserWarning: Style includes a parameter, 'webagg.port_retries', that is not related to style.  Ignoring this parameter.\n",
      "  plt.style.use(\n"
     ]
    }
   ],
   "source": [
    "plt.style.use(\n",
    "    f\"{config['DEFAULT']['GALFIND_DIR']}/galfind_style.mplstyle\"\n",
    ")"
   ]
  },
  {
   "cell_type": "code",
   "execution_count": null,
   "metadata": {},
   "outputs": [
    {
     "name": "stderr",
     "output_type": "stream",
     "text": [
      "INFO:galfind:Loading cat_colname='MAG_AUTO' from /raid/scratch/work/austind/GALFIND_WORK/Catalogues/v11/NIRCam/JOF/(0.32)as/JOF_MASTER_Sel-F277W+F356W+F444W_v11.fits saved as sex_MAG_AUTO!\n"
     ]
    },
    {
     "name": "stderr",
     "output_type": "stream",
     "text": [
      "WARNING: hdu= was not specified but multiple tables are present, reading in first available table (hdu=1) [astropy.io.fits.connect]\n",
      "WARNING:astroquery:hdu= was not specified but multiple tables are present, reading in first available table (hdu=1)\n",
      "INFO:galfind:Loaded MAG_AUTO from /raid/scratch/work/austind/GALFIND_WORK/Catalogues/v11/NIRCam/JOF/(0.32)as/JOF_MASTER_Sel-F277W+F356W+F444W_v11.fits saved as sex_MAG_AUTO for cat_band_properties[0].keys()=dict_keys(['F090W', 'F115W', 'F150W', 'F162M', 'F182M', 'F200W', 'F210M', 'F250M', 'F277W', 'F300M', 'F335M', 'F356W', 'F410M', 'F444W'])\n",
      "INFO:galfind:Loading cat_colname='FLUX_AUTO' from /raid/scratch/work/austind/GALFIND_WORK/Catalogues/v11/NIRCam/JOF/(0.32)as/JOF_MASTER_Sel-F277W+F356W+F444W_v11.fits saved as sex_FLUX_AUTO!\n",
      "WARNING: hdu= was not specified but multiple tables are present, reading in first available table (hdu=1) [astropy.io.fits.connect]\n",
      "WARNING:astroquery:hdu= was not specified but multiple tables are present, reading in first available table (hdu=1)\n",
      "INFO:galfind:Loaded FLUX_AUTO from /raid/scratch/work/austind/GALFIND_WORK/Catalogues/v11/NIRCam/JOF/(0.32)as/JOF_MASTER_Sel-F277W+F356W+F444W_v11.fits saved as sex_FLUX_AUTO for cat_band_properties[0].keys()=dict_keys(['F090W', 'F115W', 'F150W', 'F162M', 'F182M', 'F200W', 'F210M', 'F250M', 'F277W', 'F300M', 'F335M', 'F356W', 'F410M', 'F444W'])\n",
      "INFO:galfind:Loading cat_colname='KRON_RADIUS' from /raid/scratch/work/austind/GALFIND_WORK/Catalogues/v11/NIRCam/JOF/(0.32)as/JOF_MASTER_Sel-F277W+F356W+F444W_v11.fits saved as sex_KRON_RADIUS!\n",
      "WARNING: hdu= was not specified but multiple tables are present, reading in first available table (hdu=1) [astropy.io.fits.connect]\n",
      "WARNING:astroquery:hdu= was not specified but multiple tables are present, reading in first available table (hdu=1)\n",
      "INFO:galfind:Loaded KRON_RADIUS from /raid/scratch/work/austind/GALFIND_WORK/Catalogues/v11/NIRCam/JOF/(0.32)as/JOF_MASTER_Sel-F277W+F356W+F444W_v11.fits saved as sex_KRON_RADIUS for cat_band_properties[0].keys()=dict_keys(['F090W', 'F115W', 'F150W', 'F162M', 'F182M', 'F200W', 'F210M', 'F250M', 'F277W', 'F300M', 'F335M', 'F356W', 'F410M', 'F444W'])\n",
      "INFO:galfind:Loading cat_colname='A_IMAGE' from /raid/scratch/work/austind/GALFIND_WORK/Catalogues/v11/NIRCam/JOF/(0.32)as/JOF_MASTER_Sel-F277W+F356W+F444W_v11.fits saved as sex_A_IMAGE!\n",
      "WARNING: hdu= was not specified but multiple tables are present, reading in first available table (hdu=1) [astropy.io.fits.connect]\n",
      "WARNING:astroquery:hdu= was not specified but multiple tables are present, reading in first available table (hdu=1)\n",
      "INFO:galfind:Loading cat_colname='B_IMAGE' from /raid/scratch/work/austind/GALFIND_WORK/Catalogues/v11/NIRCam/JOF/(0.32)as/JOF_MASTER_Sel-F277W+F356W+F444W_v11.fits saved as sex_B_IMAGE!\n",
      "WARNING: hdu= was not specified but multiple tables are present, reading in first available table (hdu=1) [astropy.io.fits.connect]\n",
      "WARNING:astroquery:hdu= was not specified but multiple tables are present, reading in first available table (hdu=1)\n",
      "INFO:galfind:Loading cat_colname='THETA_IMAGE' from /raid/scratch/work/austind/GALFIND_WORK/Catalogues/v11/NIRCam/JOF/(0.32)as/JOF_MASTER_Sel-F277W+F356W+F444W_v11.fits saved as sex_THETA_IMAGE!\n",
      "WARNING: hdu= was not specified but multiple tables are present, reading in first available table (hdu=1) [astropy.io.fits.connect]\n",
      "WARNING:astroquery:hdu= was not specified but multiple tables are present, reading in first available table (hdu=1)\n",
      "INFO:galfind:Loading cat_colname='FLUX_RADIUS' from /raid/scratch/work/austind/GALFIND_WORK/Catalogues/v11/NIRCam/JOF/(0.32)as/JOF_MASTER_Sel-F277W+F356W+F444W_v11.fits saved as sex_Re!\n",
      "WARNING: hdu= was not specified but multiple tables are present, reading in first available table (hdu=1) [astropy.io.fits.connect]\n",
      "WARNING:astroquery:hdu= was not specified but multiple tables are present, reading in first available table (hdu=1)\n",
      "INFO:galfind:Loaded FLUX_RADIUS from /raid/scratch/work/austind/GALFIND_WORK/Catalogues/v11/NIRCam/JOF/(0.32)as/JOF_MASTER_Sel-F277W+F356W+F444W_v11.fits saved as sex_Re for cat_band_properties[0].keys()=dict_keys(['F090W', 'F115W', 'F150W', 'F162M', 'F182M', 'F200W', 'F210M', 'F250M', 'F277W', 'F300M', 'F335M', 'F356W', 'F410M', 'F444W'])\n",
      "Plotting photometry diagnostic plots:   0%|          | 0/90 [00:00<?, ?it/s]WARNING:galfind:This will not work if self.__class__.__name__ ='Photometry_obs' != 'Photometry_obs'\n",
      "/nvme/scratch/software/anaconda3/envs/more_and_more_galfind/lib/python3.9/site-packages/astropy/utils/masked/core.py:855: RuntimeWarning: invalid value encountered in log10\n",
      "  result = getattr(ufunc, method)(*unmasked, **kwargs)\n",
      "/nvme/scratch/work/austind/GALFIND/galfind/Galaxy.py:629: UserWarning: No artists with labels found to put in legend.  Note that artists whose label start with an underscore are ignored when legend() is called with no argument.\n",
      "  phot_ax.legend().remove()\n",
      "Plotting photometry diagnostic plots:   1%|          | 1/90 [00:02<04:11,  2.83s/it]WARNING:galfind:This will not work if self.__class__.__name__ ='Photometry_obs' != 'Photometry_obs'\n",
      "/nvme/scratch/work/austind/GALFIND/galfind/Galaxy.py:629: UserWarning: No artists with labels found to put in legend.  Note that artists whose label start with an underscore are ignored when legend() is called with no argument.\n",
      "  phot_ax.legend().remove()\n",
      "Plotting photometry diagnostic plots:   2%|▏         | 2/90 [00:05<04:15,  2.90s/it]/nvme/scratch/software/anaconda3/envs/more_and_more_galfind/lib/python3.9/site-packages/astropy/utils/masked/core.py:855: RuntimeWarning: invalid value encountered in log10\n",
      "  result = getattr(ufunc, method)(*unmasked, **kwargs)\n",
      "WARNING:galfind:This will not work if self.__class__.__name__ ='Photometry_obs' != 'Photometry_obs'\n",
      "/nvme/scratch/work/austind/GALFIND/galfind/Galaxy.py:629: UserWarning: No artists with labels found to put in legend.  Note that artists whose label start with an underscore are ignored when legend() is called with no argument.\n",
      "  phot_ax.legend().remove()\n",
      "Plotting photometry diagnostic plots:   3%|▎         | 3/90 [00:08<04:23,  3.03s/it]/nvme/scratch/software/anaconda3/envs/more_and_more_galfind/lib/python3.9/site-packages/astropy/units/function/logarithmic.py:66: RuntimeWarning: divide by zero encountered in log10\n",
      "  return dex.to(self._function_unit, np.log10(x))\n",
      "/nvme/scratch/software/anaconda3/envs/more_and_more_galfind/lib/python3.9/site-packages/astropy/utils/masked/core.py:855: RuntimeWarning: invalid value encountered in log10\n",
      "  result = getattr(ufunc, method)(*unmasked, **kwargs)\n",
      "WARNING:galfind:This will not work if self.__class__.__name__ ='Photometry_obs' != 'Photometry_obs'\n",
      "/nvme/scratch/work/austind/GALFIND/galfind/Galaxy.py:629: UserWarning: No artists with labels found to put in legend.  Note that artists whose label start with an underscore are ignored when legend() is called with no argument.\n",
      "  phot_ax.legend().remove()\n",
      "Plotting photometry diagnostic plots:   4%|▍         | 4/90 [00:11<04:13,  2.95s/it]/nvme/scratch/software/anaconda3/envs/more_and_more_galfind/lib/python3.9/site-packages/astropy/utils/masked/core.py:855: RuntimeWarning: invalid value encountered in log10\n",
      "  result = getattr(ufunc, method)(*unmasked, **kwargs)\n",
      "WARNING:galfind:This will not work if self.__class__.__name__ ='Photometry_obs' != 'Photometry_obs'\n",
      "/nvme/scratch/work/austind/GALFIND/galfind/Galaxy.py:629: UserWarning: No artists with labels found to put in legend.  Note that artists whose label start with an underscore are ignored when legend() is called with no argument.\n",
      "  phot_ax.legend().remove()\n",
      "Plotting photometry diagnostic plots:   6%|▌         | 5/90 [00:14<04:13,  2.99s/it]/nvme/scratch/software/anaconda3/envs/more_and_more_galfind/lib/python3.9/site-packages/astropy/utils/masked/core.py:855: RuntimeWarning: invalid value encountered in log10\n",
      "  result = getattr(ufunc, method)(*unmasked, **kwargs)\n",
      "WARNING:galfind:This will not work if self.__class__.__name__ ='Photometry_obs' != 'Photometry_obs'\n",
      "/nvme/scratch/work/austind/GALFIND/galfind/Galaxy.py:629: UserWarning: No artists with labels found to put in legend.  Note that artists whose label start with an underscore are ignored when legend() is called with no argument.\n",
      "  phot_ax.legend().remove()\n",
      "Plotting photometry diagnostic plots:   7%|▋         | 6/90 [00:18<04:20,  3.10s/it]/nvme/scratch/software/anaconda3/envs/more_and_more_galfind/lib/python3.9/site-packages/astropy/utils/masked/core.py:855: RuntimeWarning: invalid value encountered in log10\n",
      "  result = getattr(ufunc, method)(*unmasked, **kwargs)\n",
      "WARNING:galfind:This will not work if self.__class__.__name__ ='Photometry_obs' != 'Photometry_obs'\n",
      "/nvme/scratch/work/austind/GALFIND/galfind/Galaxy.py:629: UserWarning: No artists with labels found to put in legend.  Note that artists whose label start with an underscore are ignored when legend() is called with no argument.\n",
      "  phot_ax.legend().remove()\n",
      "Plotting photometry diagnostic plots:   8%|▊         | 7/90 [00:21<04:20,  3.14s/it]WARNING:galfind:This will not work if self.__class__.__name__ ='Photometry_obs' != 'Photometry_obs'\n",
      "/nvme/scratch/work/austind/GALFIND/galfind/Galaxy.py:629: UserWarning: No artists with labels found to put in legend.  Note that artists whose label start with an underscore are ignored when legend() is called with no argument.\n",
      "  phot_ax.legend().remove()\n",
      "Plotting photometry diagnostic plots:   9%|▉         | 8/90 [00:24<04:24,  3.23s/it]/nvme/scratch/software/anaconda3/envs/more_and_more_galfind/lib/python3.9/site-packages/astropy/utils/masked/core.py:855: RuntimeWarning: invalid value encountered in log10\n",
      "  result = getattr(ufunc, method)(*unmasked, **kwargs)\n",
      "WARNING:galfind:This will not work if self.__class__.__name__ ='Photometry_obs' != 'Photometry_obs'\n",
      "/nvme/scratch/work/austind/GALFIND/galfind/Galaxy.py:629: UserWarning: No artists with labels found to put in legend.  Note that artists whose label start with an underscore are ignored when legend() is called with no argument.\n",
      "  phot_ax.legend().remove()\n",
      "Plotting photometry diagnostic plots:  10%|█         | 9/90 [00:28<04:28,  3.31s/it]/nvme/scratch/software/anaconda3/envs/more_and_more_galfind/lib/python3.9/site-packages/astropy/utils/masked/core.py:855: RuntimeWarning: invalid value encountered in log10\n",
      "  result = getattr(ufunc, method)(*unmasked, **kwargs)\n",
      "WARNING:galfind:This will not work if self.__class__.__name__ ='Photometry_obs' != 'Photometry_obs'\n",
      "/nvme/scratch/work/austind/GALFIND/galfind/Galaxy.py:629: UserWarning: No artists with labels found to put in legend.  Note that artists whose label start with an underscore are ignored when legend() is called with no argument.\n",
      "  phot_ax.legend().remove()\n",
      "Plotting photometry diagnostic plots:  11%|█         | 10/90 [00:31<04:27,  3.34s/it]WARNING:galfind:This will not work if self.__class__.__name__ ='Photometry_obs' != 'Photometry_obs'\n",
      "/nvme/scratch/software/anaconda3/envs/more_and_more_galfind/lib/python3.9/site-packages/astropy/utils/masked/core.py:855: RuntimeWarning: invalid value encountered in log10\n",
      "  result = getattr(ufunc, method)(*unmasked, **kwargs)\n",
      "/nvme/scratch/work/austind/GALFIND/galfind/Galaxy.py:629: UserWarning: No artists with labels found to put in legend.  Note that artists whose label start with an underscore are ignored when legend() is called with no argument.\n",
      "  phot_ax.legend().remove()\n",
      "Plotting photometry diagnostic plots:  12%|█▏        | 11/90 [00:35<04:32,  3.45s/it]"
     ]
    }
   ],
   "source": [
    "cat.plot_phot_diagnostics(\n",
    "    aper_diams[0],\n",
    "    SED_arr = [EAZY_fitter],\n",
    "    zPDF_arr = [EAZY_fitter],\n",
    "    imshow_kwargs = {},\n",
    "    norm_kwargs = {},\n",
    "    aper_kwargs = {},\n",
    "    kron_kwargs = {},\n",
    "    n_cutout_rows = 2,\n",
    "    wav_unit = u.um,\n",
    "    flux_unit = u.ABmag,\n",
    "    overwrite = True,\n",
    ")"
   ]
  }
 ],
 "metadata": {
  "kernelspec": {
   "display_name": "more_and_more_galfind",
   "language": "python",
   "name": "python3"
  },
  "language_info": {
   "codemirror_mode": {
    "name": "ipython",
    "version": 3
   },
   "file_extension": ".py",
   "mimetype": "text/x-python",
   "name": "python",
   "nbconvert_exporter": "python",
   "pygments_lexer": "ipython3",
   "version": "3.9.20"
  }
 },
 "nbformat": 4,
 "nbformat_minor": 2
}
