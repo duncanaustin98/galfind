{
 "cells": [
  {
   "cell_type": "markdown",
   "metadata": {},
   "source": [
    "# Handling filter objects\n",
    "\n",
    "The most fundamental building block of photometric surveys lies in the bandpass filters used to conduct them. In this example we will learn how to use the `Filter` class which is used in (nearly) every use-case of the `galfind` code. We start by looking at the JWST/NIRCam/F444W band, which is very commonly used in both blank field and cluster surveys."
   ]
  },
  {
   "cell_type": "code",
   "execution_count": null,
   "metadata": {},
   "outputs": [],
   "source": [
    "# imports\n",
    "from galfind import Filter, Multiple_Filter\n",
    "\n",
    "# Example 1: Create a filter object from a filter name\n",
    "facility = \"JWST\"\n",
    "instrument = \"NIRCam\"\n",
    "filter_name = \"F444W\"\n",
    "filt = Filter.from_SVO(facility, instrument, filter_name)"
   ]
  }
 ],
 "metadata": {},
 "nbformat": 4,
 "nbformat_minor": 2
}
