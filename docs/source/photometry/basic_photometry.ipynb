{
 "cells": [
  {
   "cell_type": "markdown",
   "metadata": {},
   "source": [
    "# Photometry basics\n",
    "\n",
    "In this notebook, we will go over the basic functionality of the `Mock_Photometry` class including loading in a single object from a standard .fits catalogue, learning about its overridden operators and how to use them, and basic plotting.\n",
    "\n",
    "## Example 1: Loading in mock photometric data"
   ]
  },
  {
   "cell_type": "code",
   "execution_count": 1,
   "metadata": {},
   "outputs": [
    {
     "name": "stdout",
     "output_type": "stream",
     "text": [
      "Reading GALFIND config file from: /nvme/scratch/work/austind/GALFIND/galfind/../configs/galfind_config.ini\n"
     ]
    },
    {
     "name": "stderr",
     "output_type": "stream",
     "text": [
      "WARNING:galfind:Aperture corrections for VISTA not found in /nvme/scratch/work/austind/GALFIND/galfind/Aperture_corrections/VISTA_aper_corr.txt\n",
      "WARNING:galfind:Aperture corrections for VISTA not found in /nvme/scratch/work/austind/GALFIND/galfind/Aperture_corrections/VISTA_aper_corr.txt\n"
     ]
    },
    {
     "name": "stdout",
     "output_type": "stream",
     "text": [
      "Failed to `import dust_attenuation`\n",
      "Install from the repo with $ pip install git+https://github.com/karllark/dust_attenuation.git\n",
      "****************************************\n",
      "MULTIPLE_FILTER\n",
      "----------\n",
      "FACILITY: JWST\n",
      "INSTRUMENT: NIRCam\n",
      "FILTERS: ['F115W', 'F150W', 'F200W', 'F277W', 'F356W', 'F444W']\n",
      "****************************************\n",
      "\n"
     ]
    }
   ],
   "source": [
    "import astropy.units as u\n",
    "from galfind import Catalogue_Creator, Multiple_Filter, Mock_Photometry #, Multiple_Mock_Photometry\n",
    "\n",
    "instrument = Multiple_Filter.from_instrument(\"NIRCam\", excl_bands = [\"F070W\", \"F090W\"], keep_suffix = \"W\")\n",
    "print(instrument)\n"
   ]
  },
  {
   "cell_type": "markdown",
   "metadata": {},
   "source": [
    "## Example 2: Data manipulation within the Photometry class\n",
    "\n",
    "Trying out overridden operators."
   ]
  },
  {
   "cell_type": "markdown",
   "metadata": {},
   "source": [
    "## Example 3: Plotting the mock photometric data"
   ]
  }
 ],
 "metadata": {
  "kernelspec": {
   "display_name": "more_and_more_galfind",
   "language": "python",
   "name": "python3"
  },
  "language_info": {
   "codemirror_mode": {
    "name": "ipython",
    "version": 3
   },
   "file_extension": ".py",
   "mimetype": "text/x-python",
   "name": "python",
   "nbconvert_exporter": "python",
   "pygments_lexer": "ipython3",
   "version": "3.9.20"
  }
 },
 "nbformat": 4,
 "nbformat_minor": 2
}
