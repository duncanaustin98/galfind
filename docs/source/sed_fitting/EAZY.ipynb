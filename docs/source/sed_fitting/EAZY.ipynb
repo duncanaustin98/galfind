{
 "cells": [
  {
   "cell_type": "markdown",
   "metadata": {},
   "source": [
    "# EAZY-py\n",
    "\n",
    "After appropriately loading in the catalogue, it would be fantastic if we also had some properties for each source. The most basic quantity we can measure is the photometric redshift."
   ]
  },
  {
   "cell_type": "code",
   "execution_count": 1,
   "metadata": {},
   "outputs": [
    {
     "name": "stdout",
     "output_type": "stream",
     "text": [
      "Reading GALFIND config file from: /nvme/scratch/work/austind/GALFIND/galfind/../configs/galfind_config.ini\n"
     ]
    },
    {
     "name": "stderr",
     "output_type": "stream",
     "text": [
      "WARNING:galfind:Aperture corrections for VISTA not found in /nvme/scratch/work/austind/GALFIND/galfind/Aperture_corrections/VISTA_aper_corr.txt\n",
      "WARNING:galfind:Aperture corrections for VISTA not found in /nvme/scratch/work/austind/GALFIND/galfind/Aperture_corrections/VISTA_aper_corr.txt\n"
     ]
    },
    {
     "name": "stdout",
     "output_type": "stream",
     "text": [
      "Failed to `import dust_attenuation`\n",
      "Install from the repo with $ pip install git+https://github.com/karllark/dust_attenuation.git\n"
     ]
    }
   ],
   "source": [
    "import astropy.units as u\n",
    "from galfind import Catalogue_Creator, Data, EAZY\n",
    "from galfind.Data import morgan_version_to_dir"
   ]
  },
  {
   "cell_type": "code",
   "execution_count": 2,
   "metadata": {},
   "outputs": [
    {
     "name": "stderr",
     "output_type": "stream",
     "text": [
      "INFO:galfind:Loaded aper_diams=<Quantity [0.32] arcsec> for F277W+F356W+F444W\n",
      "INFO:galfind:Combined mask for NIRCam/F277W+F356W+F444W already exists at /raid/scratch/work/austind/GALFIND_WORK/Masks/JOF/combined/JOF_F277W+F356W+F444W_auto.fits\n"
     ]
    },
    {
     "name": "stdout",
     "output_type": "stream",
     "text": [
      "forced_phot_band\n",
      "phot_cat_path\n"
     ]
    },
    {
     "name": "stderr",
     "output_type": "stream",
     "text": [
      "WARNING: hdu= was not specified but multiple tables are present, reading in first available table (hdu=1) [astropy.io.fits.connect]\n",
      "WARNING:astroquery:hdu= was not specified but multiple tables are present, reading in first available table (hdu=1)\n"
     ]
    },
    {
     "name": "stdout",
     "output_type": "stream",
     "text": [
      "phot_cat_path\n"
     ]
    },
    {
     "name": "stderr",
     "output_type": "stream",
     "text": [
      "WARNING:galfind:Aperture correction columns already in /raid/scratch/work/austind/GALFIND_WORK/Catalogues/v11/NIRCam/JOF/(0.32)as/JOF_MASTER_Sel-F277W+F356W+F444W_v11.fits\n",
      "Calculating depths:   0%|          | 0/15 [00:00<?, ?it/s]\n",
      "INFO:galfind:Calculated/loaded depths for JOF v11 NIRCam\n",
      "INFO:galfind:Local depth columns already exist in /raid/scratch/work/austind/GALFIND_WORK/Catalogues/v11/NIRCam/JOF/(0.32)as/JOF_MASTER_Sel-F277W+F356W+F444W_v11.fits\n"
     ]
    }
   ],
   "source": [
    "# Load in a JOF data object\n",
    "survey = \"JOF\"\n",
    "version = \"v11\"\n",
    "instrument_names = [\"NIRCam\"]\n",
    "aper_diams = [0.32] * u.arcsec\n",
    "forced_phot_band = [\"F277W\", \"F356W\", \"F444W\"]\n",
    "min_flux_pc_err = 10.\n",
    "\n",
    "JOF_data = Data.pipeline(\n",
    "    survey, \n",
    "    version, \n",
    "    instrument_names = instrument_names, \n",
    "    version_to_dir_dict = morgan_version_to_dir,\n",
    "    aper_diams = aper_diams,\n",
    "    forced_phot_band = forced_phot_band,\n",
    "    min_flux_pc_err = min_flux_pc_err\n",
    ")"
   ]
  },
  {
   "cell_type": "code",
   "execution_count": 3,
   "metadata": {},
   "outputs": [
    {
     "name": "stderr",
     "output_type": "stream",
     "text": [
      "INFO:galfind:Making JOF v11 JOF_MASTER_Sel-F277W+F356W+F444W_v11 catalogue!\n",
      "WARNING:galfind:cat_aper_diams not in kwargs.keys()=dict_keys(['ZP', 'min_flux_pc_err'])! Setting to aper_diams=<Quantity [0.32] arcsec>\n",
      "WARNING:galfind:cat_aper_diams not in kwargs.keys()=dict_keys(['ZP', 'min_flux_pc_err'])! Setting to aper_diams=<Quantity [0.32] arcsec>\n",
      "INFO:galfind:Loaded 'has_data_mask' from /raid/scratch/work/austind/GALFIND_WORK/Masks/JOF/has_data_mask/JOF_MASTER_Sel-F277W+F356W+F444W_v11.h5\n",
      "WARNING:galfind:cat_aper_diams not in kwargs.keys()=dict_keys([])! Setting to aper_diams=<Quantity [0.32] arcsec>\n",
      "INFO:galfind:Made /raid/scratch/work/austind/GALFIND_WORK/Catalogues/v11/NIRCam/JOF/(0.32)as/JOF_MASTER_Sel-F277W+F356W+F444W_v11.fits catalogue!\n",
      "INFO:galfind:Making .in file for EAZY_fsps_larson_zfree SED fitting for JOF v11 NIRCam\n",
      "INFO:galfind:Made .in file for EAZY_fsps_larson_zfree SED fitting for JOF v11 NIRCam. \n"
     ]
    },
    {
     "ename": "TableMergeError",
     "evalue": "Merging column names resulted in duplicates: ['zbest_fsps_larson_zfree_1', 'zbest_16_fsps_larson_zfree_1', 'zbest_84_fsps_larson_zfree_1', 'chi2_best_fsps_larson_zfree_1', 'U_rf_flux_fsps_larson_zfree_1', 'U_rf_flux_err_fsps_larson_zfree_1', 'B_rf_flux_fsps_larson_zfree_1', 'B_rf_flux_err_fsps_larson_zfree_1', 'V_rf_flux_fsps_larson_zfree_1', 'V_rf_flux_err_fsps_larson_zfree_1', 'J_rf_flux_fsps_larson_zfree_1', 'J_rf_flux_err_fsps_larson_zfree_1', 'zbest_fsps_larson_zfree_2', 'zbest_16_fsps_larson_zfree_2', 'zbest_84_fsps_larson_zfree_2', 'chi2_best_fsps_larson_zfree_2', 'U_rf_flux_fsps_larson_zfree_2', 'U_rf_flux_err_fsps_larson_zfree_2', 'B_rf_flux_fsps_larson_zfree_2', 'B_rf_flux_err_fsps_larson_zfree_2', 'V_rf_flux_fsps_larson_zfree_2', 'V_rf_flux_err_fsps_larson_zfree_2', 'J_rf_flux_fsps_larson_zfree_2', 'J_rf_flux_err_fsps_larson_zfree_2'].  Change uniq_col_name or table_names args to fix this.",
     "output_type": "error",
     "traceback": [
      "\u001b[0;31m---------------------------------------------------------------------------\u001b[0m",
      "\u001b[0;31mTableMergeError\u001b[0m                           Traceback (most recent call last)",
      "Cell \u001b[0;32mIn[3], line 9\u001b[0m\n\u001b[1;32m      7\u001b[0m SED_fit_params \u001b[38;5;241m=\u001b[39m {\u001b[38;5;124m\"\u001b[39m\u001b[38;5;124mtemplates\u001b[39m\u001b[38;5;124m\"\u001b[39m: \u001b[38;5;124m\"\u001b[39m\u001b[38;5;124mfsps_larson\u001b[39m\u001b[38;5;124m\"\u001b[39m, \u001b[38;5;124m\"\u001b[39m\u001b[38;5;124mlowz_zmax\u001b[39m\u001b[38;5;124m\"\u001b[39m: \u001b[38;5;28;01mNone\u001b[39;00m}\n\u001b[1;32m      8\u001b[0m EAZY_fitter \u001b[38;5;241m=\u001b[39m EAZY(SED_fit_params)\n\u001b[0;32m----> 9\u001b[0m EAZY_SED_results_arr \u001b[38;5;241m=\u001b[39m \u001b[43mEAZY_fitter\u001b[49m\u001b[43m(\u001b[49m\u001b[43mcat\u001b[49m\u001b[43m,\u001b[49m\u001b[43m \u001b[49m\u001b[43maper_diams\u001b[49m\u001b[43m[\u001b[49m\u001b[38;5;241;43m0\u001b[39;49m\u001b[43m]\u001b[49m\u001b[43m)\u001b[49m\n",
      "File \u001b[0;32m/nvme/scratch/work/austind/GALFIND/galfind/SED_codes.py:162\u001b[0m, in \u001b[0;36mSED_code.__call__\u001b[0;34m(self, cat, aper_diam, save_SEDs, save_PDFs, load_PDFs, load_SEDs, timed, overwrite, update, **fit_kwargs)\u001b[0m\n\u001b[1;32m    153\u001b[0m     \u001b[38;5;28mself\u001b[39m\u001b[38;5;241m.\u001b[39mfit(\n\u001b[1;32m    154\u001b[0m         cat,\n\u001b[1;32m    155\u001b[0m         aper_diam,\n\u001b[0;32m   (...)\u001b[0m\n\u001b[1;32m    159\u001b[0m         \u001b[38;5;241m*\u001b[39m\u001b[38;5;241m*\u001b[39mfit_kwargs\n\u001b[1;32m    160\u001b[0m     )\n\u001b[1;32m    161\u001b[0m     \u001b[38;5;28mself\u001b[39m\u001b[38;5;241m.\u001b[39mmake_fits_from_out(out_path)\n\u001b[0;32m--> 162\u001b[0m     \u001b[38;5;28;43mself\u001b[39;49m\u001b[38;5;241;43m.\u001b[39;49m\u001b[43mupdate_fits_cat\u001b[49m\u001b[43m(\u001b[49m\u001b[43mcat\u001b[49m\u001b[43m,\u001b[49m\u001b[43m \u001b[49m\u001b[43mfits_out_path\u001b[49m\u001b[43m)\u001b[49m\n\u001b[1;32m    164\u001b[0m \u001b[38;5;66;03m# save PDF and SED paths in galfind catalogue object\u001b[39;00m\n\u001b[1;32m    165\u001b[0m \u001b[38;5;66;03m#cat.save_phot_PDF_paths(PDF_paths)\u001b[39;00m\n\u001b[1;32m    166\u001b[0m \u001b[38;5;66;03m#cat.save_phot_SED_paths(SED_paths)\u001b[39;00m\n\u001b[1;32m    168\u001b[0m \u001b[38;5;28;01mif\u001b[39;00m timed:\n",
      "File \u001b[0;32m/nvme/scratch/work/austind/GALFIND/galfind/SED_codes.py:407\u001b[0m, in \u001b[0;36mSED_code.update_fits_cat\u001b[0;34m(self, cat, fits_out_path)\u001b[0m\n\u001b[1;32m    404\u001b[0m     cat\u001b[38;5;241m.\u001b[39mwrite_hdu(SED_fitting_tab, hdu\u001b[38;5;241m=\u001b[39m\u001b[38;5;28mself\u001b[39m\u001b[38;5;241m.\u001b[39mhdu_name)\n\u001b[1;32m    405\u001b[0m \u001b[38;5;28;01melse\u001b[39;00m:\n\u001b[1;32m    406\u001b[0m     \u001b[38;5;66;03m# combine catalogues\u001b[39;00m\n\u001b[0;32m--> 407\u001b[0m     combined_tab \u001b[38;5;241m=\u001b[39m \u001b[43mjoin\u001b[49m\u001b[43m(\u001b[49m\n\u001b[1;32m    408\u001b[0m \u001b[43m        \u001b[49m\u001b[43morig_tab\u001b[49m\u001b[43m,\u001b[49m\n\u001b[1;32m    409\u001b[0m \u001b[43m        \u001b[49m\u001b[43mSED_fitting_tab\u001b[49m\u001b[43m,\u001b[49m\n\u001b[1;32m    410\u001b[0m \u001b[43m        \u001b[49m\u001b[43mkeys\u001b[49m\u001b[38;5;241;43m=\u001b[39;49m\u001b[38;5;28;43mself\u001b[39;49m\u001b[38;5;241;43m.\u001b[39;49m\u001b[43mID_label\u001b[49m\u001b[43m,\u001b[49m\n\u001b[1;32m    411\u001b[0m \u001b[43m        \u001b[49m\u001b[43mjoin_type\u001b[49m\u001b[38;5;241;43m=\u001b[39;49m\u001b[38;5;124;43m\"\u001b[39;49m\u001b[38;5;124;43mouter\u001b[39;49m\u001b[38;5;124;43m\"\u001b[39;49m\u001b[43m,\u001b[49m\n\u001b[1;32m    412\u001b[0m \u001b[43m    \u001b[49m\u001b[43m)\u001b[49m\n\u001b[1;32m    413\u001b[0m     cat\u001b[38;5;241m.\u001b[39mwrite_hdu(combined_tab, hdu\u001b[38;5;241m=\u001b[39m\u001b[38;5;28mself\u001b[39m\u001b[38;5;241m.\u001b[39mhdu_name)\n",
      "File \u001b[0;32m/nvme/scratch/software/anaconda3/envs/more_and_more_galfind/lib/python3.9/site-packages/astropy/table/operations.py:413\u001b[0m, in \u001b[0;36mjoin\u001b[0;34m(left, right, keys, join_type, keys_left, keys_right, uniq_col_name, table_names, metadata_conflicts, join_funcs)\u001b[0m\n\u001b[1;32m    410\u001b[0m     right \u001b[38;5;241m=\u001b[39m Table(right)\n\u001b[1;32m    412\u001b[0m col_name_map \u001b[38;5;241m=\u001b[39m OrderedDict()\n\u001b[0;32m--> 413\u001b[0m out \u001b[38;5;241m=\u001b[39m \u001b[43m_join\u001b[49m\u001b[43m(\u001b[49m\n\u001b[1;32m    414\u001b[0m \u001b[43m    \u001b[49m\u001b[43mleft\u001b[49m\u001b[43m,\u001b[49m\n\u001b[1;32m    415\u001b[0m \u001b[43m    \u001b[49m\u001b[43mright\u001b[49m\u001b[43m,\u001b[49m\n\u001b[1;32m    416\u001b[0m \u001b[43m    \u001b[49m\u001b[43mkeys\u001b[49m\u001b[43m,\u001b[49m\n\u001b[1;32m    417\u001b[0m \u001b[43m    \u001b[49m\u001b[43mjoin_type\u001b[49m\u001b[43m,\u001b[49m\n\u001b[1;32m    418\u001b[0m \u001b[43m    \u001b[49m\u001b[43muniq_col_name\u001b[49m\u001b[43m,\u001b[49m\n\u001b[1;32m    419\u001b[0m \u001b[43m    \u001b[49m\u001b[43mtable_names\u001b[49m\u001b[43m,\u001b[49m\n\u001b[1;32m    420\u001b[0m \u001b[43m    \u001b[49m\u001b[43mcol_name_map\u001b[49m\u001b[43m,\u001b[49m\n\u001b[1;32m    421\u001b[0m \u001b[43m    \u001b[49m\u001b[43mmetadata_conflicts\u001b[49m\u001b[43m,\u001b[49m\n\u001b[1;32m    422\u001b[0m \u001b[43m    \u001b[49m\u001b[43mjoin_funcs\u001b[49m\u001b[43m,\u001b[49m\n\u001b[1;32m    423\u001b[0m \u001b[43m    \u001b[49m\u001b[43mkeys_left\u001b[49m\u001b[38;5;241;43m=\u001b[39;49m\u001b[43mkeys_left\u001b[49m\u001b[43m,\u001b[49m\n\u001b[1;32m    424\u001b[0m \u001b[43m    \u001b[49m\u001b[43mkeys_right\u001b[49m\u001b[38;5;241;43m=\u001b[39;49m\u001b[43mkeys_right\u001b[49m\u001b[43m,\u001b[49m\n\u001b[1;32m    425\u001b[0m \u001b[43m\u001b[49m\u001b[43m)\u001b[49m\n\u001b[1;32m    427\u001b[0m \u001b[38;5;66;03m# Merge the column and table meta data. Table subclasses might override\u001b[39;00m\n\u001b[1;32m    428\u001b[0m \u001b[38;5;66;03m# these methods for custom merge behavior.\u001b[39;00m\n\u001b[1;32m    429\u001b[0m _merge_table_meta(out, [left, right], metadata_conflicts\u001b[38;5;241m=\u001b[39mmetadata_conflicts)\n",
      "File \u001b[0;32m/nvme/scratch/software/anaconda3/envs/more_and_more_galfind/lib/python3.9/site-packages/astropy/table/operations.py:1239\u001b[0m, in \u001b[0;36m_join\u001b[0;34m(left, right, keys, join_type, uniq_col_name, table_names, col_name_map, metadata_conflicts, join_funcs, keys_left, keys_right)\u001b[0m\n\u001b[1;32m   1236\u001b[0m     right \u001b[38;5;241m=\u001b[39m right_orig\n\u001b[1;32m   1238\u001b[0m \u001b[38;5;66;03m# Joined array dtype as a list of descr (name, type_str, shape) tuples\u001b[39;00m\n\u001b[0;32m-> 1239\u001b[0m col_name_map \u001b[38;5;241m=\u001b[39m \u001b[43mget_col_name_map\u001b[49m\u001b[43m(\u001b[49m\u001b[43m[\u001b[49m\u001b[43mleft\u001b[49m\u001b[43m,\u001b[49m\u001b[43m \u001b[49m\u001b[43mright\u001b[49m\u001b[43m]\u001b[49m\u001b[43m,\u001b[49m\u001b[43m \u001b[49m\u001b[43mkeys\u001b[49m\u001b[43m,\u001b[49m\u001b[43m \u001b[49m\u001b[43muniq_col_name\u001b[49m\u001b[43m,\u001b[49m\u001b[43m \u001b[49m\u001b[43mtable_names\u001b[49m\u001b[43m)\u001b[49m\n\u001b[1;32m   1240\u001b[0m out_descrs \u001b[38;5;241m=\u001b[39m get_descrs([left, right], col_name_map)\n\u001b[1;32m   1242\u001b[0m \u001b[38;5;66;03m# Main inner loop in Cython to compute the cartesian product\u001b[39;00m\n\u001b[1;32m   1243\u001b[0m \u001b[38;5;66;03m# indices for the given join type\u001b[39;00m\n",
      "File \u001b[0;32m/nvme/scratch/software/anaconda3/envs/more_and_more_galfind/lib/python3.9/site-packages/astropy/table/operations.py:950\u001b[0m, in \u001b[0;36mget_col_name_map\u001b[0;34m(arrays, common_names, uniq_col_name, table_names)\u001b[0m\n\u001b[1;32m    948\u001b[0m repeated_names \u001b[38;5;241m=\u001b[39m [name \u001b[38;5;28;01mfor\u001b[39;00m name, count \u001b[38;5;129;01min\u001b[39;00m col_name_count\u001b[38;5;241m.\u001b[39mitems() \u001b[38;5;28;01mif\u001b[39;00m count \u001b[38;5;241m>\u001b[39m \u001b[38;5;241m1\u001b[39m]\n\u001b[1;32m    949\u001b[0m \u001b[38;5;28;01mif\u001b[39;00m repeated_names:\n\u001b[0;32m--> 950\u001b[0m     \u001b[38;5;28;01mraise\u001b[39;00m TableMergeError(\n\u001b[1;32m    951\u001b[0m         \u001b[38;5;124m\"\u001b[39m\u001b[38;5;124mMerging column names resulted in duplicates: \u001b[39m\u001b[38;5;132;01m{}\u001b[39;00m\u001b[38;5;124m.  \u001b[39m\u001b[38;5;124m\"\u001b[39m\n\u001b[1;32m    952\u001b[0m         \u001b[38;5;124m\"\u001b[39m\u001b[38;5;124mChange uniq_col_name or table_names args to fix this.\u001b[39m\u001b[38;5;124m\"\u001b[39m\u001b[38;5;241m.\u001b[39mformat(\n\u001b[1;32m    953\u001b[0m             repeated_names\n\u001b[1;32m    954\u001b[0m         )\n\u001b[1;32m    955\u001b[0m     )\n\u001b[1;32m    957\u001b[0m \u001b[38;5;66;03m# Convert col_name_map to a regular dict with tuple (immutable) values\u001b[39;00m\n\u001b[1;32m    958\u001b[0m col_name_map \u001b[38;5;241m=\u001b[39m OrderedDict((name, col_name_map[name]) \u001b[38;5;28;01mfor\u001b[39;00m name \u001b[38;5;129;01min\u001b[39;00m col_name_list)\n",
      "\u001b[0;31mTableMergeError\u001b[0m: Merging column names resulted in duplicates: ['zbest_fsps_larson_zfree_1', 'zbest_16_fsps_larson_zfree_1', 'zbest_84_fsps_larson_zfree_1', 'chi2_best_fsps_larson_zfree_1', 'U_rf_flux_fsps_larson_zfree_1', 'U_rf_flux_err_fsps_larson_zfree_1', 'B_rf_flux_fsps_larson_zfree_1', 'B_rf_flux_err_fsps_larson_zfree_1', 'V_rf_flux_fsps_larson_zfree_1', 'V_rf_flux_err_fsps_larson_zfree_1', 'J_rf_flux_fsps_larson_zfree_1', 'J_rf_flux_err_fsps_larson_zfree_1', 'zbest_fsps_larson_zfree_2', 'zbest_16_fsps_larson_zfree_2', 'zbest_84_fsps_larson_zfree_2', 'chi2_best_fsps_larson_zfree_2', 'U_rf_flux_fsps_larson_zfree_2', 'U_rf_flux_err_fsps_larson_zfree_2', 'B_rf_flux_fsps_larson_zfree_2', 'B_rf_flux_err_fsps_larson_zfree_2', 'V_rf_flux_fsps_larson_zfree_2', 'V_rf_flux_err_fsps_larson_zfree_2', 'J_rf_flux_fsps_larson_zfree_2', 'J_rf_flux_err_fsps_larson_zfree_2'].  Change uniq_col_name or table_names args to fix this."
     ]
    }
   ],
   "source": [
    "cat_path = JOF_data.phot_cat_path\n",
    "filterset = JOF_data.filterset\n",
    "# [0.32] * u.arcsec hardcoded for now\n",
    "cat_creator = Catalogue_Creator(survey, version, cat_path, filterset, aper_diams)\n",
    "cat = cat_creator()\n",
    "\n",
    "SED_fit_params = {\"templates\": \"fsps_larson\", \"lowz_zmax\": None}\n",
    "EAZY_fitter = EAZY(SED_fit_params)\n",
    "EAZY_SED_results_arr = EAZY_fitter(cat, aper_diams[0])"
   ]
  }
 ],
 "metadata": {
  "kernelspec": {
   "display_name": "more_and_more_galfind",
   "language": "python",
   "name": "python3"
  },
  "language_info": {
   "codemirror_mode": {
    "name": "ipython",
    "version": 3
   },
   "file_extension": ".py",
   "mimetype": "text/x-python",
   "name": "python",
   "nbconvert_exporter": "python",
   "pygments_lexer": "ipython3",
   "version": "3.9.20"
  }
 },
 "nbformat": 4,
 "nbformat_minor": 2
}
