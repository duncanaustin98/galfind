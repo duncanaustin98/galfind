{
 "cells": [
  {
   "cell_type": "markdown",
   "metadata": {},
   "source": [
    "# EAZY-py\n",
    "\n",
    "After appropriately loading in the catalogue, it would be fantastic if we also had some properties for each source. The most basic quantity we can measure is the photometric redshift."
   ]
  },
  {
   "cell_type": "code",
   "execution_count": 1,
   "metadata": {},
   "outputs": [
    {
     "name": "stdout",
     "output_type": "stream",
     "text": [
      "Reading GALFIND config file from: /nvme/scratch/work/austind/GALFIND/galfind/../configs/galfind_config.ini\n",
      "Failed to `import dust_attenuation`\n",
      "Install from the repo with $ pip install git+https://github.com/karllark/dust_attenuation.git\n"
     ]
    }
   ],
   "source": [
    "import astropy.units as u\n",
    "from galfind import Catalogue_Creator, Data, EAZY\n",
    "from galfind.Data import morgan_version_to_dir"
   ]
  },
  {
   "cell_type": "code",
   "execution_count": 2,
   "metadata": {},
   "outputs": [
    {
     "name": "stderr",
     "output_type": "stream",
     "text": [
      "INFO:galfind:Loaded aper_diams=<Quantity [0.32] arcsec> for F277W+F356W+F444W\n",
      "INFO:galfind:Combined mask for NIRCam/F277W+F356W+F444W already exists at /raid/scratch/work/austind/GALFIND_WORK/Masks/JOF/combined/JOF_F277W+F356W+F444W_auto.fits\n",
      "WARNING: hdu= was not specified but multiple tables are present, reading in first available table (hdu=1) [astropy.io.fits.connect]\n",
      "WARNING:astroquery:hdu= was not specified but multiple tables are present, reading in first available table (hdu=1)\n",
      "WARNING:galfind:Aperture correction columns already in /raid/scratch/work/austind/GALFIND_WORK/Catalogues/v11/NIRCam/JOF/(0.32)as/JOF_MASTER_Sel-F277W+F356W+F444W_v11.fits\n",
      "Calculating depths:   0%|          | 0/15 [00:00<?, ?it/s]\n",
      "INFO:galfind:Calculated/loaded depths for JOF v11 NIRCam\n",
      "INFO:galfind:Local depth columns already exist in /raid/scratch/work/austind/GALFIND_WORK/Catalogues/v11/NIRCam/JOF/(0.32)as/JOF_MASTER_Sel-F277W+F356W+F444W_v11.fits\n"
     ]
    }
   ],
   "source": [
    "# Load in a JOF data object\n",
    "survey = \"JOF\"\n",
    "version = \"v11\"\n",
    "instrument_names = [\"NIRCam\"]\n",
    "aper_diams = [0.32] * u.arcsec\n",
    "forced_phot_band = [\"F277W\", \"F356W\", \"F444W\"]\n",
    "min_flux_pc_err = 10.\n",
    "\n",
    "JOF_data = Data.pipeline(\n",
    "    survey, \n",
    "    version, \n",
    "    instrument_names = instrument_names, \n",
    "    version_to_dir_dict = morgan_version_to_dir,\n",
    "    aper_diams = aper_diams,\n",
    "    forced_phot_band = forced_phot_band,\n",
    "    min_flux_pc_err = min_flux_pc_err\n",
    ")"
   ]
  },
  {
   "cell_type": "code",
   "execution_count": 3,
   "metadata": {},
   "outputs": [
    {
     "name": "stderr",
     "output_type": "stream",
     "text": [
      "INFO:galfind:Making JOF v11 JOF_MASTER_Sel-F277W+F356W+F444W_v11 catalogue!\n",
      "WARNING:galfind:cat_aper_diams not in kwargs.keys()=dict_keys(['ZP', 'min_flux_pc_err'])! Setting to aper_diams=<Quantity [0.32] arcsec>\n",
      "WARNING:galfind:cat_aper_diams not in kwargs.keys()=dict_keys(['ZP', 'min_flux_pc_err'])! Setting to aper_diams=<Quantity [0.32] arcsec>\n",
      "INFO:galfind:Loaded 'has_data_mask' from /raid/scratch/work/austind/GALFIND_WORK/Masks/JOF/has_data_mask/JOF_MASTER_Sel-F277W+F356W+F444W_v11.h5\n",
      "WARNING:galfind:cat_aper_diams not in kwargs.keys()=dict_keys([])! Setting to aper_diams=<Quantity [0.32] arcsec>\n",
      "INFO:galfind:Made /raid/scratch/work/austind/GALFIND_WORK/Catalogues/v11/NIRCam/JOF/(0.32)as/JOF_MASTER_Sel-F277W+F356W+F444W_v11.fits catalogue!\n",
      "INFO:galfind:Making .in file for EAZY_fsps_larson_zfree SED fitting for JOF v11 NIRCam\n",
      "INFO:galfind:Made .in file for EAZY_fsps_larson_zfree SED fitting for JOF v11 NIRCam. \n",
      "INFO:galfind:Running EAZY fsps_larson zfree\n"
     ]
    },
    {
     "name": "stdout",
     "output_type": "stream",
     "text": [
      "/nvme/scratch/work/austind/GALFIND/galfind/../configs/zphot.param.default\n",
      "Read default param file: /nvme/scratch/work/austind/GALFIND/galfind/../configs/zphot.param.default\n",
      "Parameter default: ADD_CGM = y\n",
      "Parameter default: SIGMOID_PARAM1 = 3.4835\n",
      "Parameter default: SIGMOID_PARAM2 = 1.2581\n",
      "Parameter default: SIGMOID_PARAM3 = 18.249\n",
      "Parameter default: FITTER = nnls\n",
      "Parameter default: RENORM_TEMPLATES = y\n",
      "Parameter default: HESS_THRESHOLD = 1.0\n",
      "Read CATALOG_FILE: /raid/scratch/work/austind/GALFIND_WORK/EAZY/input/NIRCam/v11/JOF/JOF_MASTER_Sel-F277W+F356W+F444W_v11_0.32as.in\n"
     ]
    },
    {
     "name": "stderr",
     "output_type": "stream",
     "text": [
      "WARNING: No ra column found in catalog.  Some functionality might not be available. [eazy.photoz]\n",
      "WARNING:astroquery:No ra column found in catalog.  Some functionality might not be available.\n",
      "WARNING: No dec column found in catalog.  Some functionality might not be available. [eazy.photoz]\n",
      "WARNING:astroquery:No dec column found in catalog.  Some functionality might not be available.\n"
     ]
    },
    {
     "name": "stdout",
     "output_type": "stream",
     "text": [
      "   >>> NOBJ = 16335\n",
      "F1 E1 (  1): jwst_nircam_f090w\n",
      "F2 E2 (  2): jwst_nircam_f115w\n",
      "F3 E3 (  3): jwst_nircam_f150w\n",
      "F38 E38 ( 38): jwst_nircam_f162m\n",
      "F39 E39 ( 39): jwst_nircam_f182m\n",
      "F4 E4 (  4): jwst_nircam_f200w\n",
      "F40 E40 ( 40): jwst_nircam_f210m\n",
      "F41 E41 ( 41): jwst_nircam_f250m\n",
      "F5 E5 (  5): jwst_nircam_f277w\n",
      "F42 E42 ( 42): jwst_nircam_f300m\n",
      "F43 E43 ( 43): jwst_nircam_f335m\n",
      "F6 E6 (  6): jwst_nircam_f356w\n",
      "F7 E7 (  7): jwst_nircam_f410m\n",
      "F8 E8 (  8): jwst_nircam_f444w\n",
      "Set sys_err = 0.00 (positive=True)\n",
      "Template grid: /nvme/scratch/work/austind/GALFIND/galfind/../configs/EAZY_templates/templates/LarsonTemplates/tweak_fsps_QSF_12_v3_newtemplates.param (this may take some time)\n"
     ]
    },
    {
     "name": "stderr",
     "output_type": "stream",
     "text": [
      " 67%|██████▋   | 12/18 [07:54<04:00, 40.10s/it]/nvme/scratch/software/anaconda3/envs/more_and_more_galfind/lib/python3.9/site-packages/eazy/igm.py:264: RuntimeWarning: overflow encountered in exp\n",
      "  igmz = np.exp(-self.scale_tau*(tau_LC + tau_LS + tau_clip))\n",
      "/nvme/scratch/software/anaconda3/envs/more_and_more_galfind/lib/python3.9/site-packages/eazy/templates.py:1170: RuntimeWarning: invalid value encountered in multiply\n",
      "  fnu *= scale*igmz\n",
      "/nvme/scratch/software/anaconda3/envs/more_and_more_galfind/lib/python3.9/site-packages/eazy/igm.py:276: RuntimeWarning: invalid value encountered in multiply\n",
      "  return igmz * cgmz\n",
      "100%|██████████| 18/18 [12:29<00:00, 41.61s/it]\n"
     ]
    },
    {
     "name": "stdout",
     "output_type": "stream",
     "text": [
      "Template   0: fsps_QSF_12_v3_001.dat (NZ=1).\n",
      "Template   1: fsps_QSF_12_v3_002.dat (NZ=1).\n",
      "Template   2: fsps_QSF_12_v3_003.dat (NZ=1).\n",
      "Template   3: fsps_QSF_12_v3_004.dat (NZ=1).\n",
      "Template   4: fsps_QSF_12_v3_005.dat (NZ=1).\n",
      "Template   5: fsps_QSF_12_v3_006.dat (NZ=1).\n",
      "Template   6: fsps_QSF_12_v3_007.dat (NZ=1).\n",
      "Template   7: fsps_QSF_12_v3_008.dat (NZ=1).\n",
      "Template   8: fsps_QSF_12_v3_009.dat (NZ=1).\n",
      "Template   9: fsps_QSF_12_v3_010.dat (NZ=1).\n",
      "Template  10: fsps_QSF_12_v3_011.dat (NZ=1).\n",
      "Template  11: fsps_QSF_12_v3_012.dat (NZ=1).\n",
      "Template  12: binc100z001age6_cloudy.dat (NZ=1).\n",
      "Template  13: binc100z001age65_cloudy.dat (NZ=1).\n",
      "Template  14: binc100z001age7_cloudy.dat (NZ=1).\n",
      "Template  15: binc100z001age6.dat (NZ=1).\n",
      "Template  16: binc100z001age65.dat (NZ=1).\n",
      "Template  17: binc100z001age7.dat (NZ=1).\n",
      "Process templates: 749.146 s\n"
     ]
    },
    {
     "name": "stderr",
     "output_type": "stream",
     "text": [
      "326it [00:00, 537.78it/s]\n",
      "100%|██████████| 326/326 [33:53<00:00,  6.24s/it]\n"
     ]
    },
    {
     "name": "stdout",
     "output_type": "stream",
     "text": [
      "Compute best fits\n"
     ]
    },
    {
     "name": "stderr",
     "output_type": "stream",
     "text": [
      "WARNING: RA column None not found in catalog [eazy.photoz]\n",
      "WARNING:astroquery:RA column None not found in catalog\n",
      "WARNING: DEC column None not found in catalog [eazy.photoz]\n",
      "WARNING:astroquery:DEC column None not found in catalog\n",
      "INFO:galfind:Finished running EAZY fsps_larson zfree\n"
     ]
    },
    {
     "name": "stdout",
     "output_type": "stream",
     "text": [
      "fit_best: 8.7 s (n_proc=1,  NOBJ=15994)\n",
      "Fit 2042.6 s (n_proc=1, NOBJ=16335)\n",
      "Rest-frame filters:\n",
      "~~~~~~~~~~~~~~~~~~~ \n",
      "   0 REST_FRAME/maiz-apellaniz_Johnson_U.res 2006AJ....131.1184M lambda_c= 3.5900e+03 AB-Vega= 0.769 w95=862.3\n",
      "   1 REST_FRAME/maiz-apellaniz_Johnson_B.res 2006AJ....131.1184M lambda_c= 4.3722e+03 AB-Vega=-0.106 w95=1321.3\n",
      "   2 REST_FRAME/maiz-apellaniz_Johnson_V.res 2006AJ....131.1184M lambda_c= 5.4794e+03 AB-Vega= 0.002 w95=1369.1\n",
      "   3 2MASS/J.res lambda_c= 1.2358e+04 AB-Vega= 0.885 w95=2311.1\n"
     ]
    },
    {
     "name": "stderr",
     "output_type": "stream",
     "text": [
      "100%|██████████| 2/2 [01:29<00:00, 44.67s/it]\n",
      "INFO:galfind:Finished calculating UBVJ fluxes for EAZY fsps_larson zfree\n",
      "INFO:galfind:Written EAZY fsps_larson zfree fits out file to: /raid/scratch/work/austind/GALFIND_WORK/EAZY/output/NIRCam/v11/JOF//JOF_MASTER_Sel-F277W+F356W+F444W_v11_0.32as_EAZY_fsps_larson_zfree.fits\n"
     ]
    },
    {
     "name": "stdout",
     "output_type": "stream",
     "text": [
      " ... rest-frame flux: 89.4 s (n_proc=1,  NOBJ=16002)\n"
     ]
    },
    {
     "name": "stderr",
     "output_type": "stream",
     "text": [
      "Saving z-PDFs: 100%|██████████| 16335/16335 [00:03<00:00, 4721.76it/s]\n",
      "INFO:galfind:Finished saving z-PDFs for EAZY fsps_larson zfree\n",
      "Creating fit_data_arr for SED saving:   0%|          | 48/16335 [00:00<02:23, 113.78it/s]/nvme/scratch/software/anaconda3/envs/more_and_more_galfind/lib/python3.9/site-packages/eazy/templates.py:110: RuntimeWarning: divide by zero encountered in divide\n",
      "  lcz = np.atleast_1d(self.filter_wavelengths)/(1+z)\n",
      "/nvme/scratch/software/anaconda3/envs/more_and_more_galfind/lib/python3.9/site-packages/eazy/templates.py:111: RuntimeWarning: divide by zero encountered in divide\n",
      "  tef_z = self._spline(np.atleast_1d(self.filter_wavelengths)/(1+z))\n",
      "/nvme/scratch/software/anaconda3/envs/more_and_more_galfind/lib/python3.9/site-packages/eazy/igm.py:226: RuntimeWarning: divide by zero encountered in scalar power\n",
      "  tLCLAF_value[x0] = 0.3248 * ( (lobs[x0]/lamL)**1.2 - (1.0+zS)**(-9e-1) * (lobs[x0]/lamL)**2.1 )\n",
      "Creating fit_data_arr for SED saving: 100%|██████████| 16335/16335 [02:18<00:00, 117.97it/s]\n",
      "Creating wav_flux_arr: 100%|██████████| 16335/16335 [00:01<00:00, 8210.60it/s]\n",
      "INFO:galfind:Finished saving SEDs for EAZY fsps_larson zfree\n",
      "INFO:galfind:Written output pararmeters for EAZY fsps_larson zfree\n",
      "INFO:galfind:Writing table to /raid/scratch/work/austind/GALFIND_WORK/Catalogues/v11/NIRCam/JOF/(0.32)as/JOF_MASTER_Sel-F277W+F356W+F444W_v11.fits\n"
     ]
    },
    {
     "name": "stdout",
     "output_type": "stream",
     "text": [
      "Running SED fitting took 3035.4s\n"
     ]
    },
    {
     "ename": "NameError",
     "evalue": "name 'sed_code_to_name_dict' is not defined",
     "output_type": "error",
     "traceback": [
      "\u001b[0;31m---------------------------------------------------------------------------\u001b[0m",
      "\u001b[0;31mNameError\u001b[0m                                 Traceback (most recent call last)",
      "Cell \u001b[0;32mIn[3], line 8\u001b[0m\n\u001b[1;32m      6\u001b[0m SED_fit_params \u001b[38;5;241m=\u001b[39m {\u001b[38;5;124m\"\u001b[39m\u001b[38;5;124mtemplates\u001b[39m\u001b[38;5;124m\"\u001b[39m: \u001b[38;5;124m\"\u001b[39m\u001b[38;5;124mfsps_larson\u001b[39m\u001b[38;5;124m\"\u001b[39m, \u001b[38;5;124m\"\u001b[39m\u001b[38;5;124mlowz_zmax\u001b[39m\u001b[38;5;124m\"\u001b[39m: \u001b[38;5;28;01mNone\u001b[39;00m}\n\u001b[1;32m      7\u001b[0m EAZY_fitter \u001b[38;5;241m=\u001b[39m EAZY(SED_fit_params)\n\u001b[0;32m----> 8\u001b[0m EAZY_SED_results_arr \u001b[38;5;241m=\u001b[39m \u001b[43mEAZY_fitter\u001b[49m\u001b[43m(\u001b[49m\u001b[43mcat\u001b[49m\u001b[43m,\u001b[49m\u001b[43m \u001b[49m\u001b[43maper_diams\u001b[49m\u001b[43m[\u001b[49m\u001b[38;5;241;43m0\u001b[39;49m\u001b[43m]\u001b[49m\u001b[43m)\u001b[49m\n",
      "File \u001b[0;32m/nvme/scratch/work/austind/GALFIND/galfind/SED_codes.py:173\u001b[0m, in \u001b[0;36mSED_code.__call__\u001b[0;34m(self, cat, aper_diam, save_SEDs, save_PDFs, load_PDFs, load_SEDs, timed, overwrite, update, **fit_kwargs)\u001b[0m\n\u001b[1;32m    170\u001b[0m     mid \u001b[38;5;241m=\u001b[39m time\u001b[38;5;241m.\u001b[39mtime()\n\u001b[1;32m    171\u001b[0m     \u001b[38;5;28mprint\u001b[39m(\u001b[38;5;124mf\u001b[39m\u001b[38;5;124m\"\u001b[39m\u001b[38;5;124mRunning SED fitting took \u001b[39m\u001b[38;5;132;01m{\u001b[39;00m(mid\u001b[38;5;250m \u001b[39m\u001b[38;5;241m-\u001b[39m\u001b[38;5;250m \u001b[39mstart)\u001b[38;5;132;01m:\u001b[39;00m\u001b[38;5;124m.1f\u001b[39m\u001b[38;5;132;01m}\u001b[39;00m\u001b[38;5;124ms\u001b[39m\u001b[38;5;124m\"\u001b[39m)\n\u001b[0;32m--> 173\u001b[0m SED_fit_cat \u001b[38;5;241m=\u001b[39m \u001b[43mcat\u001b[49m\u001b[38;5;241;43m.\u001b[39;49m\u001b[43mopen_cat\u001b[49m\u001b[43m(\u001b[49m\n\u001b[1;32m    174\u001b[0m \u001b[43m    \u001b[49m\u001b[43mhdu\u001b[49m\u001b[38;5;241;43m=\u001b[39;49m\u001b[38;5;28;43mself\u001b[39;49m\u001b[38;5;241;43m.\u001b[39;49m\u001b[43mhdu_name\u001b[49m\u001b[43m,\u001b[49m\u001b[43m \u001b[49m\u001b[43mcropped\u001b[49m\u001b[38;5;241;43m=\u001b[39;49m\u001b[38;5;28;43;01mTrue\u001b[39;49;00m\u001b[43m,\u001b[49m\n\u001b[1;32m    175\u001b[0m \u001b[43m\u001b[49m\u001b[43m)\u001b[49m\n\u001b[1;32m    176\u001b[0m aper_phot_IDs \u001b[38;5;241m=\u001b[39m [gal\u001b[38;5;241m.\u001b[39mID \u001b[38;5;28;01mfor\u001b[39;00m gal \u001b[38;5;129;01min\u001b[39;00m cat]\n\u001b[1;32m    177\u001b[0m phot_arr \u001b[38;5;241m=\u001b[39m [gal\u001b[38;5;241m.\u001b[39maper_phot[aper_diam] \u001b[38;5;28;01mfor\u001b[39;00m gal \u001b[38;5;129;01min\u001b[39;00m cat]\n",
      "File \u001b[0;32m/nvme/scratch/work/austind/GALFIND/galfind/Catalogue_Base.py:576\u001b[0m, in \u001b[0;36mCatalogue_Base.open_cat\u001b[0;34m(self, cropped, hdu)\u001b[0m\n\u001b[1;32m    574\u001b[0m     keys_left \u001b[38;5;241m=\u001b[39m \u001b[38;5;28mself\u001b[39m\u001b[38;5;241m.\u001b[39mcat_creator\u001b[38;5;241m.\u001b[39mID_label\n\u001b[1;32m    575\u001b[0m \u001b[38;5;28;01melse\u001b[39;00m:\n\u001b[0;32m--> 576\u001b[0m     keys_left \u001b[38;5;241m=\u001b[39m \u001b[43msed_code_to_name_dict\u001b[49m[hdu\u001b[38;5;241m.\u001b[39msplit(\u001b[38;5;124m\"\u001b[39m\u001b[38;5;124m_\u001b[39m\u001b[38;5;124m\"\u001b[39m)[\u001b[38;5;241m0\u001b[39m]]\u001b[38;5;241m.\u001b[39mID_label\n\u001b[1;32m    577\u001b[0m combined_tab \u001b[38;5;241m=\u001b[39m join(\n\u001b[1;32m    578\u001b[0m     fits_cat, ID_tab, keys_left\u001b[38;5;241m=\u001b[39mkeys_left, keys_right\u001b[38;5;241m=\u001b[39m\u001b[38;5;124m\"\u001b[39m\u001b[38;5;124mIDs_temp\u001b[39m\u001b[38;5;124m\"\u001b[39m\n\u001b[1;32m    579\u001b[0m )\n\u001b[1;32m    580\u001b[0m combined_tab\u001b[38;5;241m.\u001b[39mremove_column(\u001b[38;5;124m\"\u001b[39m\u001b[38;5;124mIDs_temp\u001b[39m\u001b[38;5;124m\"\u001b[39m)\n",
      "\u001b[0;31mNameError\u001b[0m: name 'sed_code_to_name_dict' is not defined"
     ]
    }
   ],
   "source": [
    "cat_path = JOF_data.phot_cat_path\n",
    "filterset = JOF_data.filterset\n",
    "cat_creator = Catalogue_Creator(survey, version, cat_path, filterset, aper_diams)\n",
    "cat = cat_creator()\n",
    "\n",
    "SED_fit_params = {\"templates\": \"fsps_larson\", \"lowz_zmax\": None}\n",
    "EAZY_fitter = EAZY(SED_fit_params)\n",
    "EAZY_SED_results_arr = EAZY_fitter(cat, aper_diams[0])"
   ]
  }
 ],
 "metadata": {
  "kernelspec": {
   "display_name": "more_and_more_galfind",
   "language": "python",
   "name": "python3"
  },
  "language_info": {
   "codemirror_mode": {
    "name": "ipython",
    "version": 3
   },
   "file_extension": ".py",
   "mimetype": "text/x-python",
   "name": "python",
   "nbconvert_exporter": "python",
   "pygments_lexer": "ipython3",
   "version": "3.9.20"
  }
 },
 "nbformat": 4,
 "nbformat_minor": 2
}
